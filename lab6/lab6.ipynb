{
 "cells": [
  {
   "cell_type": "markdown",
   "id": "a33774e8-11b0-489d-9e90-90d7dc7277ef",
   "metadata": {},
   "source": [
    "# Лабораторная работа №6\n",
    "\n",
    "Допустим, вы работаете в добывающей компании «ГлавРосГосНефть». Нужно решить, где бурить новую скважину.\n",
    "\n",
    "Вам предоставлены пробы нефти в трёх регионах. Характеристики для каждой скважины в регионе уже известны. Постройте модель для определения региона, где добыча принесёт наибольшую прибыль. Проанализируйте возможную прибыль и риски техникой Bootstrap.\n",
    "\n",
    "*Арешин Станислав Олегович М8О-211M-21*"
   ]
  },
  {
   "cell_type": "code",
   "execution_count": 1,
   "id": "b95e8f0f-6611-4c1d-a04e-1a5881cd2191",
   "metadata": {},
   "outputs": [],
   "source": [
    "import pandas as pd\n",
    "import numpy as np\n",
    "import matplotlib.pyplot as plt\n",
    "import seaborn as sns\n",
    "import warnings\n",
    "\n",
    "sns.set_style(\"darkgrid\", {\"grid.color\": \".6\", \"grid.linestyle\": \":\"})\n",
    "warnings.filterwarnings(\"ignore\")\n",
    "\n",
    "%matplotlib inline"
   ]
  },
  {
   "cell_type": "markdown",
   "id": "14e4b29b-b115-4cd3-8a9c-d12dffada102",
   "metadata": {},
   "source": [
    "# Подготовка данных"
   ]
  },
  {
   "cell_type": "markdown",
   "id": "a484c4b6-de0f-4db2-aba4-88befaf1d335",
   "metadata": {},
   "source": [
    "## Регион №1"
   ]
  },
  {
   "cell_type": "code",
   "execution_count": 2,
   "id": "e2cf76a8-1103-4ab7-b268-8198a19184a6",
   "metadata": {},
   "outputs": [
    {
     "name": "stdout",
     "output_type": "stream",
     "text": [
      "(100000, 5)\n"
     ]
    },
    {
     "data": {
      "text/html": [
       "<div>\n",
       "<style scoped>\n",
       "    .dataframe tbody tr th:only-of-type {\n",
       "        vertical-align: middle;\n",
       "    }\n",
       "\n",
       "    .dataframe tbody tr th {\n",
       "        vertical-align: top;\n",
       "    }\n",
       "\n",
       "    .dataframe thead th {\n",
       "        text-align: right;\n",
       "    }\n",
       "</style>\n",
       "<table border=\"1\" class=\"dataframe\">\n",
       "  <thead>\n",
       "    <tr style=\"text-align: right;\">\n",
       "      <th></th>\n",
       "      <th>id</th>\n",
       "      <th>f0</th>\n",
       "      <th>f1</th>\n",
       "      <th>f2</th>\n",
       "      <th>product</th>\n",
       "    </tr>\n",
       "  </thead>\n",
       "  <tbody>\n",
       "    <tr>\n",
       "      <th>0</th>\n",
       "      <td>txEyH</td>\n",
       "      <td>0.705745</td>\n",
       "      <td>-0.497823</td>\n",
       "      <td>1.221170</td>\n",
       "      <td>105.280062</td>\n",
       "    </tr>\n",
       "    <tr>\n",
       "      <th>1</th>\n",
       "      <td>2acmU</td>\n",
       "      <td>1.334711</td>\n",
       "      <td>-0.340164</td>\n",
       "      <td>4.365080</td>\n",
       "      <td>73.037750</td>\n",
       "    </tr>\n",
       "    <tr>\n",
       "      <th>2</th>\n",
       "      <td>409Wp</td>\n",
       "      <td>1.022732</td>\n",
       "      <td>0.151990</td>\n",
       "      <td>1.419926</td>\n",
       "      <td>85.265647</td>\n",
       "    </tr>\n",
       "    <tr>\n",
       "      <th>3</th>\n",
       "      <td>iJLyR</td>\n",
       "      <td>-0.032172</td>\n",
       "      <td>0.139033</td>\n",
       "      <td>2.978566</td>\n",
       "      <td>168.620776</td>\n",
       "    </tr>\n",
       "    <tr>\n",
       "      <th>4</th>\n",
       "      <td>Xdl7t</td>\n",
       "      <td>1.988431</td>\n",
       "      <td>0.155413</td>\n",
       "      <td>4.751769</td>\n",
       "      <td>154.036647</td>\n",
       "    </tr>\n",
       "  </tbody>\n",
       "</table>\n",
       "</div>"
      ],
      "text/plain": [
       "      id        f0        f1        f2     product\n",
       "0  txEyH  0.705745 -0.497823  1.221170  105.280062\n",
       "1  2acmU  1.334711 -0.340164  4.365080   73.037750\n",
       "2  409Wp  1.022732  0.151990  1.419926   85.265647\n",
       "3  iJLyR -0.032172  0.139033  2.978566  168.620776\n",
       "4  Xdl7t  1.988431  0.155413  4.751769  154.036647"
      ]
     },
     "execution_count": 2,
     "metadata": {},
     "output_type": "execute_result"
    }
   ],
   "source": [
    "df1 = pd.read_csv('geo_data_0.csv')\n",
    "print(df1.shape)\n",
    "df1.head()"
   ]
  },
  {
   "cell_type": "code",
   "execution_count": 3,
   "id": "ca435ea7-725d-4a9a-bfca-ffc9b31a1393",
   "metadata": {},
   "outputs": [
    {
     "data": {
      "text/html": [
       "<div>\n",
       "<style scoped>\n",
       "    .dataframe tbody tr th:only-of-type {\n",
       "        vertical-align: middle;\n",
       "    }\n",
       "\n",
       "    .dataframe tbody tr th {\n",
       "        vertical-align: top;\n",
       "    }\n",
       "\n",
       "    .dataframe thead th {\n",
       "        text-align: right;\n",
       "    }\n",
       "</style>\n",
       "<table border=\"1\" class=\"dataframe\">\n",
       "  <thead>\n",
       "    <tr style=\"text-align: right;\">\n",
       "      <th></th>\n",
       "      <th>f0</th>\n",
       "      <th>f1</th>\n",
       "      <th>f2</th>\n",
       "      <th>product</th>\n",
       "    </tr>\n",
       "  </thead>\n",
       "  <tbody>\n",
       "    <tr>\n",
       "      <th>count</th>\n",
       "      <td>100000.000000</td>\n",
       "      <td>100000.000000</td>\n",
       "      <td>100000.000000</td>\n",
       "      <td>100000.000000</td>\n",
       "    </tr>\n",
       "    <tr>\n",
       "      <th>mean</th>\n",
       "      <td>0.500419</td>\n",
       "      <td>0.250143</td>\n",
       "      <td>2.502647</td>\n",
       "      <td>92.500000</td>\n",
       "    </tr>\n",
       "    <tr>\n",
       "      <th>std</th>\n",
       "      <td>0.871832</td>\n",
       "      <td>0.504433</td>\n",
       "      <td>3.248248</td>\n",
       "      <td>44.288691</td>\n",
       "    </tr>\n",
       "    <tr>\n",
       "      <th>min</th>\n",
       "      <td>-1.408605</td>\n",
       "      <td>-0.848218</td>\n",
       "      <td>-12.088328</td>\n",
       "      <td>0.000000</td>\n",
       "    </tr>\n",
       "    <tr>\n",
       "      <th>25%</th>\n",
       "      <td>-0.072580</td>\n",
       "      <td>-0.200881</td>\n",
       "      <td>0.287748</td>\n",
       "      <td>56.497507</td>\n",
       "    </tr>\n",
       "    <tr>\n",
       "      <th>50%</th>\n",
       "      <td>0.502360</td>\n",
       "      <td>0.250252</td>\n",
       "      <td>2.515969</td>\n",
       "      <td>91.849972</td>\n",
       "    </tr>\n",
       "    <tr>\n",
       "      <th>75%</th>\n",
       "      <td>1.073581</td>\n",
       "      <td>0.700646</td>\n",
       "      <td>4.715088</td>\n",
       "      <td>128.564089</td>\n",
       "    </tr>\n",
       "    <tr>\n",
       "      <th>max</th>\n",
       "      <td>2.362331</td>\n",
       "      <td>1.343769</td>\n",
       "      <td>16.003790</td>\n",
       "      <td>185.364347</td>\n",
       "    </tr>\n",
       "  </tbody>\n",
       "</table>\n",
       "</div>"
      ],
      "text/plain": [
       "                  f0             f1             f2        product\n",
       "count  100000.000000  100000.000000  100000.000000  100000.000000\n",
       "mean        0.500419       0.250143       2.502647      92.500000\n",
       "std         0.871832       0.504433       3.248248      44.288691\n",
       "min        -1.408605      -0.848218     -12.088328       0.000000\n",
       "25%        -0.072580      -0.200881       0.287748      56.497507\n",
       "50%         0.502360       0.250252       2.515969      91.849972\n",
       "75%         1.073581       0.700646       4.715088     128.564089\n",
       "max         2.362331       1.343769      16.003790     185.364347"
      ]
     },
     "execution_count": 3,
     "metadata": {},
     "output_type": "execute_result"
    }
   ],
   "source": [
    "df1.describe()"
   ]
  },
  {
   "cell_type": "code",
   "execution_count": 4,
   "id": "7aaf345c-36bf-4b13-9401-df717f801c3a",
   "metadata": {},
   "outputs": [
    {
     "name": "stdout",
     "output_type": "stream",
     "text": [
      "<class 'pandas.core.frame.DataFrame'>\n",
      "RangeIndex: 100000 entries, 0 to 99999\n",
      "Data columns (total 5 columns):\n",
      " #   Column   Non-Null Count   Dtype  \n",
      "---  ------   --------------   -----  \n",
      " 0   id       100000 non-null  object \n",
      " 1   f0       100000 non-null  float64\n",
      " 2   f1       100000 non-null  float64\n",
      " 3   f2       100000 non-null  float64\n",
      " 4   product  100000 non-null  float64\n",
      "dtypes: float64(4), object(1)\n",
      "memory usage: 3.8+ MB\n"
     ]
    }
   ],
   "source": [
    "df1.info()"
   ]
  },
  {
   "cell_type": "code",
   "execution_count": 5,
   "id": "19adf7db-acfa-40f5-aa58-001dfa881da3",
   "metadata": {},
   "outputs": [
    {
     "data": {
      "text/plain": [
       "1"
      ]
     },
     "execution_count": 5,
     "metadata": {},
     "output_type": "execute_result"
    }
   ],
   "source": [
    "len(df1[df1['product'] == 0])"
   ]
  },
  {
   "cell_type": "code",
   "execution_count": 6,
   "id": "700e4ec2-b3e8-4a4f-9686-80eaec04b842",
   "metadata": {},
   "outputs": [],
   "source": [
    "df1 = df1[df1['product'] != 0].copy()"
   ]
  },
  {
   "cell_type": "markdown",
   "id": "0550159e-f31e-4d15-aae4-8bdbef9d474a",
   "metadata": {},
   "source": [
    "## Регион №2"
   ]
  },
  {
   "cell_type": "code",
   "execution_count": 7,
   "id": "57481013-ad84-411e-a5c8-db13c2a8ca3f",
   "metadata": {},
   "outputs": [
    {
     "name": "stdout",
     "output_type": "stream",
     "text": [
      "(100000, 5)\n"
     ]
    },
    {
     "data": {
      "text/html": [
       "<div>\n",
       "<style scoped>\n",
       "    .dataframe tbody tr th:only-of-type {\n",
       "        vertical-align: middle;\n",
       "    }\n",
       "\n",
       "    .dataframe tbody tr th {\n",
       "        vertical-align: top;\n",
       "    }\n",
       "\n",
       "    .dataframe thead th {\n",
       "        text-align: right;\n",
       "    }\n",
       "</style>\n",
       "<table border=\"1\" class=\"dataframe\">\n",
       "  <thead>\n",
       "    <tr style=\"text-align: right;\">\n",
       "      <th></th>\n",
       "      <th>id</th>\n",
       "      <th>f0</th>\n",
       "      <th>f1</th>\n",
       "      <th>f2</th>\n",
       "      <th>product</th>\n",
       "    </tr>\n",
       "  </thead>\n",
       "  <tbody>\n",
       "    <tr>\n",
       "      <th>0</th>\n",
       "      <td>kBEdx</td>\n",
       "      <td>-15.001348</td>\n",
       "      <td>-8.276000</td>\n",
       "      <td>-0.005876</td>\n",
       "      <td>3.179103</td>\n",
       "    </tr>\n",
       "    <tr>\n",
       "      <th>1</th>\n",
       "      <td>62mP7</td>\n",
       "      <td>14.272088</td>\n",
       "      <td>-3.475083</td>\n",
       "      <td>0.999183</td>\n",
       "      <td>26.953261</td>\n",
       "    </tr>\n",
       "    <tr>\n",
       "      <th>2</th>\n",
       "      <td>vyE1P</td>\n",
       "      <td>6.263187</td>\n",
       "      <td>-5.948386</td>\n",
       "      <td>5.001160</td>\n",
       "      <td>134.766305</td>\n",
       "    </tr>\n",
       "    <tr>\n",
       "      <th>3</th>\n",
       "      <td>KcrkZ</td>\n",
       "      <td>-13.081196</td>\n",
       "      <td>-11.506057</td>\n",
       "      <td>4.999415</td>\n",
       "      <td>137.945408</td>\n",
       "    </tr>\n",
       "    <tr>\n",
       "      <th>4</th>\n",
       "      <td>AHL4O</td>\n",
       "      <td>12.702195</td>\n",
       "      <td>-8.147433</td>\n",
       "      <td>5.004363</td>\n",
       "      <td>134.766305</td>\n",
       "    </tr>\n",
       "  </tbody>\n",
       "</table>\n",
       "</div>"
      ],
      "text/plain": [
       "      id         f0         f1        f2     product\n",
       "0  kBEdx -15.001348  -8.276000 -0.005876    3.179103\n",
       "1  62mP7  14.272088  -3.475083  0.999183   26.953261\n",
       "2  vyE1P   6.263187  -5.948386  5.001160  134.766305\n",
       "3  KcrkZ -13.081196 -11.506057  4.999415  137.945408\n",
       "4  AHL4O  12.702195  -8.147433  5.004363  134.766305"
      ]
     },
     "execution_count": 7,
     "metadata": {},
     "output_type": "execute_result"
    }
   ],
   "source": [
    "df2 = pd.read_csv('geo_data_1.csv')\n",
    "print(df2.shape)\n",
    "df2.head()"
   ]
  },
  {
   "cell_type": "code",
   "execution_count": 8,
   "id": "ddc2a327-e7e5-449e-a263-fdb8af7f2e8d",
   "metadata": {},
   "outputs": [
    {
     "data": {
      "text/html": [
       "<div>\n",
       "<style scoped>\n",
       "    .dataframe tbody tr th:only-of-type {\n",
       "        vertical-align: middle;\n",
       "    }\n",
       "\n",
       "    .dataframe tbody tr th {\n",
       "        vertical-align: top;\n",
       "    }\n",
       "\n",
       "    .dataframe thead th {\n",
       "        text-align: right;\n",
       "    }\n",
       "</style>\n",
       "<table border=\"1\" class=\"dataframe\">\n",
       "  <thead>\n",
       "    <tr style=\"text-align: right;\">\n",
       "      <th></th>\n",
       "      <th>f0</th>\n",
       "      <th>f1</th>\n",
       "      <th>f2</th>\n",
       "      <th>product</th>\n",
       "    </tr>\n",
       "  </thead>\n",
       "  <tbody>\n",
       "    <tr>\n",
       "      <th>count</th>\n",
       "      <td>100000.000000</td>\n",
       "      <td>100000.000000</td>\n",
       "      <td>100000.000000</td>\n",
       "      <td>100000.000000</td>\n",
       "    </tr>\n",
       "    <tr>\n",
       "      <th>mean</th>\n",
       "      <td>1.141296</td>\n",
       "      <td>-4.796579</td>\n",
       "      <td>2.494541</td>\n",
       "      <td>68.825000</td>\n",
       "    </tr>\n",
       "    <tr>\n",
       "      <th>std</th>\n",
       "      <td>8.965932</td>\n",
       "      <td>5.119872</td>\n",
       "      <td>1.703572</td>\n",
       "      <td>45.944423</td>\n",
       "    </tr>\n",
       "    <tr>\n",
       "      <th>min</th>\n",
       "      <td>-31.609576</td>\n",
       "      <td>-26.358598</td>\n",
       "      <td>-0.018144</td>\n",
       "      <td>0.000000</td>\n",
       "    </tr>\n",
       "    <tr>\n",
       "      <th>25%</th>\n",
       "      <td>-6.298551</td>\n",
       "      <td>-8.267985</td>\n",
       "      <td>1.000021</td>\n",
       "      <td>26.953261</td>\n",
       "    </tr>\n",
       "    <tr>\n",
       "      <th>50%</th>\n",
       "      <td>1.153055</td>\n",
       "      <td>-4.813172</td>\n",
       "      <td>2.011479</td>\n",
       "      <td>57.085625</td>\n",
       "    </tr>\n",
       "    <tr>\n",
       "      <th>75%</th>\n",
       "      <td>8.621015</td>\n",
       "      <td>-1.332816</td>\n",
       "      <td>3.999904</td>\n",
       "      <td>107.813044</td>\n",
       "    </tr>\n",
       "    <tr>\n",
       "      <th>max</th>\n",
       "      <td>29.421755</td>\n",
       "      <td>18.734063</td>\n",
       "      <td>5.019721</td>\n",
       "      <td>137.945408</td>\n",
       "    </tr>\n",
       "  </tbody>\n",
       "</table>\n",
       "</div>"
      ],
      "text/plain": [
       "                  f0             f1             f2        product\n",
       "count  100000.000000  100000.000000  100000.000000  100000.000000\n",
       "mean        1.141296      -4.796579       2.494541      68.825000\n",
       "std         8.965932       5.119872       1.703572      45.944423\n",
       "min       -31.609576     -26.358598      -0.018144       0.000000\n",
       "25%        -6.298551      -8.267985       1.000021      26.953261\n",
       "50%         1.153055      -4.813172       2.011479      57.085625\n",
       "75%         8.621015      -1.332816       3.999904     107.813044\n",
       "max        29.421755      18.734063       5.019721     137.945408"
      ]
     },
     "execution_count": 8,
     "metadata": {},
     "output_type": "execute_result"
    }
   ],
   "source": [
    "df2.describe()"
   ]
  },
  {
   "cell_type": "code",
   "execution_count": 9,
   "id": "e5486008-0728-4e37-8c76-aade1a46d302",
   "metadata": {},
   "outputs": [
    {
     "name": "stdout",
     "output_type": "stream",
     "text": [
      "<class 'pandas.core.frame.DataFrame'>\n",
      "RangeIndex: 100000 entries, 0 to 99999\n",
      "Data columns (total 5 columns):\n",
      " #   Column   Non-Null Count   Dtype  \n",
      "---  ------   --------------   -----  \n",
      " 0   id       100000 non-null  object \n",
      " 1   f0       100000 non-null  float64\n",
      " 2   f1       100000 non-null  float64\n",
      " 3   f2       100000 non-null  float64\n",
      " 4   product  100000 non-null  float64\n",
      "dtypes: float64(4), object(1)\n",
      "memory usage: 3.8+ MB\n"
     ]
    }
   ],
   "source": [
    "df2.info()"
   ]
  },
  {
   "cell_type": "code",
   "execution_count": 10,
   "id": "a1aa245b-3a9c-4864-ae06-a91fd8489f0e",
   "metadata": {},
   "outputs": [
    {
     "data": {
      "text/plain": [
       "8235"
      ]
     },
     "execution_count": 10,
     "metadata": {},
     "output_type": "execute_result"
    }
   ],
   "source": [
    "len(df2[df2['product'] == 0])"
   ]
  },
  {
   "cell_type": "code",
   "execution_count": 11,
   "id": "1e8c77e0-5808-48b7-9698-04495c7d94f5",
   "metadata": {},
   "outputs": [],
   "source": [
    "df2 = df2[df2['product'] != 0].copy()"
   ]
  },
  {
   "cell_type": "markdown",
   "id": "50f8723c-140b-423d-857b-45ecacea3e7f",
   "metadata": {},
   "source": [
    "## Регион №3"
   ]
  },
  {
   "cell_type": "code",
   "execution_count": 12,
   "id": "3ce8e8d6-ee83-48a3-b594-a3c5176f26d5",
   "metadata": {},
   "outputs": [
    {
     "name": "stdout",
     "output_type": "stream",
     "text": [
      "(100000, 5)\n"
     ]
    },
    {
     "data": {
      "text/html": [
       "<div>\n",
       "<style scoped>\n",
       "    .dataframe tbody tr th:only-of-type {\n",
       "        vertical-align: middle;\n",
       "    }\n",
       "\n",
       "    .dataframe tbody tr th {\n",
       "        vertical-align: top;\n",
       "    }\n",
       "\n",
       "    .dataframe thead th {\n",
       "        text-align: right;\n",
       "    }\n",
       "</style>\n",
       "<table border=\"1\" class=\"dataframe\">\n",
       "  <thead>\n",
       "    <tr style=\"text-align: right;\">\n",
       "      <th></th>\n",
       "      <th>id</th>\n",
       "      <th>f0</th>\n",
       "      <th>f1</th>\n",
       "      <th>f2</th>\n",
       "      <th>product</th>\n",
       "    </tr>\n",
       "  </thead>\n",
       "  <tbody>\n",
       "    <tr>\n",
       "      <th>0</th>\n",
       "      <td>fwXo0</td>\n",
       "      <td>-1.146987</td>\n",
       "      <td>0.963328</td>\n",
       "      <td>-0.828965</td>\n",
       "      <td>27.758673</td>\n",
       "    </tr>\n",
       "    <tr>\n",
       "      <th>1</th>\n",
       "      <td>WJtFt</td>\n",
       "      <td>0.262778</td>\n",
       "      <td>0.269839</td>\n",
       "      <td>-2.530187</td>\n",
       "      <td>56.069697</td>\n",
       "    </tr>\n",
       "    <tr>\n",
       "      <th>2</th>\n",
       "      <td>ovLUW</td>\n",
       "      <td>0.194587</td>\n",
       "      <td>0.289035</td>\n",
       "      <td>-5.586433</td>\n",
       "      <td>62.871910</td>\n",
       "    </tr>\n",
       "    <tr>\n",
       "      <th>3</th>\n",
       "      <td>q6cA6</td>\n",
       "      <td>2.236060</td>\n",
       "      <td>-0.553760</td>\n",
       "      <td>0.930038</td>\n",
       "      <td>114.572842</td>\n",
       "    </tr>\n",
       "    <tr>\n",
       "      <th>4</th>\n",
       "      <td>WPMUX</td>\n",
       "      <td>-0.515993</td>\n",
       "      <td>1.716266</td>\n",
       "      <td>5.899011</td>\n",
       "      <td>149.600746</td>\n",
       "    </tr>\n",
       "  </tbody>\n",
       "</table>\n",
       "</div>"
      ],
      "text/plain": [
       "      id        f0        f1        f2     product\n",
       "0  fwXo0 -1.146987  0.963328 -0.828965   27.758673\n",
       "1  WJtFt  0.262778  0.269839 -2.530187   56.069697\n",
       "2  ovLUW  0.194587  0.289035 -5.586433   62.871910\n",
       "3  q6cA6  2.236060 -0.553760  0.930038  114.572842\n",
       "4  WPMUX -0.515993  1.716266  5.899011  149.600746"
      ]
     },
     "execution_count": 12,
     "metadata": {},
     "output_type": "execute_result"
    }
   ],
   "source": [
    "df3 = pd.read_csv('geo_data_2.csv')\n",
    "print(df3.shape)\n",
    "df3.head()"
   ]
  },
  {
   "cell_type": "code",
   "execution_count": 13,
   "id": "7154d8be-b163-46c4-8ae8-621f519b933b",
   "metadata": {},
   "outputs": [
    {
     "data": {
      "text/html": [
       "<div>\n",
       "<style scoped>\n",
       "    .dataframe tbody tr th:only-of-type {\n",
       "        vertical-align: middle;\n",
       "    }\n",
       "\n",
       "    .dataframe tbody tr th {\n",
       "        vertical-align: top;\n",
       "    }\n",
       "\n",
       "    .dataframe thead th {\n",
       "        text-align: right;\n",
       "    }\n",
       "</style>\n",
       "<table border=\"1\" class=\"dataframe\">\n",
       "  <thead>\n",
       "    <tr style=\"text-align: right;\">\n",
       "      <th></th>\n",
       "      <th>f0</th>\n",
       "      <th>f1</th>\n",
       "      <th>f2</th>\n",
       "      <th>product</th>\n",
       "    </tr>\n",
       "  </thead>\n",
       "  <tbody>\n",
       "    <tr>\n",
       "      <th>count</th>\n",
       "      <td>100000.000000</td>\n",
       "      <td>100000.000000</td>\n",
       "      <td>100000.000000</td>\n",
       "      <td>100000.000000</td>\n",
       "    </tr>\n",
       "    <tr>\n",
       "      <th>mean</th>\n",
       "      <td>0.002023</td>\n",
       "      <td>-0.002081</td>\n",
       "      <td>2.495128</td>\n",
       "      <td>95.000000</td>\n",
       "    </tr>\n",
       "    <tr>\n",
       "      <th>std</th>\n",
       "      <td>1.732045</td>\n",
       "      <td>1.730417</td>\n",
       "      <td>3.473445</td>\n",
       "      <td>44.749921</td>\n",
       "    </tr>\n",
       "    <tr>\n",
       "      <th>min</th>\n",
       "      <td>-8.760004</td>\n",
       "      <td>-7.084020</td>\n",
       "      <td>-11.970335</td>\n",
       "      <td>0.000000</td>\n",
       "    </tr>\n",
       "    <tr>\n",
       "      <th>25%</th>\n",
       "      <td>-1.162288</td>\n",
       "      <td>-1.174820</td>\n",
       "      <td>0.130359</td>\n",
       "      <td>59.450441</td>\n",
       "    </tr>\n",
       "    <tr>\n",
       "      <th>50%</th>\n",
       "      <td>0.009424</td>\n",
       "      <td>-0.009482</td>\n",
       "      <td>2.484236</td>\n",
       "      <td>94.925613</td>\n",
       "    </tr>\n",
       "    <tr>\n",
       "      <th>75%</th>\n",
       "      <td>1.158535</td>\n",
       "      <td>1.163678</td>\n",
       "      <td>4.858794</td>\n",
       "      <td>130.595027</td>\n",
       "    </tr>\n",
       "    <tr>\n",
       "      <th>max</th>\n",
       "      <td>7.238262</td>\n",
       "      <td>7.844801</td>\n",
       "      <td>16.739402</td>\n",
       "      <td>190.029838</td>\n",
       "    </tr>\n",
       "  </tbody>\n",
       "</table>\n",
       "</div>"
      ],
      "text/plain": [
       "                  f0             f1             f2        product\n",
       "count  100000.000000  100000.000000  100000.000000  100000.000000\n",
       "mean        0.002023      -0.002081       2.495128      95.000000\n",
       "std         1.732045       1.730417       3.473445      44.749921\n",
       "min        -8.760004      -7.084020     -11.970335       0.000000\n",
       "25%        -1.162288      -1.174820       0.130359      59.450441\n",
       "50%         0.009424      -0.009482       2.484236      94.925613\n",
       "75%         1.158535       1.163678       4.858794     130.595027\n",
       "max         7.238262       7.844801      16.739402     190.029838"
      ]
     },
     "execution_count": 13,
     "metadata": {},
     "output_type": "execute_result"
    }
   ],
   "source": [
    "df3.describe()"
   ]
  },
  {
   "cell_type": "code",
   "execution_count": 14,
   "id": "461096fb-6295-40a8-8157-0e223585feae",
   "metadata": {},
   "outputs": [
    {
     "name": "stdout",
     "output_type": "stream",
     "text": [
      "<class 'pandas.core.frame.DataFrame'>\n",
      "RangeIndex: 100000 entries, 0 to 99999\n",
      "Data columns (total 5 columns):\n",
      " #   Column   Non-Null Count   Dtype  \n",
      "---  ------   --------------   -----  \n",
      " 0   id       100000 non-null  object \n",
      " 1   f0       100000 non-null  float64\n",
      " 2   f1       100000 non-null  float64\n",
      " 3   f2       100000 non-null  float64\n",
      " 4   product  100000 non-null  float64\n",
      "dtypes: float64(4), object(1)\n",
      "memory usage: 3.8+ MB\n"
     ]
    }
   ],
   "source": [
    "df3.info()"
   ]
  },
  {
   "cell_type": "code",
   "execution_count": 15,
   "id": "8cd7e4a6-5166-43e5-bec9-eb74202db26a",
   "metadata": {},
   "outputs": [
    {
     "data": {
      "text/plain": [
       "1"
      ]
     },
     "execution_count": 15,
     "metadata": {},
     "output_type": "execute_result"
    }
   ],
   "source": [
    "len(df3[df3['product'] == 0])"
   ]
  },
  {
   "cell_type": "code",
   "execution_count": 16,
   "id": "3f690666-8263-4ec5-b420-efd40dcd8ba0",
   "metadata": {},
   "outputs": [],
   "source": [
    "df3 = df3[df3['product'] != 0].copy()"
   ]
  },
  {
   "cell_type": "markdown",
   "id": "8a509c25-a774-49b6-8bae-fea6bbec47f5",
   "metadata": {},
   "source": [
    "Пропусков нет, но есть \"пустые скважины\", где добыча 0. Это странно, я конечно не эксперт в области, но скорее всего это артефакты (например, пропущенные значения, ошибка заполнения), поэтому удалим такие скважины. В первом и третьем регионе их всего по 1 штуке, а вот во втором 8235, при этом всего 100000 данных, так что их удаление сильно не повлияет на качество решения. Типы приведены. Поле id уникальное, поэтому при обучении модели его использовать не будем.\n",
    "\n",
    "Судя по всему, данные не нормированы, а для линейных моделей важно, чтобы признаки были в одном масштабе, поэтому используем StandardScaler\n"
   ]
  },
  {
   "cell_type": "markdown",
   "id": "a1024bf7-a8ae-47a4-a29a-4447fd2bd382",
   "metadata": {},
   "source": [
    "# Построение моделей\n",
    "\n",
    "Используем Ridge регрессию с дефолтными параметрами для каждого из трех регионов."
   ]
  },
  {
   "cell_type": "markdown",
   "id": "9e6158c9-1f53-43d7-81fb-b38ce15c7263",
   "metadata": {},
   "source": [
    "## Модель №1\n",
    "\n",
    "Строим ридж регрессию для первой скважины. Трейн-тест 75-25."
   ]
  },
  {
   "cell_type": "code",
   "execution_count": 17,
   "id": "37d6f905-fdba-4858-bfbd-ac701c11bb53",
   "metadata": {},
   "outputs": [
    {
     "data": {
      "text/plain": [
       "((74999, 4), (25000, 4))"
      ]
     },
     "execution_count": 17,
     "metadata": {},
     "output_type": "execute_result"
    }
   ],
   "source": [
    "from sklearn.model_selection import train_test_split\n",
    "\n",
    "features = list(df1.columns[:-1])\n",
    "target = 'product'\n",
    "\n",
    "df1_train, df1_test, y1_train, y1_test = train_test_split(df1[features],\n",
    "                                                   df1[target],\n",
    "                                                   test_size=0.25,\n",
    "                                                   random_state= 42)\n",
    "\n",
    "df1_train.shape, df1_test.shape"
   ]
  },
  {
   "cell_type": "code",
   "execution_count": 18,
   "id": "55a873ab-239b-4008-a238-306778a7f997",
   "metadata": {},
   "outputs": [
    {
     "data": {
      "text/plain": [
       "['f0', 'f1', 'f2']"
      ]
     },
     "execution_count": 18,
     "metadata": {},
     "output_type": "execute_result"
    }
   ],
   "source": [
    "features_new = features[1:]\n",
    "features_new"
   ]
  },
  {
   "cell_type": "code",
   "execution_count": 19,
   "id": "29e65e68-cc9e-431e-a1df-9af352768eb0",
   "metadata": {},
   "outputs": [],
   "source": [
    "from sklearn.preprocessing import StandardScaler\n",
    "\n",
    "scaler = StandardScaler()\n",
    "\n",
    "X1_train = scaler.fit_transform(df1_train[features_new])\n",
    "X1_test = scaler.transform(df1_test[features_new])"
   ]
  },
  {
   "cell_type": "code",
   "execution_count": 20,
   "id": "556a6479-cffc-4477-853b-9e111f880d8f",
   "metadata": {},
   "outputs": [],
   "source": [
    "from sklearn.linear_model import Ridge\n",
    "\n",
    "model1 = Ridge(alpha=1)\n",
    "model1.fit(X1_train, y1_train)\n",
    "y1_pred = model1.predict(X1_test)"
   ]
  },
  {
   "cell_type": "code",
   "execution_count": 24,
   "id": "8c8da515-1a73-452e-8240-fbcdb13fb46f",
   "metadata": {},
   "outputs": [
    {
     "name": "stdout",
     "output_type": "stream",
     "text": [
      "Средний запас предсказанного сырья по региону для первого региона: 92.70001913894389\n",
      "Медианный запас предсказанного сырья по региону для первого региона: 92.75918778287956\n",
      "RMSE для первого региона: 37.87256989830748\n"
     ]
    }
   ],
   "source": [
    "from sklearn.metrics import mean_squared_error\n",
    "\n",
    "print(f'Средний запас предсказанного сырья по региону для первого региона: {y1_pred.mean()}')\n",
    "print(f'Медианный запас предсказанного сырья по региону для первого региона: {np.median(y1_pred)}')\n",
    "print(f'RMSE для первого региона: {np.sqrt(mean_squared_error(y1_test, y1_pred))}')"
   ]
  },
  {
   "cell_type": "code",
   "execution_count": 25,
   "id": "233ae9e4-0e57-4ead-972c-223fca4e98fe",
   "metadata": {},
   "outputs": [
    {
     "data": {
      "text/html": [
       "<div>\n",
       "<style scoped>\n",
       "    .dataframe tbody tr th:only-of-type {\n",
       "        vertical-align: middle;\n",
       "    }\n",
       "\n",
       "    .dataframe tbody tr th {\n",
       "        vertical-align: top;\n",
       "    }\n",
       "\n",
       "    .dataframe thead th {\n",
       "        text-align: right;\n",
       "    }\n",
       "</style>\n",
       "<table border=\"1\" class=\"dataframe\">\n",
       "  <thead>\n",
       "    <tr style=\"text-align: right;\">\n",
       "      <th></th>\n",
       "      <th>id</th>\n",
       "      <th>f0</th>\n",
       "      <th>f1</th>\n",
       "      <th>f2</th>\n",
       "      <th>product</th>\n",
       "      <th>product_pred</th>\n",
       "    </tr>\n",
       "  </thead>\n",
       "  <tbody>\n",
       "    <tr>\n",
       "      <th>26002</th>\n",
       "      <td>nO9GI</td>\n",
       "      <td>-0.979293</td>\n",
       "      <td>0.145594</td>\n",
       "      <td>0.967350</td>\n",
       "      <td>55.725794</td>\n",
       "      <td>78.375814</td>\n",
       "    </tr>\n",
       "    <tr>\n",
       "      <th>80421</th>\n",
       "      <td>omiUQ</td>\n",
       "      <td>1.584478</td>\n",
       "      <td>-0.314966</td>\n",
       "      <td>10.841077</td>\n",
       "      <td>142.292937</td>\n",
       "      <td>159.732066</td>\n",
       "    </tr>\n",
       "    <tr>\n",
       "      <th>19864</th>\n",
       "      <td>1Gm3l</td>\n",
       "      <td>1.422743</td>\n",
       "      <td>-0.534917</td>\n",
       "      <td>3.718798</td>\n",
       "      <td>131.338088</td>\n",
       "      <td>115.231440</td>\n",
       "    </tr>\n",
       "    <tr>\n",
       "      <th>81526</th>\n",
       "      <td>yqIGm</td>\n",
       "      <td>0.320959</td>\n",
       "      <td>0.907166</td>\n",
       "      <td>2.518012</td>\n",
       "      <td>126.343691</td>\n",
       "      <td>82.618564</td>\n",
       "    </tr>\n",
       "    <tr>\n",
       "      <th>57879</th>\n",
       "      <td>wZUst</td>\n",
       "      <td>2.186908</td>\n",
       "      <td>0.372340</td>\n",
       "      <td>-1.064005</td>\n",
       "      <td>98.399356</td>\n",
       "      <td>73.568837</td>\n",
       "    </tr>\n",
       "  </tbody>\n",
       "</table>\n",
       "</div>"
      ],
      "text/plain": [
       "          id        f0        f1         f2     product  product_pred\n",
       "26002  nO9GI -0.979293  0.145594   0.967350   55.725794     78.375814\n",
       "80421  omiUQ  1.584478 -0.314966  10.841077  142.292937    159.732066\n",
       "19864  1Gm3l  1.422743 -0.534917   3.718798  131.338088    115.231440\n",
       "81526  yqIGm  0.320959  0.907166   2.518012  126.343691     82.618564\n",
       "57879  wZUst  2.186908  0.372340  -1.064005   98.399356     73.568837"
      ]
     },
     "execution_count": 25,
     "metadata": {},
     "output_type": "execute_result"
    }
   ],
   "source": [
    "df1_test['product'] = y1_test\n",
    "df1_test['product_pred'] = y1_pred\n",
    "df1_test.head()"
   ]
  },
  {
   "cell_type": "markdown",
   "id": "d4a4b27a-e6d1-4e49-902e-b84d9107c97f",
   "metadata": {},
   "source": [
    "## Модель №2"
   ]
  },
  {
   "cell_type": "code",
   "execution_count": 26,
   "id": "164f5c53-04b0-429e-9e84-05807d83ced1",
   "metadata": {},
   "outputs": [
    {
     "data": {
      "text/plain": [
       "((68823, 4), (22942, 4))"
      ]
     },
     "execution_count": 26,
     "metadata": {},
     "output_type": "execute_result"
    }
   ],
   "source": [
    "features = list(df2.columns[:-1])\n",
    "target = 'product'\n",
    "\n",
    "df2_train, df2_test, y2_train, y2_test = train_test_split(df2[features],\n",
    "                                                   df2[target],\n",
    "                                                   test_size=0.25,\n",
    "                                                   random_state= 30)\n",
    "\n",
    "df2_train.shape, df2_test.shape"
   ]
  },
  {
   "cell_type": "code",
   "execution_count": 27,
   "id": "f44e5604-4f32-4d4a-b965-184a0e3b4284",
   "metadata": {},
   "outputs": [
    {
     "data": {
      "text/plain": [
       "['f0', 'f1', 'f2']"
      ]
     },
     "execution_count": 27,
     "metadata": {},
     "output_type": "execute_result"
    }
   ],
   "source": [
    "features_new = features[1:]\n",
    "features_new"
   ]
  },
  {
   "cell_type": "code",
   "execution_count": 28,
   "id": "9e237ff1-9ffd-489b-a829-232165415c7d",
   "metadata": {},
   "outputs": [],
   "source": [
    "scaler = StandardScaler()\n",
    "\n",
    "X2_train = scaler.fit_transform(df2_train[features_new])\n",
    "X2_test = scaler.transform(df2_test[features_new])"
   ]
  },
  {
   "cell_type": "code",
   "execution_count": 29,
   "id": "559ab8cf-8e11-4796-ab4b-d590faeff3e3",
   "metadata": {},
   "outputs": [],
   "source": [
    "model2 = Ridge(alpha=1)\n",
    "model2.fit(X2_train, y2_train)\n",
    "y2_pred = model1.predict(X2_test)"
   ]
  },
  {
   "cell_type": "code",
   "execution_count": 30,
   "id": "b9d5e960-9918-4ff5-a43b-96584d288903",
   "metadata": {},
   "outputs": [
    {
     "name": "stdout",
     "output_type": "stream",
     "text": [
      "Средний запас предсказанного сырья по региону для второго региона: 92.48703311302137\n",
      "Медианный запас предсказанного сырья по региону для второго региона: 92.84514209682453\n",
      "RMSE для второго региона: 28.675539382068184\n"
     ]
    }
   ],
   "source": [
    "print(f'Средний запас предсказанного сырья по региону для второго региона: {y2_pred.mean()}')\n",
    "print(f'Медианный запас предсказанного сырья по региону для второго региона: {np.median(y2_pred)}')\n",
    "print(f'RMSE для второго региона: {np.sqrt(mean_squared_error(y2_test, y2_pred))}')"
   ]
  },
  {
   "cell_type": "code",
   "execution_count": 31,
   "id": "918d9d06-d677-4d95-a7f9-370ec51b3970",
   "metadata": {},
   "outputs": [
    {
     "data": {
      "text/html": [
       "<div>\n",
       "<style scoped>\n",
       "    .dataframe tbody tr th:only-of-type {\n",
       "        vertical-align: middle;\n",
       "    }\n",
       "\n",
       "    .dataframe tbody tr th {\n",
       "        vertical-align: top;\n",
       "    }\n",
       "\n",
       "    .dataframe thead th {\n",
       "        text-align: right;\n",
       "    }\n",
       "</style>\n",
       "<table border=\"1\" class=\"dataframe\">\n",
       "  <thead>\n",
       "    <tr style=\"text-align: right;\">\n",
       "      <th></th>\n",
       "      <th>id</th>\n",
       "      <th>f0</th>\n",
       "      <th>f1</th>\n",
       "      <th>f2</th>\n",
       "      <th>product</th>\n",
       "      <th>product_pred</th>\n",
       "    </tr>\n",
       "  </thead>\n",
       "  <tbody>\n",
       "    <tr>\n",
       "      <th>29392</th>\n",
       "      <td>Neay4</td>\n",
       "      <td>-2.978846</td>\n",
       "      <td>-0.200038</td>\n",
       "      <td>4.993525</td>\n",
       "      <td>137.945408</td>\n",
       "      <td>115.247720</td>\n",
       "    </tr>\n",
       "    <tr>\n",
       "      <th>46095</th>\n",
       "      <td>JrYGa</td>\n",
       "      <td>11.353940</td>\n",
       "      <td>-10.218608</td>\n",
       "      <td>4.001521</td>\n",
       "      <td>107.813044</td>\n",
       "      <td>121.218864</td>\n",
       "    </tr>\n",
       "    <tr>\n",
       "      <th>6658</th>\n",
       "      <td>MAer1</td>\n",
       "      <td>6.730762</td>\n",
       "      <td>-4.010709</td>\n",
       "      <td>2.003720</td>\n",
       "      <td>53.906522</td>\n",
       "      <td>83.931317</td>\n",
       "    </tr>\n",
       "    <tr>\n",
       "      <th>26015</th>\n",
       "      <td>5NaBP</td>\n",
       "      <td>2.786545</td>\n",
       "      <td>-4.333784</td>\n",
       "      <td>1.997386</td>\n",
       "      <td>53.906522</td>\n",
       "      <td>82.858551</td>\n",
       "    </tr>\n",
       "    <tr>\n",
       "      <th>40100</th>\n",
       "      <td>5KlYl</td>\n",
       "      <td>11.457534</td>\n",
       "      <td>-5.377683</td>\n",
       "      <td>1.003232</td>\n",
       "      <td>26.953261</td>\n",
       "      <td>74.120846</td>\n",
       "    </tr>\n",
       "  </tbody>\n",
       "</table>\n",
       "</div>"
      ],
      "text/plain": [
       "          id         f0         f1        f2     product  product_pred\n",
       "29392  Neay4  -2.978846  -0.200038  4.993525  137.945408    115.247720\n",
       "46095  JrYGa  11.353940 -10.218608  4.001521  107.813044    121.218864\n",
       "6658   MAer1   6.730762  -4.010709  2.003720   53.906522     83.931317\n",
       "26015  5NaBP   2.786545  -4.333784  1.997386   53.906522     82.858551\n",
       "40100  5KlYl  11.457534  -5.377683  1.003232   26.953261     74.120846"
      ]
     },
     "execution_count": 31,
     "metadata": {},
     "output_type": "execute_result"
    }
   ],
   "source": [
    "df2_test['product'] = y2_test\n",
    "df2_test['product_pred'] = y2_pred\n",
    "df2_test.head()"
   ]
  },
  {
   "cell_type": "markdown",
   "id": "8139b2ee-c2d5-43ca-bb91-c4b42c3d6431",
   "metadata": {},
   "source": [
    "## Модель №3"
   ]
  },
  {
   "cell_type": "code",
   "execution_count": 32,
   "id": "4215bab7-7365-4926-b843-8b717f37e17f",
   "metadata": {},
   "outputs": [
    {
     "data": {
      "text/plain": [
       "((74999, 4), (25000, 4))"
      ]
     },
     "execution_count": 32,
     "metadata": {},
     "output_type": "execute_result"
    }
   ],
   "source": [
    "features = list(df3.columns[:-1])\n",
    "target = 'product'\n",
    "\n",
    "df3_train, df3_test, y3_train, y3_test = train_test_split(df3[features],\n",
    "                                                   df3[target],\n",
    "                                                   test_size=0.25,\n",
    "                                                   random_state= 1)\n",
    "\n",
    "df3_train.shape, df3_test.shape"
   ]
  },
  {
   "cell_type": "code",
   "execution_count": 33,
   "id": "743b1c46-8429-405e-8b3d-f367edfad015",
   "metadata": {},
   "outputs": [
    {
     "data": {
      "text/plain": [
       "['f0', 'f1', 'f2']"
      ]
     },
     "execution_count": 33,
     "metadata": {},
     "output_type": "execute_result"
    }
   ],
   "source": [
    "features_new = features[1:]\n",
    "features_new"
   ]
  },
  {
   "cell_type": "code",
   "execution_count": 34,
   "id": "d798389f-c38f-4be3-b11c-dd285c8450d7",
   "metadata": {},
   "outputs": [],
   "source": [
    "scaler = StandardScaler()\n",
    "\n",
    "X3_train = scaler.fit_transform(df3_train[features_new])\n",
    "X3_test = scaler.transform(df3_test[features_new])"
   ]
  },
  {
   "cell_type": "code",
   "execution_count": 35,
   "id": "1cb98736-4531-41d4-973c-da6de5628a40",
   "metadata": {},
   "outputs": [],
   "source": [
    "model3 = Ridge(alpha=1)\n",
    "model3.fit(X3_train, y3_train)\n",
    "y3_pred = model1.predict(X3_test)"
   ]
  },
  {
   "cell_type": "code",
   "execution_count": 36,
   "id": "9242a39a-5fd8-40e6-af34-7d5a32c0b68c",
   "metadata": {},
   "outputs": [
    {
     "name": "stdout",
     "output_type": "stream",
     "text": [
      "Средний запас предсказанного сырья по региону для третьего региона: 92.58926312639525\n",
      "Медианный запас предсказанного сырья по региону для третьего региона: 92.58776600850601\n",
      "RMSE для третьего региона: 40.832710980160876\n"
     ]
    }
   ],
   "source": [
    "print(f'Средний запас предсказанного сырья по региону для третьего региона: {y3_pred.mean()}')\n",
    "print(f'Медианный запас предсказанного сырья по региону для третьего региона: {np.median(y3_pred)}')\n",
    "print(f'RMSE для третьего региона: {np.sqrt(mean_squared_error(y3_test, y3_pred))}')"
   ]
  },
  {
   "cell_type": "code",
   "execution_count": 37,
   "id": "47d056b6-5367-4756-a096-513d582a8025",
   "metadata": {},
   "outputs": [
    {
     "data": {
      "text/html": [
       "<div>\n",
       "<style scoped>\n",
       "    .dataframe tbody tr th:only-of-type {\n",
       "        vertical-align: middle;\n",
       "    }\n",
       "\n",
       "    .dataframe tbody tr th {\n",
       "        vertical-align: top;\n",
       "    }\n",
       "\n",
       "    .dataframe thead th {\n",
       "        text-align: right;\n",
       "    }\n",
       "</style>\n",
       "<table border=\"1\" class=\"dataframe\">\n",
       "  <thead>\n",
       "    <tr style=\"text-align: right;\">\n",
       "      <th></th>\n",
       "      <th>id</th>\n",
       "      <th>f0</th>\n",
       "      <th>f1</th>\n",
       "      <th>f2</th>\n",
       "      <th>product</th>\n",
       "      <th>product_pred</th>\n",
       "    </tr>\n",
       "  </thead>\n",
       "  <tbody>\n",
       "    <tr>\n",
       "      <th>43659</th>\n",
       "      <td>1aAx3</td>\n",
       "      <td>-3.258196</td>\n",
       "      <td>1.261158</td>\n",
       "      <td>2.711201</td>\n",
       "      <td>79.865840</td>\n",
       "      <td>82.482343</td>\n",
       "    </tr>\n",
       "    <tr>\n",
       "      <th>87278</th>\n",
       "      <td>TFdxM</td>\n",
       "      <td>-0.401696</td>\n",
       "      <td>-0.024390</td>\n",
       "      <td>-1.195403</td>\n",
       "      <td>72.411400</td>\n",
       "      <td>69.064370</td>\n",
       "    </tr>\n",
       "    <tr>\n",
       "      <th>14317</th>\n",
       "      <td>wV83L</td>\n",
       "      <td>0.101773</td>\n",
       "      <td>-1.699503</td>\n",
       "      <td>1.509664</td>\n",
       "      <td>27.076410</td>\n",
       "      <td>93.668421</td>\n",
       "    </tr>\n",
       "    <tr>\n",
       "      <th>93427</th>\n",
       "      <td>XB35W</td>\n",
       "      <td>1.751160</td>\n",
       "      <td>-0.493670</td>\n",
       "      <td>2.777475</td>\n",
       "      <td>29.723451</td>\n",
       "      <td>99.607547</td>\n",
       "    </tr>\n",
       "    <tr>\n",
       "      <th>95321</th>\n",
       "      <td>xSvzy</td>\n",
       "      <td>-0.183940</td>\n",
       "      <td>0.814632</td>\n",
       "      <td>12.021626</td>\n",
       "      <td>112.650597</td>\n",
       "      <td>147.637570</td>\n",
       "    </tr>\n",
       "  </tbody>\n",
       "</table>\n",
       "</div>"
      ],
      "text/plain": [
       "          id        f0        f1         f2     product  product_pred\n",
       "43659  1aAx3 -3.258196  1.261158   2.711201   79.865840     82.482343\n",
       "87278  TFdxM -0.401696 -0.024390  -1.195403   72.411400     69.064370\n",
       "14317  wV83L  0.101773 -1.699503   1.509664   27.076410     93.668421\n",
       "93427  XB35W  1.751160 -0.493670   2.777475   29.723451     99.607547\n",
       "95321  xSvzy -0.183940  0.814632  12.021626  112.650597    147.637570"
      ]
     },
     "execution_count": 37,
     "metadata": {},
     "output_type": "execute_result"
    }
   ],
   "source": [
    "df3_test['product'] = y3_test\n",
    "df3_test['product_pred'] = y3_pred\n",
    "df3_test.head()"
   ]
  },
  {
   "cell_type": "markdown",
   "id": "5ee173ab-3b8c-4fa8-a607-219d69c5a95a",
   "metadata": {},
   "source": [
    " На первый взгляд, хорошие модели получились для всех трех регионов, по RMSE лучшая модель у второго региона, причем с отрывом, это стоит учитывать при принятии решения. Пусть она проигрывает в среднем кол-ве добычи, но проигрыш не так значителен, как ее выигрыш в качестве прогноза"
   ]
  },
  {
   "cell_type": "markdown",
   "id": "78fdb0ec-562f-46c4-b2f1-71cc8be031c5",
   "metadata": {},
   "source": [
    "# Расчет прибыли\n",
    "\n",
    "Считаем в тысячах"
   ]
  },
  {
   "cell_type": "code",
   "execution_count": 98,
   "id": "ac0b199a-1478-45f0-82da-18bbb692ce27",
   "metadata": {},
   "outputs": [],
   "source": [
    "#10 млрд. в тысячах\n",
    "budget = 1000000\n",
    "# 450 тыс. за единицу (тысяча баррелей)\n",
    "cost = 450\n",
    "# сколько скважин хотим выбрать\n",
    "num_to_select = 200"
   ]
  },
  {
   "cell_type": "code",
   "execution_count": 44,
   "id": "ddd4797e-44c3-4c9a-a798-07fe2dc52a11",
   "metadata": {},
   "outputs": [
    {
     "data": {
      "text/plain": [
       "(2222.222222222222, 11.11111111111111)"
      ]
     },
     "execution_count": 44,
     "metadata": {},
     "output_type": "execute_result"
    }
   ],
   "source": [
    "budget / cost, budget / cost / num_to_select"
   ]
  },
  {
   "cell_type": "markdown",
   "id": "58b246c5-b26d-43aa-9f06-d24a7ae6ec7e",
   "metadata": {},
   "source": [
    "Получается, на одну скважину бюджет будет budget / num_to_select"
   ]
  },
  {
   "cell_type": "code",
   "execution_count": 76,
   "id": "6bbf26ab-ff14-4bee-982e-82d0fe06d26d",
   "metadata": {},
   "outputs": [
    {
     "data": {
      "text/plain": [
       "5000.0"
      ]
     },
     "execution_count": 76,
     "metadata": {},
     "output_type": "execute_result"
    }
   ],
   "source": [
    "budget / num_to_select"
   ]
  },
  {
   "cell_type": "markdown",
   "id": "4b503e4d-e351-401a-8ac2-4e058636347b",
   "metadata": {},
   "source": [
    "Итак, выйти хотя бы в ноль, каждая скважина должна приносить доходность в 5000 тыс., то есть это чуть больше 11 тыс. баррелей со скважины в регионе. В самом регионе в таком случае должно добываться от 2223 тысяч баррелей для выхода хотя бы в ноль. При этом есть доп расходы на транспортировку от скважины и тд, которые мы не учитываем, поэтому для ощутимой прибыли это значение должно быть гораздо выше. Благо, средние значения добычи во всех трех регионах по прогнозу в районе 92 тыс. баррелей, что нам точно подходит"
   ]
  },
  {
   "cell_type": "markdown",
   "id": "c09d58bb-54ee-4fe0-803b-b94ec55f6a18",
   "metadata": {},
   "source": [
    "## Регион №1"
   ]
  },
  {
   "cell_type": "code",
   "execution_count": 75,
   "id": "c69265bb-dfbc-47af-9fc2-785d49ed9aac",
   "metadata": {},
   "outputs": [
    {
     "data": {
      "text/html": [
       "<div>\n",
       "<style scoped>\n",
       "    .dataframe tbody tr th:only-of-type {\n",
       "        vertical-align: middle;\n",
       "    }\n",
       "\n",
       "    .dataframe tbody tr th {\n",
       "        vertical-align: top;\n",
       "    }\n",
       "\n",
       "    .dataframe thead th {\n",
       "        text-align: right;\n",
       "    }\n",
       "</style>\n",
       "<table border=\"1\" class=\"dataframe\">\n",
       "  <thead>\n",
       "    <tr style=\"text-align: right;\">\n",
       "      <th></th>\n",
       "      <th>id</th>\n",
       "      <th>f0</th>\n",
       "      <th>f1</th>\n",
       "      <th>f2</th>\n",
       "      <th>product</th>\n",
       "      <th>product_pred</th>\n",
       "      <th>income</th>\n",
       "      <th>profit</th>\n",
       "    </tr>\n",
       "  </thead>\n",
       "  <tbody>\n",
       "    <tr>\n",
       "      <th>27658</th>\n",
       "      <td>WcCwe</td>\n",
       "      <td>1.723956</td>\n",
       "      <td>-0.376442</td>\n",
       "      <td>13.139065</td>\n",
       "      <td>140.631646</td>\n",
       "      <td>176.305090</td>\n",
       "      <td>79337.290330</td>\n",
       "      <td>74337.290330</td>\n",
       "    </tr>\n",
       "    <tr>\n",
       "      <th>6496</th>\n",
       "      <td>he3xS</td>\n",
       "      <td>0.370519</td>\n",
       "      <td>-0.283066</td>\n",
       "      <td>13.668868</td>\n",
       "      <td>178.879516</td>\n",
       "      <td>173.410837</td>\n",
       "      <td>78034.876550</td>\n",
       "      <td>73034.876550</td>\n",
       "    </tr>\n",
       "    <tr>\n",
       "      <th>29826</th>\n",
       "      <td>VDESo</td>\n",
       "      <td>1.635348</td>\n",
       "      <td>-0.508051</td>\n",
       "      <td>11.944013</td>\n",
       "      <td>173.515396</td>\n",
       "      <td>169.958830</td>\n",
       "      <td>76481.473323</td>\n",
       "      <td>71481.473323</td>\n",
       "    </tr>\n",
       "    <tr>\n",
       "      <th>11404</th>\n",
       "      <td>Ue1K8</td>\n",
       "      <td>0.762994</td>\n",
       "      <td>0.742322</td>\n",
       "      <td>15.014250</td>\n",
       "      <td>76.184104</td>\n",
       "      <td>169.141416</td>\n",
       "      <td>76113.637238</td>\n",
       "      <td>71113.637238</td>\n",
       "    </tr>\n",
       "    <tr>\n",
       "      <th>34331</th>\n",
       "      <td>Mld4W</td>\n",
       "      <td>0.704404</td>\n",
       "      <td>-0.327799</td>\n",
       "      <td>12.725662</td>\n",
       "      <td>184.660576</td>\n",
       "      <td>169.068810</td>\n",
       "      <td>76080.964464</td>\n",
       "      <td>71080.964464</td>\n",
       "    </tr>\n",
       "  </tbody>\n",
       "</table>\n",
       "</div>"
      ],
      "text/plain": [
       "          id        f0        f1         f2     product  product_pred  \\\n",
       "27658  WcCwe  1.723956 -0.376442  13.139065  140.631646    176.305090   \n",
       "6496   he3xS  0.370519 -0.283066  13.668868  178.879516    173.410837   \n",
       "29826  VDESo  1.635348 -0.508051  11.944013  173.515396    169.958830   \n",
       "11404  Ue1K8  0.762994  0.742322  15.014250   76.184104    169.141416   \n",
       "34331  Mld4W  0.704404 -0.327799  12.725662  184.660576    169.068810   \n",
       "\n",
       "             income        profit  \n",
       "27658  79337.290330  74337.290330  \n",
       "6496   78034.876550  73034.876550  \n",
       "29826  76481.473323  71481.473323  \n",
       "11404  76113.637238  71113.637238  \n",
       "34331  76080.964464  71080.964464  "
      ]
     },
     "execution_count": 75,
     "metadata": {},
     "output_type": "execute_result"
    }
   ],
   "source": [
    "# считаем доходность каждой из топ скважин\n",
    "df1_test['income'] = df1_test['product_pred'] * cost \n",
    "df1_test['profit'] = df1_test['income'] - budget / num_to_select\n",
    "df1_res = df1_test.sort_values('product_pred', ascending=False)[:num_to_select].copy()\n",
    "df1_res.head()"
   ]
  },
  {
   "cell_type": "code",
   "execution_count": 78,
   "id": "6c194cda-166e-433d-9112-070c961d1b64",
   "metadata": {},
   "outputs": [
    {
     "name": "stdout",
     "output_type": "stream",
     "text": [
      "Ожидаемая прибль для первого региона: 12899047.15585397\n"
     ]
    }
   ],
   "source": [
    "# прибыль\n",
    "print(f'Ожидаемая прибль для первого региона: {df1_res.profit.sum() }') "
   ]
  },
  {
   "cell_type": "markdown",
   "id": "96434d7b-717a-4111-877c-ed8af860a452",
   "metadata": {},
   "source": [
    "## Регион №2"
   ]
  },
  {
   "cell_type": "code",
   "execution_count": 77,
   "id": "959239c4-a227-4ccc-bc64-c8894fd4b358",
   "metadata": {},
   "outputs": [
    {
     "data": {
      "text/html": [
       "<div>\n",
       "<style scoped>\n",
       "    .dataframe tbody tr th:only-of-type {\n",
       "        vertical-align: middle;\n",
       "    }\n",
       "\n",
       "    .dataframe tbody tr th {\n",
       "        vertical-align: top;\n",
       "    }\n",
       "\n",
       "    .dataframe thead th {\n",
       "        text-align: right;\n",
       "    }\n",
       "</style>\n",
       "<table border=\"1\" class=\"dataframe\">\n",
       "  <thead>\n",
       "    <tr style=\"text-align: right;\">\n",
       "      <th></th>\n",
       "      <th>id</th>\n",
       "      <th>f0</th>\n",
       "      <th>f1</th>\n",
       "      <th>f2</th>\n",
       "      <th>product</th>\n",
       "      <th>product_pred</th>\n",
       "      <th>income</th>\n",
       "      <th>profit</th>\n",
       "    </tr>\n",
       "  </thead>\n",
       "  <tbody>\n",
       "    <tr>\n",
       "      <th>68012</th>\n",
       "      <td>ykMu3</td>\n",
       "      <td>11.679671</td>\n",
       "      <td>-19.727321</td>\n",
       "      <td>4.995285</td>\n",
       "      <td>134.766305</td>\n",
       "      <td>148.067325</td>\n",
       "      <td>66630.296161</td>\n",
       "      <td>61630.296161</td>\n",
       "    </tr>\n",
       "    <tr>\n",
       "      <th>81412</th>\n",
       "      <td>ACPp3</td>\n",
       "      <td>4.723265</td>\n",
       "      <td>-20.717035</td>\n",
       "      <td>4.999282</td>\n",
       "      <td>137.945408</td>\n",
       "      <td>146.969355</td>\n",
       "      <td>66136.209938</td>\n",
       "      <td>61136.209938</td>\n",
       "    </tr>\n",
       "    <tr>\n",
       "      <th>41916</th>\n",
       "      <td>TnqvW</td>\n",
       "      <td>-4.129264</td>\n",
       "      <td>-22.725674</td>\n",
       "      <td>5.001702</td>\n",
       "      <td>137.945408</td>\n",
       "      <td>146.588899</td>\n",
       "      <td>65965.004377</td>\n",
       "      <td>60965.004377</td>\n",
       "    </tr>\n",
       "    <tr>\n",
       "      <th>44640</th>\n",
       "      <td>2EQ1P</td>\n",
       "      <td>21.344165</td>\n",
       "      <td>-15.436020</td>\n",
       "      <td>4.994431</td>\n",
       "      <td>134.766305</td>\n",
       "      <td>145.558145</td>\n",
       "      <td>65501.165131</td>\n",
       "      <td>60501.165131</td>\n",
       "    </tr>\n",
       "    <tr>\n",
       "      <th>22071</th>\n",
       "      <td>80evU</td>\n",
       "      <td>-4.914204</td>\n",
       "      <td>-21.427931</td>\n",
       "      <td>4.991999</td>\n",
       "      <td>137.945408</td>\n",
       "      <td>144.347984</td>\n",
       "      <td>64956.592879</td>\n",
       "      <td>59956.592879</td>\n",
       "    </tr>\n",
       "  </tbody>\n",
       "</table>\n",
       "</div>"
      ],
      "text/plain": [
       "          id         f0         f1        f2     product  product_pred  \\\n",
       "68012  ykMu3  11.679671 -19.727321  4.995285  134.766305    148.067325   \n",
       "81412  ACPp3   4.723265 -20.717035  4.999282  137.945408    146.969355   \n",
       "41916  TnqvW  -4.129264 -22.725674  5.001702  137.945408    146.588899   \n",
       "44640  2EQ1P  21.344165 -15.436020  4.994431  134.766305    145.558145   \n",
       "22071  80evU  -4.914204 -21.427931  4.991999  137.945408    144.347984   \n",
       "\n",
       "             income        profit  \n",
       "68012  66630.296161  61630.296161  \n",
       "81412  66136.209938  61136.209938  \n",
       "41916  65965.004377  60965.004377  \n",
       "44640  65501.165131  60501.165131  \n",
       "22071  64956.592879  59956.592879  "
      ]
     },
     "execution_count": 77,
     "metadata": {},
     "output_type": "execute_result"
    }
   ],
   "source": [
    "# считаем доходность каждой из топ скважин\n",
    "df2_test['income'] = df2_test['product_pred'] * cost \n",
    "df2_test['profit'] = df2_test['income'] - budget / num_to_select\n",
    "df2_res = df2_test.sort_values('product_pred', ascending=False)[:num_to_select].copy()\n",
    "df2_res.head()"
   ]
  },
  {
   "cell_type": "code",
   "execution_count": 80,
   "id": "eb2f2f6d-5464-4383-96d0-75d43984e162",
   "metadata": {},
   "outputs": [
    {
     "name": "stdout",
     "output_type": "stream",
     "text": [
      "Ожидаемая прибль для второго региона: 11473502.223858234\n"
     ]
    }
   ],
   "source": [
    "# прибыль\n",
    "print(f'Ожидаемая прибль для второго региона: {df2_res.profit.sum()}') "
   ]
  },
  {
   "cell_type": "markdown",
   "id": "3582d037-e86e-47a7-a1ad-b721a2c34da6",
   "metadata": {},
   "source": [
    "## Регион №3"
   ]
  },
  {
   "cell_type": "code",
   "execution_count": 81,
   "id": "be64dd41-7723-467c-997d-15f5c698a5f7",
   "metadata": {},
   "outputs": [
    {
     "data": {
      "text/html": [
       "<div>\n",
       "<style scoped>\n",
       "    .dataframe tbody tr th:only-of-type {\n",
       "        vertical-align: middle;\n",
       "    }\n",
       "\n",
       "    .dataframe tbody tr th {\n",
       "        vertical-align: top;\n",
       "    }\n",
       "\n",
       "    .dataframe thead th {\n",
       "        text-align: right;\n",
       "    }\n",
       "</style>\n",
       "<table border=\"1\" class=\"dataframe\">\n",
       "  <thead>\n",
       "    <tr style=\"text-align: right;\">\n",
       "      <th></th>\n",
       "      <th>id</th>\n",
       "      <th>f0</th>\n",
       "      <th>f1</th>\n",
       "      <th>f2</th>\n",
       "      <th>product</th>\n",
       "      <th>product_pred</th>\n",
       "      <th>income</th>\n",
       "      <th>profit</th>\n",
       "    </tr>\n",
       "  </thead>\n",
       "  <tbody>\n",
       "    <tr>\n",
       "      <th>25463</th>\n",
       "      <td>mMCBz</td>\n",
       "      <td>-1.623992</td>\n",
       "      <td>-3.263073</td>\n",
       "      <td>16.313011</td>\n",
       "      <td>166.293929</td>\n",
       "      <td>188.340831</td>\n",
       "      <td>84753.373926</td>\n",
       "      <td>79753.373926</td>\n",
       "    </tr>\n",
       "    <tr>\n",
       "      <th>39274</th>\n",
       "      <td>45jd3</td>\n",
       "      <td>-1.451251</td>\n",
       "      <td>-1.520568</td>\n",
       "      <td>16.031226</td>\n",
       "      <td>166.861424</td>\n",
       "      <td>179.700201</td>\n",
       "      <td>80865.090518</td>\n",
       "      <td>75865.090518</td>\n",
       "    </tr>\n",
       "    <tr>\n",
       "      <th>95970</th>\n",
       "      <td>wbe8T</td>\n",
       "      <td>3.623182</td>\n",
       "      <td>-1.594757</td>\n",
       "      <td>13.908144</td>\n",
       "      <td>151.825993</td>\n",
       "      <td>176.455318</td>\n",
       "      <td>79404.893029</td>\n",
       "      <td>74404.893029</td>\n",
       "    </tr>\n",
       "    <tr>\n",
       "      <th>91268</th>\n",
       "      <td>FJ3vB</td>\n",
       "      <td>-0.518223</td>\n",
       "      <td>-1.470549</td>\n",
       "      <td>14.850498</td>\n",
       "      <td>101.014932</td>\n",
       "      <td>173.957519</td>\n",
       "      <td>78280.883765</td>\n",
       "      <td>73280.883765</td>\n",
       "    </tr>\n",
       "    <tr>\n",
       "      <th>97563</th>\n",
       "      <td>NJ4r0</td>\n",
       "      <td>-0.708628</td>\n",
       "      <td>-2.733070</td>\n",
       "      <td>14.020759</td>\n",
       "      <td>170.544903</td>\n",
       "      <td>173.708624</td>\n",
       "      <td>78168.880876</td>\n",
       "      <td>73168.880876</td>\n",
       "    </tr>\n",
       "  </tbody>\n",
       "</table>\n",
       "</div>"
      ],
      "text/plain": [
       "          id        f0        f1         f2     product  product_pred  \\\n",
       "25463  mMCBz -1.623992 -3.263073  16.313011  166.293929    188.340831   \n",
       "39274  45jd3 -1.451251 -1.520568  16.031226  166.861424    179.700201   \n",
       "95970  wbe8T  3.623182 -1.594757  13.908144  151.825993    176.455318   \n",
       "91268  FJ3vB -0.518223 -1.470549  14.850498  101.014932    173.957519   \n",
       "97563  NJ4r0 -0.708628 -2.733070  14.020759  170.544903    173.708624   \n",
       "\n",
       "             income        profit  \n",
       "25463  84753.373926  79753.373926  \n",
       "39274  80865.090518  75865.090518  \n",
       "95970  79404.893029  74404.893029  \n",
       "91268  78280.883765  73280.883765  \n",
       "97563  78168.880876  73168.880876  "
      ]
     },
     "execution_count": 81,
     "metadata": {},
     "output_type": "execute_result"
    }
   ],
   "source": [
    "# считаем доходность каждой из топ скважин\n",
    "df3_test['income'] = df3_test['product_pred'] * cost \n",
    "df3_test['profit'] = df3_test['income'] - budget / num_to_select\n",
    "df3_res = df3_test.sort_values('product_pred', ascending=False)[:num_to_select].copy()\n",
    "df3_res.head()"
   ]
  },
  {
   "cell_type": "code",
   "execution_count": 82,
   "id": "cc15cbb8-e186-498c-8ef4-4a60109f2cb0",
   "metadata": {},
   "outputs": [
    {
     "name": "stdout",
     "output_type": "stream",
     "text": [
      "Ожидаемая прибль для третьего региона: 12890867.131667215\n"
     ]
    }
   ],
   "source": [
    "# прибыль\n",
    "print(f'Ожидаемая прибль для третьего региона: {df3_res.profit.sum()}')"
   ]
  },
  {
   "cell_type": "markdown",
   "id": "397805d8-b339-4a8c-a439-cfaef04638fe",
   "metadata": {},
   "source": [
    "Наиболее прибыльный по топ 200 первый регион, затем почти столько же в третьем, проигрывает второй. Но мы помним, что RMSE второго региона было значительно лучше, чем у первого и третьего. Давайте посчитаем RMSE в топ 200 и сравним."
   ]
  },
  {
   "cell_type": "code",
   "execution_count": 106,
   "id": "34ea52c2-d249-4911-9e3c-cb831c14af13",
   "metadata": {},
   "outputs": [
    {
     "name": "stdout",
     "output_type": "stream",
     "text": [
      "RMSE топ 200 для первого региона: 24.580328963343625\n",
      "RMSE топ 200 для второго региона: 4.00060752647533\n",
      "RMSE топ 200 для третьего региона: 32.685492684405354\n"
     ]
    }
   ],
   "source": [
    "rmse1 = np.sqrt(mean_squared_error(df1_res['product'], df1_res['product_pred']))\n",
    "rmse2 = np.sqrt(mean_squared_error(df2_res['product'], df2_res['product_pred']))\n",
    "rmse3 = np.sqrt(mean_squared_error(df3_res['product'], df3_res['product_pred']))\n",
    "\n",
    "\n",
    "print(f'RMSE топ 200 для первого региона: {rmse1}')\n",
    "print(f'RMSE топ 200 для второго региона: {rmse2}')\n",
    "print(f'RMSE топ 200 для третьего региона: {rmse3}')"
   ]
  },
  {
   "cell_type": "markdown",
   "id": "5c26c55d-8c81-4cfe-88d1-ba7e0f91bb25",
   "metadata": {},
   "source": [
    "Явно второй регион лучший, так как в нем мы почти не ошибаемся, а ожидаемая прибыль в первом и третьем вызвана ошибками (связанными с плохими моделями, я предполагаю)"
   ]
  },
  {
   "cell_type": "markdown",
   "id": "cbed1590-78d2-470c-a67e-354235de5a3e",
   "metadata": {},
   "source": [
    "# Риски. Bootstrap\n",
    "\n",
    "Размерность сократил до 0.75 от всех данных, чтобы получать более разнообразные выборки"
   ]
  },
  {
   "cell_type": "markdown",
   "id": "fd2ebace-cbb2-472d-bdcb-b5e187eb7439",
   "metadata": {},
   "source": [
    "## Регион №1"
   ]
  },
  {
   "cell_type": "code",
   "execution_count": 90,
   "id": "ee03854d-e7c5-4ced-9e66-d43a5915b0d1",
   "metadata": {},
   "outputs": [
    {
     "name": "stdout",
     "output_type": "stream",
     "text": [
      "56613.305683916704\n",
      "57175.14918206652\n"
     ]
    }
   ],
   "source": [
    "state = np.random.RandomState(35)\n",
    "values = []\n",
    "\n",
    "for i in range(1000):\n",
    "    subsample = df1_test['profit'].sample(frac=0.75, replace=True, random_state=state)\n",
    "    values.append(subsample.quantile(0.975))\n",
    "\n",
    "values = pd.Series(values)\n",
    "    \n",
    "lower = values.quantile(0.05)\n",
    "upper = values.quantile(0.95)\n",
    " \n",
    "print(lower)\n",
    "print(upper)"
   ]
  },
  {
   "cell_type": "code",
   "execution_count": 92,
   "id": "447382c7-5b63-4681-b20c-2207acf2dace",
   "metadata": {},
   "outputs": [
    {
     "data": {
      "image/png": "[encoded data removed]",
      "text/plain": [
       "<Figure size 864x576 with 1 Axes>"
      ]
     },
     "metadata": {
      "needs_background": "light"
     },
     "output_type": "display_data"
    }
   ],
   "source": [
    "plt.figure(figsize=(12,8))\n",
    "plt.hist(values)\n",
    "plt.show()"
   ]
  },
  {
   "cell_type": "markdown",
   "id": "5ff243d9-4196-4feb-acf2-60105fcfe95d",
   "metadata": {},
   "source": [
    "## Регион №2"
   ]
  },
  {
   "cell_type": "code",
   "execution_count": 93,
   "id": "34535000-422d-4cdb-a4ee-392faca4c218",
   "metadata": {},
   "outputs": [
    {
     "name": "stdout",
     "output_type": "stream",
     "text": [
      "53958.10533623559\n",
      "54336.72551421637\n"
     ]
    }
   ],
   "source": [
    "state = np.random.RandomState(35)\n",
    "values = []\n",
    "\n",
    "for i in range(1000):\n",
    "    subsample = df2_test['profit'].sample(frac=0.75, replace=True, random_state=state)\n",
    "    values.append(subsample.quantile(0.975))\n",
    "\n",
    "values = pd.Series(values)\n",
    "    \n",
    "lower = values.quantile(0.05)\n",
    "upper = values.quantile(0.95)\n",
    " \n",
    "print(lower)\n",
    "print(upper)"
   ]
  },
  {
   "cell_type": "code",
   "execution_count": 94,
   "id": "02d4f6bf-34be-4ad8-ac92-bb9a0c419f67",
   "metadata": {},
   "outputs": [
    {
     "data": {
      "image/png": "[encoded data removed]",
      "text/plain": [
       "<Figure size 864x576 with 1 Axes>"
      ]
     },
     "metadata": {
      "needs_background": "light"
     },
     "output_type": "display_data"
    }
   ],
   "source": [
    "plt.figure(figsize=(12,8))\n",
    "plt.hist(values)\n",
    "plt.show()"
   ]
  },
  {
   "cell_type": "markdown",
   "id": "df697783-d5c6-4283-b976-a9a70a703684",
   "metadata": {},
   "source": [
    "## Регион №3"
   ]
  },
  {
   "cell_type": "code",
   "execution_count": 96,
   "id": "75a8b16b-931d-4fdf-8fae-e8caf377747c",
   "metadata": {},
   "outputs": [
    {
     "name": "stdout",
     "output_type": "stream",
     "text": [
      "56352.19472034095\n",
      "56874.16218459984\n"
     ]
    }
   ],
   "source": [
    "state = np.random.RandomState(35)\n",
    "values = []\n",
    "\n",
    "for i in range(1000):\n",
    "    subsample = df3_test['profit'].sample(frac=0.75, replace=True, random_state=state)\n",
    "    values.append(subsample.quantile(0.975))\n",
    "\n",
    "values = pd.Series(values)\n",
    "    \n",
    "lower = values.quantile(0.05)\n",
    "upper = values.quantile(0.95)\n",
    " \n",
    "print(lower)\n",
    "print(upper)"
   ]
  },
  {
   "cell_type": "code",
   "execution_count": 97,
   "id": "969857cc-487c-4a1a-9066-1f4304d4a52b",
   "metadata": {},
   "outputs": [
    {
     "data": {
      "image/png": "[encoded data removed]",
      "text/plain": [
       "<Figure size 864x576 with 1 Axes>"
      ]
     },
     "metadata": {
      "needs_background": "light"
     },
     "output_type": "display_data"
    }
   ],
   "source": [
    "plt.figure(figsize=(12,8))\n",
    "plt.hist(values)\n",
    "plt.show()"
   ]
  },
  {
   "cell_type": "markdown",
   "id": "d420bff4-a145-4b40-b2b5-032aa69fe7c0",
   "metadata": {},
   "source": [
    "Ни один регион не вгоняет нам в минус, однако судя по распределению прибыли со скважин, полученным по результатам бутстрепа и результатам RMSE ранее, стоит выбрать второй регион для разработки, так как на гистограммах видно мало мега аномальных а распределение кажется наиболее гладким и схожим с нормальным. Средняя прибыль при этом будет в районе 54200, что явно лучше, чем рисковать на среднюю прибыль 56700 (третий регион), полученную с помощью прогноза плохой моделью. Второй вариант улучшать модели, тюнить их гиперпараметры для других регионов, тогда может дело дойдет до выбора третьего, например. Но я не думаю, что удастся получить такое же хорошее качество (особенно на топ 200), как у текущей модели для второго региона."
   ]
  }
 ],
 "metadata": {
  "kernelspec": {
   "display_name": "Python 3 (ipykernel)",
   "language": "python",
   "name": "python3"
  },
  "language_info": {
   "codemirror_mode": {
    "name": "ipython",
    "version": 3
   },
   "file_extension": ".py",
   "mimetype": "text/x-python",
   "name": "python",
   "nbconvert_exporter": "python",
   "pygments_lexer": "ipython3",
   "version": "3.8.12"
  }
 },
 "nbformat": 4,
 "nbformat_minor": 5
}
