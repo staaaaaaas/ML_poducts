{
 "cells": [
  {
   "cell_type": "markdown",
   "id": "c1ef6b4d-8899-4aad-929f-7751ea18fb6e",
   "metadata": {},
   "source": [
    "# Лабораторная работа №5\n",
    "\n",
    "*Арешин Станислав Олегович М8О-211M-21*\n",
    "\n",
    "Вы работаете в интернет-магазине «Стримчик», который продаёт по всему миру компьютерные игры. Из открытых источников доступны исторические данные о продажах игр, оценки пользователей и экспертов, жанры и платформы (например, Xbox или PlayStation). Вам нужно выявить определяющие успешность игры закономерности. Это позволит сделать ставку на потенциально популярный продукт и спланировать рекламные кампании.\n",
    "Перед вами данные до 2016 года. Представим, что сейчас декабрь 2016 г., и вы планируете кампанию на 2017-й. Нужно отработать принцип работы с данными. Неважно, прогнозируете ли вы продажи на 2017 год по данным 2016-го или же 2027-й — по данным 2026 года."
   ]
  },
  {
   "cell_type": "code",
   "execution_count": 1,
   "id": "b20190b4-ed90-49c1-aa7a-7d032777ac0d",
   "metadata": {},
   "outputs": [],
   "source": [
    "import pandas as pd\n",
    "import numpy as np\n",
    "import matplotlib.pyplot as plt\n",
    "import seaborn as sns\n",
    "import warnings\n",
    "\n",
    "sns.set_style(\"darkgrid\", {\"grid.color\": \".6\", \"grid.linestyle\": \":\"})\n",
    "warnings.filterwarnings(\"ignore\")\n",
    "\n",
    "%matplotlib inline"
   ]
  },
  {
   "cell_type": "markdown",
   "id": "163dbecb-cac9-4f3e-ad93-f3915809a324",
   "metadata": {},
   "source": [
    "# Предобработка данных"
   ]
  },
  {
   "cell_type": "code",
   "execution_count": 2,
   "id": "42b06b8b-4628-42e2-aaaf-19275b16531a",
   "metadata": {},
   "outputs": [
    {
     "name": "stdout",
     "output_type": "stream",
     "text": [
      "(16715, 11)\n"
     ]
    },
    {
     "data": {
      "text/html": [
       "<div>\n",
       "<style scoped>\n",
       "    .dataframe tbody tr th:only-of-type {\n",
       "        vertical-align: middle;\n",
       "    }\n",
       "\n",
       "    .dataframe tbody tr th {\n",
       "        vertical-align: top;\n",
       "    }\n",
       "\n",
       "    .dataframe thead th {\n",
       "        text-align: right;\n",
       "    }\n",
       "</style>\n",
       "<table border=\"1\" class=\"dataframe\">\n",
       "  <thead>\n",
       "    <tr style=\"text-align: right;\">\n",
       "      <th></th>\n",
       "      <th>Name</th>\n",
       "      <th>Platform</th>\n",
       "      <th>Year_of_Release</th>\n",
       "      <th>Genre</th>\n",
       "      <th>NA_sales</th>\n",
       "      <th>EU_sales</th>\n",
       "      <th>JP_sales</th>\n",
       "      <th>Other_sales</th>\n",
       "      <th>Critic_Score</th>\n",
       "      <th>User_Score</th>\n",
       "      <th>Rating</th>\n",
       "    </tr>\n",
       "  </thead>\n",
       "  <tbody>\n",
       "    <tr>\n",
       "      <th>0</th>\n",
       "      <td>Wii Sports</td>\n",
       "      <td>Wii</td>\n",
       "      <td>2006.0</td>\n",
       "      <td>Sports</td>\n",
       "      <td>41.36</td>\n",
       "      <td>28.96</td>\n",
       "      <td>3.77</td>\n",
       "      <td>8.45</td>\n",
       "      <td>76.0</td>\n",
       "      <td>8</td>\n",
       "      <td>E</td>\n",
       "    </tr>\n",
       "    <tr>\n",
       "      <th>1</th>\n",
       "      <td>Super Mario Bros.</td>\n",
       "      <td>NES</td>\n",
       "      <td>1985.0</td>\n",
       "      <td>Platform</td>\n",
       "      <td>29.08</td>\n",
       "      <td>3.58</td>\n",
       "      <td>6.81</td>\n",
       "      <td>0.77</td>\n",
       "      <td>NaN</td>\n",
       "      <td>NaN</td>\n",
       "      <td>NaN</td>\n",
       "    </tr>\n",
       "    <tr>\n",
       "      <th>2</th>\n",
       "      <td>Mario Kart Wii</td>\n",
       "      <td>Wii</td>\n",
       "      <td>2008.0</td>\n",
       "      <td>Racing</td>\n",
       "      <td>15.68</td>\n",
       "      <td>12.76</td>\n",
       "      <td>3.79</td>\n",
       "      <td>3.29</td>\n",
       "      <td>82.0</td>\n",
       "      <td>8.3</td>\n",
       "      <td>E</td>\n",
       "    </tr>\n",
       "    <tr>\n",
       "      <th>3</th>\n",
       "      <td>Wii Sports Resort</td>\n",
       "      <td>Wii</td>\n",
       "      <td>2009.0</td>\n",
       "      <td>Sports</td>\n",
       "      <td>15.61</td>\n",
       "      <td>10.93</td>\n",
       "      <td>3.28</td>\n",
       "      <td>2.95</td>\n",
       "      <td>80.0</td>\n",
       "      <td>8</td>\n",
       "      <td>E</td>\n",
       "    </tr>\n",
       "    <tr>\n",
       "      <th>4</th>\n",
       "      <td>Pokemon Red/Pokemon Blue</td>\n",
       "      <td>GB</td>\n",
       "      <td>1996.0</td>\n",
       "      <td>Role-Playing</td>\n",
       "      <td>11.27</td>\n",
       "      <td>8.89</td>\n",
       "      <td>10.22</td>\n",
       "      <td>1.00</td>\n",
       "      <td>NaN</td>\n",
       "      <td>NaN</td>\n",
       "      <td>NaN</td>\n",
       "    </tr>\n",
       "  </tbody>\n",
       "</table>\n",
       "</div>"
      ],
      "text/plain": [
       "                       Name Platform  Year_of_Release         Genre  NA_sales  \\\n",
       "0                Wii Sports      Wii           2006.0        Sports     41.36   \n",
       "1         Super Mario Bros.      NES           1985.0      Platform     29.08   \n",
       "2            Mario Kart Wii      Wii           2008.0        Racing     15.68   \n",
       "3         Wii Sports Resort      Wii           2009.0        Sports     15.61   \n",
       "4  Pokemon Red/Pokemon Blue       GB           1996.0  Role-Playing     11.27   \n",
       "\n",
       "   EU_sales  JP_sales  Other_sales  Critic_Score User_Score Rating  \n",
       "0     28.96      3.77         8.45          76.0          8      E  \n",
       "1      3.58      6.81         0.77           NaN        NaN    NaN  \n",
       "2     12.76      3.79         3.29          82.0        8.3      E  \n",
       "3     10.93      3.28         2.95          80.0          8      E  \n",
       "4      8.89     10.22         1.00           NaN        NaN    NaN  "
      ]
     },
     "execution_count": 2,
     "metadata": {},
     "output_type": "execute_result"
    }
   ],
   "source": [
    "df = pd.read_csv('games.csv')\n",
    "print(df.shape)\n",
    "df.head()"
   ]
  },
  {
   "cell_type": "markdown",
   "id": "fa924e9e-6309-4a40-97e6-413eb42872c7",
   "metadata": {},
   "source": [
    "Приведем колонки к нижнему регистру"
   ]
  },
  {
   "cell_type": "code",
   "execution_count": 3,
   "id": "4ed9a60b-bc2b-440a-98ab-e8b133581312",
   "metadata": {},
   "outputs": [
    {
     "data": {
      "text/html": [
       "<div>\n",
       "<style scoped>\n",
       "    .dataframe tbody tr th:only-of-type {\n",
       "        vertical-align: middle;\n",
       "    }\n",
       "\n",
       "    .dataframe tbody tr th {\n",
       "        vertical-align: top;\n",
       "    }\n",
       "\n",
       "    .dataframe thead th {\n",
       "        text-align: right;\n",
       "    }\n",
       "</style>\n",
       "<table border=\"1\" class=\"dataframe\">\n",
       "  <thead>\n",
       "    <tr style=\"text-align: right;\">\n",
       "      <th></th>\n",
       "      <th>name</th>\n",
       "      <th>platform</th>\n",
       "      <th>year_of_release</th>\n",
       "      <th>genre</th>\n",
       "      <th>na_sales</th>\n",
       "      <th>eu_sales</th>\n",
       "      <th>jp_sales</th>\n",
       "      <th>other_sales</th>\n",
       "      <th>critic_score</th>\n",
       "      <th>user_score</th>\n",
       "      <th>rating</th>\n",
       "    </tr>\n",
       "  </thead>\n",
       "  <tbody>\n",
       "    <tr>\n",
       "      <th>0</th>\n",
       "      <td>Wii Sports</td>\n",
       "      <td>Wii</td>\n",
       "      <td>2006.0</td>\n",
       "      <td>Sports</td>\n",
       "      <td>41.36</td>\n",
       "      <td>28.96</td>\n",
       "      <td>3.77</td>\n",
       "      <td>8.45</td>\n",
       "      <td>76.0</td>\n",
       "      <td>8</td>\n",
       "      <td>E</td>\n",
       "    </tr>\n",
       "    <tr>\n",
       "      <th>1</th>\n",
       "      <td>Super Mario Bros.</td>\n",
       "      <td>NES</td>\n",
       "      <td>1985.0</td>\n",
       "      <td>Platform</td>\n",
       "      <td>29.08</td>\n",
       "      <td>3.58</td>\n",
       "      <td>6.81</td>\n",
       "      <td>0.77</td>\n",
       "      <td>NaN</td>\n",
       "      <td>NaN</td>\n",
       "      <td>NaN</td>\n",
       "    </tr>\n",
       "    <tr>\n",
       "      <th>2</th>\n",
       "      <td>Mario Kart Wii</td>\n",
       "      <td>Wii</td>\n",
       "      <td>2008.0</td>\n",
       "      <td>Racing</td>\n",
       "      <td>15.68</td>\n",
       "      <td>12.76</td>\n",
       "      <td>3.79</td>\n",
       "      <td>3.29</td>\n",
       "      <td>82.0</td>\n",
       "      <td>8.3</td>\n",
       "      <td>E</td>\n",
       "    </tr>\n",
       "    <tr>\n",
       "      <th>3</th>\n",
       "      <td>Wii Sports Resort</td>\n",
       "      <td>Wii</td>\n",
       "      <td>2009.0</td>\n",
       "      <td>Sports</td>\n",
       "      <td>15.61</td>\n",
       "      <td>10.93</td>\n",
       "      <td>3.28</td>\n",
       "      <td>2.95</td>\n",
       "      <td>80.0</td>\n",
       "      <td>8</td>\n",
       "      <td>E</td>\n",
       "    </tr>\n",
       "    <tr>\n",
       "      <th>4</th>\n",
       "      <td>Pokemon Red/Pokemon Blue</td>\n",
       "      <td>GB</td>\n",
       "      <td>1996.0</td>\n",
       "      <td>Role-Playing</td>\n",
       "      <td>11.27</td>\n",
       "      <td>8.89</td>\n",
       "      <td>10.22</td>\n",
       "      <td>1.00</td>\n",
       "      <td>NaN</td>\n",
       "      <td>NaN</td>\n",
       "      <td>NaN</td>\n",
       "    </tr>\n",
       "  </tbody>\n",
       "</table>\n",
       "</div>"
      ],
      "text/plain": [
       "                       name platform  year_of_release         genre  na_sales  \\\n",
       "0                Wii Sports      Wii           2006.0        Sports     41.36   \n",
       "1         Super Mario Bros.      NES           1985.0      Platform     29.08   \n",
       "2            Mario Kart Wii      Wii           2008.0        Racing     15.68   \n",
       "3         Wii Sports Resort      Wii           2009.0        Sports     15.61   \n",
       "4  Pokemon Red/Pokemon Blue       GB           1996.0  Role-Playing     11.27   \n",
       "\n",
       "   eu_sales  jp_sales  other_sales  critic_score user_score rating  \n",
       "0     28.96      3.77         8.45          76.0          8      E  \n",
       "1      3.58      6.81         0.77           NaN        NaN    NaN  \n",
       "2     12.76      3.79         3.29          82.0        8.3      E  \n",
       "3     10.93      3.28         2.95          80.0          8      E  \n",
       "4      8.89     10.22         1.00           NaN        NaN    NaN  "
      ]
     },
     "execution_count": 3,
     "metadata": {},
     "output_type": "execute_result"
    }
   ],
   "source": [
    "df.rename(columns={name : name.lower() for name in df.columns}, inplace=True)\n",
    "df.head()"
   ]
  },
  {
   "cell_type": "code",
   "execution_count": 4,
   "id": "d48797af-60e7-4cc4-93e2-9272b2926219",
   "metadata": {},
   "outputs": [
    {
     "name": "stdout",
     "output_type": "stream",
     "text": [
      "<class 'pandas.core.frame.DataFrame'>\n",
      "RangeIndex: 16715 entries, 0 to 16714\n",
      "Data columns (total 11 columns):\n",
      " #   Column           Non-Null Count  Dtype  \n",
      "---  ------           --------------  -----  \n",
      " 0   name             16713 non-null  object \n",
      " 1   platform         16715 non-null  object \n",
      " 2   year_of_release  16446 non-null  float64\n",
      " 3   genre            16713 non-null  object \n",
      " 4   na_sales         16715 non-null  float64\n",
      " 5   eu_sales         16715 non-null  float64\n",
      " 6   jp_sales         16715 non-null  float64\n",
      " 7   other_sales      16715 non-null  float64\n",
      " 8   critic_score     8137 non-null   float64\n",
      " 9   user_score       10014 non-null  object \n",
      " 10  rating           9949 non-null   object \n",
      "dtypes: float64(6), object(5)\n",
      "memory usage: 1.4+ MB\n"
     ]
    }
   ],
   "source": [
    "df.info()"
   ]
  },
  {
   "cell_type": "markdown",
   "id": "92f9bbe7-5824-450a-bf10-b2e80286d504",
   "metadata": {},
   "source": [
    "## Пропущенные значения"
   ]
  },
  {
   "cell_type": "markdown",
   "id": "adb89303-dad7-4f4e-a084-1fcc3acb30cc",
   "metadata": {},
   "source": [
    "Год надо бы привести к инту, есть пропущенные значения, давайте разбираться"
   ]
  },
  {
   "cell_type": "markdown",
   "id": "d7c316b4-e66e-4b32-8703-890f10b123b8",
   "metadata": {},
   "source": [
    "### critic_score\n",
    "\n",
    "оценка критиков (максимум 100). Вряд ли игра не оценивалась критиками, но пропущенное значение есть пропущенное значение. Медианой заполнять не хочется, так как почти половина данных с пропусками, можно сильно испортить распределение и затем сделать неверные выводы, поэтому я пока заполню через -1, будем держать в голове что это пропуск, далее все равно скорее всего придется отсекать данные по времени и уже на итоговой выборке может получится придумать решение получше."
   ]
  },
  {
   "cell_type": "code",
   "execution_count": 5,
   "id": "7368eec3-4f80-4bcb-841e-7516e6f9c2d9",
   "metadata": {},
   "outputs": [
    {
     "data": {
      "text/plain": [
       "(13.0, 98.0, 71.0)"
      ]
     },
     "execution_count": 5,
     "metadata": {},
     "output_type": "execute_result"
    }
   ],
   "source": [
    "df['critic_score'].min(), df['critic_score'].max(), df['critic_score'].median()"
   ]
  },
  {
   "cell_type": "code",
   "execution_count": 6,
   "id": "9aa8ff68-d374-4f35-9a9b-20963b3ffe36",
   "metadata": {},
   "outputs": [
    {
     "data": {
      "text/plain": [
       "array([76., nan, 82., 80., 89., 58., 87., 91., 61., 97., 95., 77., 88.,\n",
       "       83., 94., 93., 85., 86., 98., 96., 90., 84., 73., 74., 78., 92.,\n",
       "       71., 72., 68., 62., 49., 67., 81., 66., 56., 79., 70., 59., 64.,\n",
       "       75., 60., 63., 69., 50., 25., 42., 44., 55., 48., 57., 29., 47.,\n",
       "       65., 54., 20., 53., 37., 38., 33., 52., 30., 32., 43., 45., 51.,\n",
       "       40., 46., 39., 34., 35., 41., 36., 28., 31., 27., 26., 19., 23.,\n",
       "       24., 21., 17., 22., 13.])"
      ]
     },
     "execution_count": 6,
     "metadata": {},
     "output_type": "execute_result"
    }
   ],
   "source": [
    "df['critic_score'].unique()"
   ]
  },
  {
   "cell_type": "code",
   "execution_count": 7,
   "id": "024d5470-5f02-4c41-b269-0a71673634b7",
   "metadata": {},
   "outputs": [],
   "source": [
    "df['critic_score'] = df['critic_score'].fillna(-1)"
   ]
  },
  {
   "cell_type": "markdown",
   "id": "dc6cd5d6-c0a5-4789-91a2-3e845420d06a",
   "metadata": {},
   "source": [
    "### user_score\n",
    "\n",
    "оценка пользователей (максимум 10). Значение tbd (to be determined) обычно означает подлежит уточнению, то есть скорее всего игра еще не оценена. Кажется, это можно также считать обычным пропущенным значением. Посмотрим чуть подробнее, что из себя представляют такие игры"
   ]
  },
  {
   "cell_type": "code",
   "execution_count": 8,
   "id": "f178562d-540a-435f-9b21-1f23c3a984d0",
   "metadata": {},
   "outputs": [
    {
     "name": "stdout",
     "output_type": "stream",
     "text": [
      "Медиана продаж по всем данным без игр с оценкой tbd:\n",
      "NA:  0.14\n",
      "EU:  0.06\n",
      "JP:  0.0\n",
      "OTHER:  0.02\n",
      "\n",
      "NA:  0.07500000000000001\n",
      "EU:  0.01\n",
      "JP:  0.0\n",
      "OTHER:  0.01\n"
     ]
    }
   ],
   "source": [
    "print('Медиана продаж по всем данным без игр с оценкой tbd:')\n",
    "print('NA: ', df[(df['user_score'] != 'tbd') & (~df['user_score'].isna())]['na_sales'].median())\n",
    "print('EU: ', df[(df['user_score'] != 'tbd') & (~df['user_score'].isna())]['eu_sales'].median())\n",
    "print('JP: ', df[(df['user_score'] != 'tbd') & (~df['user_score'].isna())]['jp_sales'].median())\n",
    "print('OTHER: ', df[(df['user_score'] != 'tbd') & (~df['user_score'].isna())]['other_sales'].median())\n",
    "print()\n",
    "print('NA: ', df[df['user_score'] == 'tbd']['na_sales'].median())\n",
    "print('EU: ', df[df['user_score'] == 'tbd']['eu_sales'].median())\n",
    "print('JP: ', df[df['user_score'] == 'tbd']['jp_sales'].median())\n",
    "print('OTHER: ', df[df['user_score'] == 'tbd']['other_sales'].median())"
   ]
  },
  {
   "cell_type": "code",
   "execution_count": 9,
   "id": "c2e35afc-21e4-4e24-ba73-58f82cb529de",
   "metadata": {},
   "outputs": [
    {
     "name": "stdout",
     "output_type": "stream",
     "text": [
      "Медиана продаж по всем данным без игр с оценкой tbd:\n",
      "NA:  0.3758155467720872\n",
      "EU:  0.22489328063239783\n",
      "JP:  0.05909222661396478\n",
      "OTHER:  0.07938866930170389\n",
      "\n",
      "NA:  0.12605198019801728\n",
      "EU:  0.04351897689769022\n",
      "JP:  0.0027268976897689744\n",
      "OTHER:  0.015862211221121834\n"
     ]
    }
   ],
   "source": [
    "print('Медиана продаж по всем данным без игр с оценкой tbd:')\n",
    "print('NA: ', df[(df['user_score'] != 'tbd') & (~df['user_score'].isna())]['na_sales'].mean())\n",
    "print('EU: ', df[(df['user_score'] != 'tbd') & (~df['user_score'].isna())]['eu_sales'].mean())\n",
    "print('JP: ', df[(df['user_score'] != 'tbd') & (~df['user_score'].isna())]['jp_sales'].mean())\n",
    "print('OTHER: ', df[(df['user_score'] != 'tbd') & (~df['user_score'].isna())]['other_sales'].mean())\n",
    "print()\n",
    "print('NA: ', df[df['user_score'] == 'tbd']['na_sales'].mean())\n",
    "print('EU: ', df[df['user_score'] == 'tbd']['eu_sales'].mean())\n",
    "print('JP: ', df[df['user_score'] == 'tbd']['jp_sales'].mean())\n",
    "print('OTHER: ', df[df['user_score'] == 'tbd']['other_sales'].mean())"
   ]
  },
  {
   "cell_type": "markdown",
   "id": "b4cecaaf-6ae5-430b-98ec-40e044dfaa93",
   "metadata": {},
   "source": [
    "Судя по всему игры с оценкой tbd менее успешные, чем оцененные, однако, не неастолько, чтобы их просто исключить "
   ]
  },
  {
   "cell_type": "code",
   "execution_count": 10,
   "id": "645e0581-91e5-448f-b9d0-8b5954775aca",
   "metadata": {},
   "outputs": [
    {
     "data": {
      "text/plain": [
       "array([2010., 2005., 2011.,   nan, 2009., 2004., 1999., 2001., 2008.,\n",
       "       2007., 2003., 2000., 2006., 2002., 2015., 2014., 2012., 2013.,\n",
       "       2016., 1997.])"
      ]
     },
     "execution_count": 10,
     "metadata": {},
     "output_type": "execute_result"
    }
   ],
   "source": [
    "df[df['user_score'] == 'tbd']['year_of_release'].unique()"
   ]
  },
  {
   "cell_type": "markdown",
   "id": "0a15e325-f777-4348-a0ea-8f564e0da61b",
   "metadata": {},
   "source": [
    "И нет такого, чтобы не оцененные игры были слишком старыми. Давайте tbd пока заполним -2, а обычные наны -1, а также переведем столбец в формат float"
   ]
  },
  {
   "cell_type": "code",
   "execution_count": 11,
   "id": "5258c21f-e115-4a0b-b5f1-ed5295c35361",
   "metadata": {},
   "outputs": [],
   "source": [
    "df['user_score'] = df['user_score'].map({'tbd' : -2})\n",
    "df['user_score'] = df['user_score'].fillna(-1)\n",
    "df['user_score'] = df['user_score'].astype('float32')"
   ]
  },
  {
   "cell_type": "markdown",
   "id": "9d529689-cc80-4765-abc1-5bf424126b88",
   "metadata": {},
   "source": [
    "### rating  \n",
    "\n",
    "Рейтинг от организации ESRB. Довольно много нанов, их надо либо не заполнять, либо заполнить по умному. Я бы заполнил как самый частый рейтинг по жанру игры. Напишем для этого небольшую функцию"
   ]
  },
  {
   "cell_type": "code",
   "execution_count": 12,
   "id": "1f41d9ed-9c59-4215-b221-2a5d7e5a0ab7",
   "metadata": {},
   "outputs": [
    {
     "data": {
      "text/plain": [
       "array(['E', nan, 'M', 'T', 'E10+', 'K-A', 'AO', 'EC', 'RP'], dtype=object)"
      ]
     },
     "execution_count": 12,
     "metadata": {},
     "output_type": "execute_result"
    }
   ],
   "source": [
    "df['rating'].unique()"
   ]
  },
  {
   "cell_type": "code",
   "execution_count": 13,
   "id": "c3bf7411-0193-41cc-b580-a486521a6ac1",
   "metadata": {},
   "outputs": [],
   "source": [
    "from collections import Counter\n",
    "\n",
    "def fill_ratings(df):\n",
    "    df_res = df.copy()\n",
    "    new_ratings = []\n",
    "    for i in range(len(df_res)):\n",
    "        if (df_res.iloc[i]['rating'] != df_res.iloc[i]['rating']) and (df_res.iloc[i]['genre'] == df_res.iloc[i]['genre']):\n",
    "            genre = df_res.iloc[i]['genre']\n",
    "            most_freq = Counter(df_res[(df_res['genre'] == genre) & (~df_res['rating'].isna())]['rating'])\\\n",
    "                                .most_common(1)\n",
    "            new_ratings.append(most_freq[0][0])\n",
    "        else:\n",
    "            new_ratings.append(df_res.iloc[i]['rating'])\n",
    "    df_res['rating'] = new_ratings\n",
    "    return df_res"
   ]
  },
  {
   "cell_type": "code",
   "execution_count": 14,
   "id": "dbabbfca-f75d-4ca9-98e7-7141a2607ff4",
   "metadata": {},
   "outputs": [],
   "source": [
    "df = fill_ratings(df)"
   ]
  },
  {
   "cell_type": "markdown",
   "id": "d81cfcc5-a1f6-43b2-891d-0b3536ca0e25",
   "metadata": {},
   "source": [
    "### Остатки\n",
    "\n",
    "Окей, осталось 2 игры с незаполненными именем, рейтингом и жанром, их просто исключаем. Также где-то 260 игр без года релиза, тоже исключаем, не велика потеря"
   ]
  },
  {
   "cell_type": "code",
   "execution_count": 15,
   "id": "04ca4b56-e31e-45dd-8b27-83c28daa9f46",
   "metadata": {},
   "outputs": [
    {
     "name": "stdout",
     "output_type": "stream",
     "text": [
      "<class 'pandas.core.frame.DataFrame'>\n",
      "Int64Index: 16444 entries, 0 to 16714\n",
      "Data columns (total 11 columns):\n",
      " #   Column           Non-Null Count  Dtype  \n",
      "---  ------           --------------  -----  \n",
      " 0   name             16444 non-null  object \n",
      " 1   platform         16444 non-null  object \n",
      " 2   year_of_release  16444 non-null  float64\n",
      " 3   genre            16444 non-null  object \n",
      " 4   na_sales         16444 non-null  float64\n",
      " 5   eu_sales         16444 non-null  float64\n",
      " 6   jp_sales         16444 non-null  float64\n",
      " 7   other_sales      16444 non-null  float64\n",
      " 8   critic_score     16444 non-null  float64\n",
      " 9   user_score       16444 non-null  float32\n",
      " 10  rating           16444 non-null  object \n",
      "dtypes: float32(1), float64(6), object(4)\n",
      "memory usage: 1.4+ MB\n"
     ]
    }
   ],
   "source": [
    "df = df.dropna()\n",
    "df.info()"
   ]
  },
  {
   "cell_type": "markdown",
   "id": "28188799-1981-45e2-b4d6-0cd9943e15f6",
   "metadata": {},
   "source": [
    "И также приводим год к инту"
   ]
  },
  {
   "cell_type": "code",
   "execution_count": 16,
   "id": "13539f90-94d1-45bf-ae5c-075152449b7e",
   "metadata": {},
   "outputs": [],
   "source": [
    "df['year_of_release'] = df['year_of_release'].astype('int64')"
   ]
  },
  {
   "cell_type": "markdown",
   "id": "6a3aa04a-2776-4857-a87c-5a674ea43d08",
   "metadata": {},
   "source": [
    "## Суммарные продажи"
   ]
  },
  {
   "cell_type": "code",
   "execution_count": 17,
   "id": "036329e1-cb0a-4717-8a78-af58cf871aab",
   "metadata": {},
   "outputs": [],
   "source": [
    "df['all_sales'] = df['na_sales'] + df['eu_sales'] + df['jp_sales'] + df['other_sales']"
   ]
  },
  {
   "cell_type": "markdown",
   "id": "9ce65256-d350-417b-bc79-180d05e5b7cc",
   "metadata": {},
   "source": [
    "# EDA"
   ]
  },
  {
   "cell_type": "markdown",
   "id": "94f6819d-20a3-4f82-9246-da1e2ac71ab3",
   "metadata": {},
   "source": [
    "## Распределение игр по годам"
   ]
  },
  {
   "cell_type": "code",
   "execution_count": 18,
   "id": "643e3220-1048-4e9a-bd02-28f222971aba",
   "metadata": {},
   "outputs": [
    {
     "data": {
      "image/png": "[encoded data removed]",
      "text/plain": [
       "<Figure size 1008x504 with 1 Axes>"
      ]
     },
     "metadata": {
      "needs_background": "light"
     },
     "output_type": "display_data"
    }
   ],
   "source": [
    "plt.figure(figsize=(14,7))\n",
    "plt.title('Распределение кол-ва выпущенных игр по годам')\n",
    "sns.countplot(df['year_of_release'])\n",
    "plt.xticks(rotation=45)\n",
    "plt.show()"
   ]
  },
  {
   "cell_type": "markdown",
   "id": "e495d478-952c-44ef-b39d-b6e7370d24a8",
   "metadata": {},
   "source": [
    "Видно, что старые данные точно нет смысла использовать. Также есть смысл убрать пик в 2010х, чтобы информация была более актуальной. Мы хотим строить прогноз на 2017, поэтому логично оставить данные, которые плюс минус похожи на то, что было до этого, то есть берем предыдущий год - 2016 и также 2011, 2012, 2013, 2014, 2015, так как их распределение по выпуску игр в год почти совпадает. Теперь посмотрим на то, сколько живут платформы и может нужно будет еще что-то отсечь (например в 2011 и 2012 вроде еще жива была ps2, а в 2016 уже точно нет)"
   ]
  },
  {
   "cell_type": "markdown",
   "id": "d90e5d30-7e0d-4adb-b549-6e298de2822a",
   "metadata": {},
   "source": [
    "## Популярные платформы и их жизнь\n",
    "\n",
    "Возьмем топ 5 самых популярных платформ и посчитаем, как выпуск игр под эти платформы распределен по годам"
   ]
  },
  {
   "cell_type": "code",
   "execution_count": 19,
   "id": "34559d43-21a4-40de-9059-ac82269a338a",
   "metadata": {},
   "outputs": [
    {
     "data": {
      "text/plain": [
       "['PS2', 'DS', 'PS3', 'Wii', 'X360', 'PSP', 'PS', 'PC', 'GBA', 'XB']"
      ]
     },
     "execution_count": 19,
     "metadata": {},
     "output_type": "execute_result"
    }
   ],
   "source": [
    "most_popular = [el[0] for el in Counter(df['platform']).most_common(10)]\n",
    "most_popular"
   ]
  },
  {
   "cell_type": "code",
   "execution_count": 20,
   "id": "8f377510-7239-40cb-b445-a346c6c5dedd",
   "metadata": {},
   "outputs": [
    {
     "data": {
      "text/plain": [
       "(13026, 12)"
      ]
     },
     "execution_count": 20,
     "metadata": {},
     "output_type": "execute_result"
    }
   ],
   "source": [
    "df_tmp = df[df['platform'].isin(most_popular)].copy()\n",
    "df_tmp.shape"
   ]
  },
  {
   "cell_type": "code",
   "execution_count": 21,
   "id": "28c38087-5461-4c92-9aa3-8f8d15362fd5",
   "metadata": {},
   "outputs": [
    {
     "data": {
      "image/png": "[encoded data removed]",
      "text/plain": [
       "<Figure size 1512x864 with 1 Axes>"
      ]
     },
     "metadata": {
      "needs_background": "light"
     },
     "output_type": "display_data"
    }
   ],
   "source": [
    "plt.figure(figsize=(21,12))\n",
    "plt.title('Распределение кол-ва выпущенных игр по годам и платформе')\n",
    "sns.countplot(x=df_tmp['year_of_release'], hue = df_tmp['platform'])\n",
    "plt.xticks(rotation=45)\n",
    "plt.show()"
   ]
  },
  {
   "cell_type": "markdown",
   "id": "20ef5978-d4da-40f5-8ae1-9aa460c86d9a",
   "metadata": {},
   "source": [
    "Платформы живут примерно по 9 лет, ps1, ps2 очевидно уже умерли к 2016 году, на PC игры выходят стабильно (он бессмертен). PS3 и XBOX360 начинают появляться в 2006. По итогу мы видим , что к 2015-2016 году \"на ходу\" из всех популярных платформ за все время остаются ps3, pc, xbox 360. Очевидно, что уже релизнулась ps4 и новый x ящик, а мы их не видим, поэтому давайте обрежем датой выхода консолей этого поколения - 2013 и посмотрим, что происходит"
   ]
  },
  {
   "cell_type": "code",
   "execution_count": 22,
   "id": "f33f85da-4610-46cd-8e43-f8e94cad96db",
   "metadata": {},
   "outputs": [
    {
     "data": {
      "text/plain": [
       "(2233, 12)"
      ]
     },
     "execution_count": 22,
     "metadata": {},
     "output_type": "execute_result"
    }
   ],
   "source": [
    "df_tmp = df[df['year_of_release'] >= 2013].copy()\n",
    "df_tmp.shape"
   ]
  },
  {
   "cell_type": "code",
   "execution_count": 23,
   "id": "5180c700-8b70-47c8-8b36-e20c72a619b0",
   "metadata": {},
   "outputs": [
    {
     "data": {
      "image/png": "[encoded data removed]",
      "text/plain": [
       "<Figure size 1512x864 with 1 Axes>"
      ]
     },
     "metadata": {
      "needs_background": "light"
     },
     "output_type": "display_data"
    }
   ],
   "source": [
    "plt.figure(figsize=(21,12))\n",
    "plt.title('Распределение кол-ва выпущенных игр по годам и платформе')\n",
    "sns.countplot(x=df_tmp['year_of_release'], hue = df_tmp['platform'])\n",
    "plt.xticks(rotation=45)\n",
    "plt.show()"
   ]
  },
  {
   "cell_type": "markdown",
   "id": "36fc34b0-7ac0-47b1-acbe-1dd78b60c871",
   "metadata": {},
   "source": [
    "Супер. Что мы видим? PSP c 2014 года умирает, в 2016 ее уже вообще нет. Доля PS3 и Xbox360 уменьшается, вперед выходят PS4 и Xbox One. PSV стабильно, PC тоже. Wii, Wiiu тоже стабильно.\n",
    "\n",
    "По итогу на 2016 год лидирует с большим отрывом PS4, далее XOne и PC. Самые три платформы, которые всего на слуху - платформа от Sony, от Microsoft и старый добрый PC, меняются со временем только версии этих консолей.\n",
    "\n",
    "Итак, я предлагаю взять данные 2015, 2016 года (обычно 2 года горизонт это нормально для прогноза) и взять только актуальные платформы (нет смысла брать ps3 и xbox360, так как все то же самое выйдет на ps4 и xbox one и даже больше). Берем платформы PS4, Xbox One, PC, PSV, 3DS.\n"
   ]
  },
  {
   "cell_type": "code",
   "execution_count": 24,
   "id": "bbb2795c-5a84-4518-9a44-15414f300f20",
   "metadata": {},
   "outputs": [
    {
     "name": "stdout",
     "output_type": "stream",
     "text": [
      "(899, 12)\n"
     ]
    },
    {
     "data": {
      "text/html": [
       "<div>\n",
       "<style scoped>\n",
       "    .dataframe tbody tr th:only-of-type {\n",
       "        vertical-align: middle;\n",
       "    }\n",
       "\n",
       "    .dataframe tbody tr th {\n",
       "        vertical-align: top;\n",
       "    }\n",
       "\n",
       "    .dataframe thead th {\n",
       "        text-align: right;\n",
       "    }\n",
       "</style>\n",
       "<table border=\"1\" class=\"dataframe\">\n",
       "  <thead>\n",
       "    <tr style=\"text-align: right;\">\n",
       "      <th></th>\n",
       "      <th>name</th>\n",
       "      <th>platform</th>\n",
       "      <th>year_of_release</th>\n",
       "      <th>genre</th>\n",
       "      <th>na_sales</th>\n",
       "      <th>eu_sales</th>\n",
       "      <th>jp_sales</th>\n",
       "      <th>other_sales</th>\n",
       "      <th>critic_score</th>\n",
       "      <th>user_score</th>\n",
       "      <th>rating</th>\n",
       "      <th>all_sales</th>\n",
       "    </tr>\n",
       "  </thead>\n",
       "  <tbody>\n",
       "    <tr>\n",
       "      <th>31</th>\n",
       "      <td>Call of Duty: Black Ops 3</td>\n",
       "      <td>PS4</td>\n",
       "      <td>2015</td>\n",
       "      <td>Shooter</td>\n",
       "      <td>6.03</td>\n",
       "      <td>5.86</td>\n",
       "      <td>0.36</td>\n",
       "      <td>2.38</td>\n",
       "      <td>-1.0</td>\n",
       "      <td>-1.0</td>\n",
       "      <td>M</td>\n",
       "      <td>14.63</td>\n",
       "    </tr>\n",
       "    <tr>\n",
       "      <th>77</th>\n",
       "      <td>FIFA 16</td>\n",
       "      <td>PS4</td>\n",
       "      <td>2015</td>\n",
       "      <td>Sports</td>\n",
       "      <td>1.12</td>\n",
       "      <td>6.12</td>\n",
       "      <td>0.06</td>\n",
       "      <td>1.28</td>\n",
       "      <td>82.0</td>\n",
       "      <td>-1.0</td>\n",
       "      <td>E</td>\n",
       "      <td>8.58</td>\n",
       "    </tr>\n",
       "    <tr>\n",
       "      <th>87</th>\n",
       "      <td>Star Wars Battlefront (2015)</td>\n",
       "      <td>PS4</td>\n",
       "      <td>2015</td>\n",
       "      <td>Shooter</td>\n",
       "      <td>2.99</td>\n",
       "      <td>3.49</td>\n",
       "      <td>0.22</td>\n",
       "      <td>1.28</td>\n",
       "      <td>-1.0</td>\n",
       "      <td>-1.0</td>\n",
       "      <td>M</td>\n",
       "      <td>7.98</td>\n",
       "    </tr>\n",
       "    <tr>\n",
       "      <th>94</th>\n",
       "      <td>FIFA 17</td>\n",
       "      <td>PS4</td>\n",
       "      <td>2016</td>\n",
       "      <td>Sports</td>\n",
       "      <td>0.66</td>\n",
       "      <td>5.75</td>\n",
       "      <td>0.08</td>\n",
       "      <td>1.11</td>\n",
       "      <td>85.0</td>\n",
       "      <td>-1.0</td>\n",
       "      <td>E</td>\n",
       "      <td>7.60</td>\n",
       "    </tr>\n",
       "    <tr>\n",
       "      <th>99</th>\n",
       "      <td>Call of Duty: Black Ops 3</td>\n",
       "      <td>XOne</td>\n",
       "      <td>2015</td>\n",
       "      <td>Shooter</td>\n",
       "      <td>4.59</td>\n",
       "      <td>2.11</td>\n",
       "      <td>0.01</td>\n",
       "      <td>0.68</td>\n",
       "      <td>-1.0</td>\n",
       "      <td>-1.0</td>\n",
       "      <td>M</td>\n",
       "      <td>7.39</td>\n",
       "    </tr>\n",
       "  </tbody>\n",
       "</table>\n",
       "</div>"
      ],
      "text/plain": [
       "                            name platform  year_of_release    genre  na_sales  \\\n",
       "31     Call of Duty: Black Ops 3      PS4             2015  Shooter      6.03   \n",
       "77                       FIFA 16      PS4             2015   Sports      1.12   \n",
       "87  Star Wars Battlefront (2015)      PS4             2015  Shooter      2.99   \n",
       "94                       FIFA 17      PS4             2016   Sports      0.66   \n",
       "99     Call of Duty: Black Ops 3     XOne             2015  Shooter      4.59   \n",
       "\n",
       "    eu_sales  jp_sales  other_sales  critic_score  user_score rating  \\\n",
       "31      5.86      0.36         2.38          -1.0        -1.0      M   \n",
       "77      6.12      0.06         1.28          82.0        -1.0      E   \n",
       "87      3.49      0.22         1.28          -1.0        -1.0      M   \n",
       "94      5.75      0.08         1.11          85.0        -1.0      E   \n",
       "99      2.11      0.01         0.68          -1.0        -1.0      M   \n",
       "\n",
       "    all_sales  \n",
       "31      14.63  \n",
       "77       8.58  \n",
       "87       7.98  \n",
       "94       7.60  \n",
       "99       7.39  "
      ]
     },
     "execution_count": 24,
     "metadata": {},
     "output_type": "execute_result"
    }
   ],
   "source": [
    "platforms = ['PS4', 'XOne', 'PC', 'PSV', '3DS']\n",
    "df_new = df[df['year_of_release'] >= 2015].copy()\n",
    "df_new = df_new[df_new['platform'].isin(platforms)]\n",
    "print(df_new.shape)\n",
    "df_new.head()"
   ]
  },
  {
   "cell_type": "markdown",
   "id": "3ccb0aa3-e181-4c85-9529-2eb9ca868e24",
   "metadata": {},
   "source": [
    "## Ящик с усами"
   ]
  },
  {
   "cell_type": "code",
   "execution_count": 25,
   "id": "eef088a3-acd9-455e-9306-69adb71e291a",
   "metadata": {},
   "outputs": [],
   "source": [
    "platforms = ['PS4', 'XOne', 'PC', 'PSV', '3DS']"
   ]
  },
  {
   "cell_type": "code",
   "execution_count": 26,
   "id": "34125a30-b676-4139-885a-3166b22de7aa",
   "metadata": {},
   "outputs": [
    {
     "data": {
      "image/png": "[encoded data removed]",
      "text/plain": [
       "<Figure size 1440x2160 with 6 Axes>"
      ]
     },
     "metadata": {
      "needs_background": "light"
     },
     "output_type": "display_data"
    }
   ],
   "source": [
    "fig = plt.figure(figsize=(20,30))\n",
    "plt.axis('off')\n",
    "\n",
    "for i, p in enumerate(platforms):\n",
    "    ax = fig.add_subplot(len(platforms), 1, i + 1)\n",
    "    ax.set_title(p)\n",
    "    sns.boxplot(x = df_new[df_new['platform'] == p]['all_sales'])\n",
    "    sns.stripplot(x= df_new[df_new['platform'] == p]['all_sales'], color='blue')\n",
    "\n",
    "        \n",
    "plt.show()"
   ]
  },
  {
   "cell_type": "markdown",
   "id": "f5388986-aca9-4de1-add8-c90d81125574",
   "metadata": {},
   "source": [
    "В данных есть аномальные значения, они хорошо заметны у PS4, XOne и 3DS. Значит там есть игры, которые сильно выстреливают и их достаточно много, скорее всего это какие-то эксклюзивы. Вот у PC мы такой картины не видим. Вообще, насколько я знаю, цены на игры на консолях на порядок выше, чем на ПК, ну а самой прибыльной консолью кажется PS4 (ну она была действительно самая крутая, с кучей эксклюзивов, сейчас на дворе конец 2022, а она жива до сих пор, правда в Pro версии). Я выберу для дальнейшего анализа PS4."
   ]
  },
  {
   "cell_type": "markdown",
   "id": "6f8de03a-a236-455c-a555-da289b449efd",
   "metadata": {},
   "source": [
    "## Отзывы и продажи PS4\n",
    "\n",
    "Окей, выделим данные с PS4, благо их достаточно, так как она самая популярная. Уберем данные с пропущенными оценками при анализе, чтобы получить достоверные выводы."
   ]
  },
  {
   "cell_type": "code",
   "execution_count": 27,
   "id": "5fe1641c-2e9e-474c-bc11-9575723c385e",
   "metadata": {},
   "outputs": [
    {
     "data": {
      "text/plain": [
       "(301, 12)"
      ]
     },
     "execution_count": 27,
     "metadata": {},
     "output_type": "execute_result"
    }
   ],
   "source": [
    "df_ps = df_new[df_new['platform'] == 'PS4'].copy()\n",
    "df_ps.shape"
   ]
  },
  {
   "cell_type": "code",
   "execution_count": 28,
   "id": "64ed2d98-a61e-4149-b985-b338a988e2bb",
   "metadata": {},
   "outputs": [
    {
     "data": {
      "image/png": "[encoded data removed]",
      "text/plain": [
       "<Figure size 864x576 with 1 Axes>"
      ]
     },
     "metadata": {
      "needs_background": "light"
     },
     "output_type": "display_data"
    }
   ],
   "source": [
    "plt.figure(figsize=(12,8))\n",
    "plt.title('Зависимость продаж от отзывов критиков')\n",
    "plt.scatter(df_ps[df_ps['critic_score'] != -1]['all_sales'], df_ps[df_ps['critic_score'] != -1]['critic_score'], c='green')\n",
    "plt.xlabel('all_sales')\n",
    "plt.ylabel('critic_score')\n",
    "plt.show()"
   ]
  },
  {
   "cell_type": "code",
   "execution_count": 29,
   "id": "cfe1cc0d-3906-420b-a4bf-e35ee77314bc",
   "metadata": {},
   "outputs": [
    {
     "data": {
      "text/plain": [
       "array([-1., -2.], dtype=float32)"
      ]
     },
     "execution_count": 29,
     "metadata": {},
     "output_type": "execute_result"
    }
   ],
   "source": [
    "df_ps['user_score'].unique()"
   ]
  },
  {
   "cell_type": "markdown",
   "id": "f877faa9-d654-4dd9-8762-fe0c4f84093a",
   "metadata": {},
   "source": [
    "А вот как раз отзывы игроков на игры PS4 2015, 2016 года либо пропущены, либо TBD (сони что запретили оценивать игры???)"
   ]
  },
  {
   "cell_type": "code",
   "execution_count": 30,
   "id": "5edfc0cf-584b-4ced-8bf6-9af933baa65a",
   "metadata": {},
   "outputs": [
    {
     "data": {
      "text/html": [
       "<div>\n",
       "<style scoped>\n",
       "    .dataframe tbody tr th:only-of-type {\n",
       "        vertical-align: middle;\n",
       "    }\n",
       "\n",
       "    .dataframe tbody tr th {\n",
       "        vertical-align: top;\n",
       "    }\n",
       "\n",
       "    .dataframe thead th {\n",
       "        text-align: right;\n",
       "    }\n",
       "</style>\n",
       "<table border=\"1\" class=\"dataframe\">\n",
       "  <thead>\n",
       "    <tr style=\"text-align: right;\">\n",
       "      <th></th>\n",
       "      <th>critic_score</th>\n",
       "    </tr>\n",
       "  </thead>\n",
       "  <tbody>\n",
       "    <tr>\n",
       "      <th>critic_score</th>\n",
       "      <td>1.000000</td>\n",
       "    </tr>\n",
       "    <tr>\n",
       "      <th>all_sales</th>\n",
       "      <td>0.392849</td>\n",
       "    </tr>\n",
       "    <tr>\n",
       "      <th>na_sales</th>\n",
       "      <td>0.406409</td>\n",
       "    </tr>\n",
       "    <tr>\n",
       "      <th>eu_sales</th>\n",
       "      <td>0.310625</td>\n",
       "    </tr>\n",
       "    <tr>\n",
       "      <th>jp_sales</th>\n",
       "      <td>0.366784</td>\n",
       "    </tr>\n",
       "    <tr>\n",
       "      <th>other_sales</th>\n",
       "      <td>0.394959</td>\n",
       "    </tr>\n",
       "  </tbody>\n",
       "</table>\n",
       "</div>"
      ],
      "text/plain": [
       "              critic_score\n",
       "critic_score      1.000000\n",
       "all_sales         0.392849\n",
       "na_sales          0.406409\n",
       "eu_sales          0.310625\n",
       "jp_sales          0.366784\n",
       "other_sales       0.394959"
      ]
     },
     "execution_count": 30,
     "metadata": {},
     "output_type": "execute_result"
    }
   ],
   "source": [
    "df_ps[df_ps['critic_score'] != -1][['critic_score', 'all_sales', 'na_sales', 'eu_sales', 'jp_sales', 'other_sales']]\\\n",
    "        .corr()[['critic_score']]"
   ]
  },
  {
   "cell_type": "markdown",
   "id": "174a7734-f6d4-4f40-8675-5f30c3000497",
   "metadata": {},
   "source": [
    "Итак, визуально на графике видно, что игры с хорошими оценками критиков лучше и больше продаются. Также видно, что между продажами и оценками критиков есть линейная зависимость (корреляция), причем они коррелируют довольно сильно. Такая же тенденция должна сохраняться для других платформ, так как это в целом логично. Однако, критики часто бывают куплены и на продажи также должны влиять оценки пользователей. По поводу отзывов пользователей, к сожалению, сказать ничего не получится. Хотя у меня появилась мысль, что TBD (-2) может появляться из-за того, что оценка этой игры пользователями есть где-то на другой платформе. Давайте попробуем это проверить и восстановить."
   ]
  },
  {
   "cell_type": "code",
   "execution_count": 31,
   "id": "04e59d93-b643-45b4-8cd4-a9a7c59ac29c",
   "metadata": {},
   "outputs": [],
   "source": [
    "def fill_tbd(df):\n",
    "    df_res = df.copy()\n",
    "    new_scores = []\n",
    "    for i in range(len(df_res)):\n",
    "        if df_res.iloc[i]['user_score'] == -2:\n",
    "            platform = df_res.iloc[i]['platform']\n",
    "            game = df_res.iloc[i]['name']\n",
    "            year = df_res.iloc[i]['year_of_release']\n",
    "            scores = np.unique(df_res[(df_res['name'] == game) & (df_res['year_of_release'] == year) &\\\n",
    "                                      (df_res['platform'] != platform)]['user_score'].values)\n",
    "            scores = np.concatenate((scores, [-1]), axis=0)\n",
    "            new_scores.append(np.max(scores))\n",
    "        else:\n",
    "            new_scores.append(df_res.iloc[i]['user_score'])\n",
    "    df_res['user_score'] = new_scores\n",
    "    return df_res"
   ]
  },
  {
   "cell_type": "code",
   "execution_count": 32,
   "id": "198be7ec-7a63-4000-99d2-b9e1243c2af8",
   "metadata": {},
   "outputs": [],
   "source": [
    "df_new1 = fill_tbd(df_new)"
   ]
  },
  {
   "cell_type": "code",
   "execution_count": 33,
   "id": "708d20f2-3861-4626-881b-3af0f81641f5",
   "metadata": {},
   "outputs": [
    {
     "data": {
      "text/plain": [
       "(301, 12)"
      ]
     },
     "execution_count": 33,
     "metadata": {},
     "output_type": "execute_result"
    }
   ],
   "source": [
    "df_ps1 = df_new1[df_new1['platform'] == 'PS4'].copy()\n",
    "df_ps1.shape"
   ]
  },
  {
   "cell_type": "code",
   "execution_count": 34,
   "id": "bbb0a4b9-ac91-4c1f-a9c6-eb1c698f11cf",
   "metadata": {},
   "outputs": [
    {
     "data": {
      "text/plain": [
       "array([-1.])"
      ]
     },
     "execution_count": 34,
     "metadata": {},
     "output_type": "execute_result"
    }
   ],
   "source": [
    "df_ps1['user_score'].unique()"
   ]
  },
  {
   "cell_type": "markdown",
   "id": "4e2744c5-9c41-48ee-bf7a-a3d9563a5517",
   "metadata": {},
   "source": [
    "Функцию написал, однако, восстановить не получилось, похоже, что для этих игр действительно такая ситуация"
   ]
  },
  {
   "cell_type": "markdown",
   "id": "7b4f3b18-f814-460a-8593-e4079130634f",
   "metadata": {},
   "source": [
    "## Игры по жанрам"
   ]
  },
  {
   "cell_type": "code",
   "execution_count": 35,
   "id": "b6af1739-cb26-42ae-b5a9-35ac926907f5",
   "metadata": {},
   "outputs": [
    {
     "data": {
      "image/png": "[encoded data removed]",
      "text/plain": [
       "<Figure size 1008x504 with 1 Axes>"
      ]
     },
     "metadata": {
      "needs_background": "light"
     },
     "output_type": "display_data"
    }
   ],
   "source": [
    "plt.figure(figsize=(14,7))\n",
    "plt.title('Распределение кол-ва выпущенных игр по жанрам')\n",
    "sns.countplot(df_new['genre'])\n",
    "plt.xticks(rotation=45)\n",
    "plt.show()"
   ]
  },
  {
   "cell_type": "code",
   "execution_count": 36,
   "id": "ac2e19dd-d4b1-4b74-aaf0-ed83d3f93b52",
   "metadata": {},
   "outputs": [
    {
     "data": {
      "image/png": "[encoded data removed]",
      "text/plain": [
       "<Figure size 864x576 with 1 Axes>"
      ]
     },
     "metadata": {
      "needs_background": "light"
     },
     "output_type": "display_data"
    }
   ],
   "source": [
    "plt.figure(figsize=(12,8))\n",
    "plt.title('Зависимость продаж от отзывов критиков')\n",
    "plt.scatter(df_new['all_sales'], df_new['genre'], c='green')\n",
    "plt.xlabel('all_sales')\n",
    "plt.ylabel('genre')\n",
    "plt.show()"
   ]
  },
  {
   "cell_type": "markdown",
   "id": "b9339c91-821d-49bc-8f85-408187ce093f",
   "metadata": {},
   "source": [
    "Больше всего за 15-16 года по выбранным платформам выпускалось игр жанра Action, однако, самыми прибыльными можно отметить шутеры и спортивные игры (их вышло примерно одинаково), а также рол плеи (их чуть больше чем шутеров). Согласен со всем, кроме рол плеев, хотя были и очень популярные игры для консолей по типу кино, они соответственно и были прибыльными."
   ]
  },
  {
   "cell_type": "markdown",
   "id": "8367218f-6e1a-420b-b52a-36f2b8a8ca0b",
   "metadata": {},
   "source": [
    "# Портрет пользователя\n",
    "\n",
    "Не очень понимаю, как отдельно выделить регион, поэтому предлагаю просуммировать продажи в рамках каждой платформы, а затем в рамках жанра по регионам и посмотреть наиболее прибыльные (скорее всего это равно наиболее популярные)"
   ]
  },
  {
   "cell_type": "markdown",
   "id": "33caa700-ec66-4a3e-bb9b-c8e1e2a30f4d",
   "metadata": {},
   "source": [
    "## Платформы"
   ]
  },
  {
   "cell_type": "code",
   "execution_count": 37,
   "id": "8a3c387a-71a0-4a69-b04d-b75534824fbe",
   "metadata": {},
   "outputs": [
    {
     "data": {
      "text/html": [
       "<div>\n",
       "<style scoped>\n",
       "    .dataframe tbody tr th:only-of-type {\n",
       "        vertical-align: middle;\n",
       "    }\n",
       "\n",
       "    .dataframe tbody tr th {\n",
       "        vertical-align: top;\n",
       "    }\n",
       "\n",
       "    .dataframe thead th {\n",
       "        text-align: right;\n",
       "    }\n",
       "</style>\n",
       "<table border=\"1\" class=\"dataframe\">\n",
       "  <thead>\n",
       "    <tr style=\"text-align: right;\">\n",
       "      <th></th>\n",
       "      <th>platform</th>\n",
       "      <th>na_sales</th>\n",
       "      <th>eu_sales</th>\n",
       "      <th>jp_sales</th>\n",
       "    </tr>\n",
       "  </thead>\n",
       "  <tbody>\n",
       "    <tr>\n",
       "      <th>0</th>\n",
       "      <td>3DS</td>\n",
       "      <td>10.31</td>\n",
       "      <td>7.39</td>\n",
       "      <td>23.55</td>\n",
       "    </tr>\n",
       "    <tr>\n",
       "      <th>1</th>\n",
       "      <td>PC</td>\n",
       "      <td>3.72</td>\n",
       "      <td>9.10</td>\n",
       "      <td>0.00</td>\n",
       "    </tr>\n",
       "    <tr>\n",
       "      <th>2</th>\n",
       "      <td>PS4</td>\n",
       "      <td>63.86</td>\n",
       "      <td>83.54</td>\n",
       "      <td>12.05</td>\n",
       "    </tr>\n",
       "    <tr>\n",
       "      <th>3</th>\n",
       "      <td>PSV</td>\n",
       "      <td>0.54</td>\n",
       "      <td>1.08</td>\n",
       "      <td>8.41</td>\n",
       "    </tr>\n",
       "    <tr>\n",
       "      <th>4</th>\n",
       "      <td>XOne</td>\n",
       "      <td>50.30</td>\n",
       "      <td>28.10</td>\n",
       "      <td>0.18</td>\n",
       "    </tr>\n",
       "  </tbody>\n",
       "</table>\n",
       "</div>"
      ],
      "text/plain": [
       "  platform  na_sales  eu_sales  jp_sales\n",
       "0      3DS     10.31      7.39     23.55\n",
       "1       PC      3.72      9.10      0.00\n",
       "2      PS4     63.86     83.54     12.05\n",
       "3      PSV      0.54      1.08      8.41\n",
       "4     XOne     50.30     28.10      0.18"
      ]
     },
     "execution_count": 37,
     "metadata": {},
     "output_type": "execute_result"
    }
   ],
   "source": [
    "df_new.groupby('platform').sum()[['na_sales', 'eu_sales', 'jp_sales']].reset_index()"
   ]
  },
  {
   "cell_type": "code",
   "execution_count": 38,
   "id": "f40e757f-82de-4112-befe-9617db6e412f",
   "metadata": {},
   "outputs": [
    {
     "data": {
      "text/html": [
       "<div>\n",
       "<style scoped>\n",
       "    .dataframe tbody tr th:only-of-type {\n",
       "        vertical-align: middle;\n",
       "    }\n",
       "\n",
       "    .dataframe tbody tr th {\n",
       "        vertical-align: top;\n",
       "    }\n",
       "\n",
       "    .dataframe thead th {\n",
       "        text-align: right;\n",
       "    }\n",
       "</style>\n",
       "<table border=\"1\" class=\"dataframe\">\n",
       "  <thead>\n",
       "    <tr style=\"text-align: right;\">\n",
       "      <th></th>\n",
       "      <th>platform</th>\n",
       "      <th>na_sales</th>\n",
       "      <th>eu_sales</th>\n",
       "      <th>jp_sales</th>\n",
       "    </tr>\n",
       "  </thead>\n",
       "  <tbody>\n",
       "    <tr>\n",
       "      <th>0</th>\n",
       "      <td>3DS</td>\n",
       "      <td>8.009011</td>\n",
       "      <td>5.719372</td>\n",
       "      <td>53.292600</td>\n",
       "    </tr>\n",
       "    <tr>\n",
       "      <th>1</th>\n",
       "      <td>PC</td>\n",
       "      <td>2.889769</td>\n",
       "      <td>7.042799</td>\n",
       "      <td>0.000000</td>\n",
       "    </tr>\n",
       "    <tr>\n",
       "      <th>2</th>\n",
       "      <td>PS4</td>\n",
       "      <td>49.607706</td>\n",
       "      <td>64.654439</td>\n",
       "      <td>27.268613</td>\n",
       "    </tr>\n",
       "    <tr>\n",
       "      <th>3</th>\n",
       "      <td>PSV</td>\n",
       "      <td>0.419483</td>\n",
       "      <td>0.835849</td>\n",
       "      <td>19.031455</td>\n",
       "    </tr>\n",
       "    <tr>\n",
       "      <th>4</th>\n",
       "      <td>XOne</td>\n",
       "      <td>39.074031</td>\n",
       "      <td>21.747543</td>\n",
       "      <td>0.407332</td>\n",
       "    </tr>\n",
       "  </tbody>\n",
       "</table>\n",
       "</div>"
      ],
      "text/plain": [
       "  platform   na_sales   eu_sales   jp_sales\n",
       "0      3DS   8.009011   5.719372  53.292600\n",
       "1       PC   2.889769   7.042799   0.000000\n",
       "2      PS4  49.607706  64.654439  27.268613\n",
       "3      PSV   0.419483   0.835849  19.031455\n",
       "4     XOne  39.074031  21.747543   0.407332"
      ]
     },
     "execution_count": 38,
     "metadata": {},
     "output_type": "execute_result"
    }
   ],
   "source": [
    "df_new.groupby('platform').sum()[['na_sales', 'eu_sales', 'jp_sales']]\\\n",
    "    .transform(lambda x: x / x.sum() * 100, axis = 0).reset_index()"
   ]
  },
  {
   "cell_type": "markdown",
   "id": "780f9311-9015-4c68-b0a0-d056d8941b1b",
   "metadata": {},
   "source": [
    "* Для Северной Америки почти 50 процентов продаж приходит с PS4 и 40 с XOne. То есть в сумме для этого региона почти 90 процентов это консоли от Sony и Microsoft. Очень низкая доля PC - менее 3 процентов\n",
    "* Для Европы PS4 уже 64.65 процента, при этом доля Xone значительно проседает (ну консоли Microsoft гораздо популярнее в США, это факт). Доля PC тоже низкая - 7 процентов\n",
    "* В Японии на PC не играют, зато в топе 3DS - 53%. Странно, что PS4 от японской компании Sony так сильно проигрывает 3DS, доля PS4 27 %. Также тут играют в PSV, в которые практически не играют в США и Европе.\n"
   ]
  },
  {
   "cell_type": "markdown",
   "id": "8b6b11f8-fd19-4848-bc7a-2de85ff08965",
   "metadata": {},
   "source": [
    "## Жанры"
   ]
  },
  {
   "cell_type": "code",
   "execution_count": 39,
   "id": "66e81d68-0514-4b7a-83d9-0542ebb96808",
   "metadata": {},
   "outputs": [
    {
     "data": {
      "text/html": [
       "<div>\n",
       "<style scoped>\n",
       "    .dataframe tbody tr th:only-of-type {\n",
       "        vertical-align: middle;\n",
       "    }\n",
       "\n",
       "    .dataframe tbody tr th {\n",
       "        vertical-align: top;\n",
       "    }\n",
       "\n",
       "    .dataframe thead th {\n",
       "        text-align: right;\n",
       "    }\n",
       "</style>\n",
       "<table border=\"1\" class=\"dataframe\">\n",
       "  <thead>\n",
       "    <tr style=\"text-align: right;\">\n",
       "      <th></th>\n",
       "      <th>genre</th>\n",
       "      <th>na_sales</th>\n",
       "      <th>eu_sales</th>\n",
       "      <th>jp_sales</th>\n",
       "    </tr>\n",
       "  </thead>\n",
       "  <tbody>\n",
       "    <tr>\n",
       "      <th>0</th>\n",
       "      <td>Action</td>\n",
       "      <td>28.26</td>\n",
       "      <td>30.23</td>\n",
       "      <td>20.16</td>\n",
       "    </tr>\n",
       "    <tr>\n",
       "      <th>1</th>\n",
       "      <td>Adventure</td>\n",
       "      <td>2.81</td>\n",
       "      <td>3.83</td>\n",
       "      <td>1.99</td>\n",
       "    </tr>\n",
       "    <tr>\n",
       "      <th>2</th>\n",
       "      <td>Fighting</td>\n",
       "      <td>4.67</td>\n",
       "      <td>3.25</td>\n",
       "      <td>1.08</td>\n",
       "    </tr>\n",
       "    <tr>\n",
       "      <th>3</th>\n",
       "      <td>Misc</td>\n",
       "      <td>2.93</td>\n",
       "      <td>2.16</td>\n",
       "      <td>2.39</td>\n",
       "    </tr>\n",
       "    <tr>\n",
       "      <th>4</th>\n",
       "      <td>Platform</td>\n",
       "      <td>1.46</td>\n",
       "      <td>1.46</td>\n",
       "      <td>0.25</td>\n",
       "    </tr>\n",
       "    <tr>\n",
       "      <th>5</th>\n",
       "      <td>Puzzle</td>\n",
       "      <td>0.06</td>\n",
       "      <td>0.13</td>\n",
       "      <td>0.51</td>\n",
       "    </tr>\n",
       "    <tr>\n",
       "      <th>6</th>\n",
       "      <td>Racing</td>\n",
       "      <td>2.82</td>\n",
       "      <td>6.46</td>\n",
       "      <td>0.25</td>\n",
       "    </tr>\n",
       "    <tr>\n",
       "      <th>7</th>\n",
       "      <td>Role-Playing</td>\n",
       "      <td>19.07</td>\n",
       "      <td>16.66</td>\n",
       "      <td>12.10</td>\n",
       "    </tr>\n",
       "    <tr>\n",
       "      <th>8</th>\n",
       "      <td>Shooter</td>\n",
       "      <td>44.10</td>\n",
       "      <td>37.27</td>\n",
       "      <td>2.10</td>\n",
       "    </tr>\n",
       "    <tr>\n",
       "      <th>9</th>\n",
       "      <td>Simulation</td>\n",
       "      <td>1.03</td>\n",
       "      <td>3.43</td>\n",
       "      <td>1.93</td>\n",
       "    </tr>\n",
       "    <tr>\n",
       "      <th>10</th>\n",
       "      <td>Sports</td>\n",
       "      <td>20.70</td>\n",
       "      <td>22.76</td>\n",
       "      <td>1.04</td>\n",
       "    </tr>\n",
       "    <tr>\n",
       "      <th>11</th>\n",
       "      <td>Strategy</td>\n",
       "      <td>0.82</td>\n",
       "      <td>1.57</td>\n",
       "      <td>0.39</td>\n",
       "    </tr>\n",
       "  </tbody>\n",
       "</table>\n",
       "</div>"
      ],
      "text/plain": [
       "           genre  na_sales  eu_sales  jp_sales\n",
       "0         Action     28.26     30.23     20.16\n",
       "1      Adventure      2.81      3.83      1.99\n",
       "2       Fighting      4.67      3.25      1.08\n",
       "3           Misc      2.93      2.16      2.39\n",
       "4       Platform      1.46      1.46      0.25\n",
       "5         Puzzle      0.06      0.13      0.51\n",
       "6         Racing      2.82      6.46      0.25\n",
       "7   Role-Playing     19.07     16.66     12.10\n",
       "8        Shooter     44.10     37.27      2.10\n",
       "9     Simulation      1.03      3.43      1.93\n",
       "10        Sports     20.70     22.76      1.04\n",
       "11      Strategy      0.82      1.57      0.39"
      ]
     },
     "execution_count": 39,
     "metadata": {},
     "output_type": "execute_result"
    }
   ],
   "source": [
    "df_new.groupby('genre').sum()[['na_sales', 'eu_sales', 'jp_sales']].reset_index()"
   ]
  },
  {
   "cell_type": "code",
   "execution_count": 40,
   "id": "7645efbc-28c1-4f9e-9b81-b2d2df906193",
   "metadata": {},
   "outputs": [
    {
     "data": {
      "text/html": [
       "<div>\n",
       "<style scoped>\n",
       "    .dataframe tbody tr th:only-of-type {\n",
       "        vertical-align: middle;\n",
       "    }\n",
       "\n",
       "    .dataframe tbody tr th {\n",
       "        vertical-align: top;\n",
       "    }\n",
       "\n",
       "    .dataframe thead th {\n",
       "        text-align: right;\n",
       "    }\n",
       "</style>\n",
       "<table border=\"1\" class=\"dataframe\">\n",
       "  <thead>\n",
       "    <tr style=\"text-align: right;\">\n",
       "      <th></th>\n",
       "      <th>genre</th>\n",
       "      <th>na_sales</th>\n",
       "      <th>eu_sales</th>\n",
       "      <th>jp_sales</th>\n",
       "    </tr>\n",
       "  </thead>\n",
       "  <tbody>\n",
       "    <tr>\n",
       "      <th>0</th>\n",
       "      <td>Action</td>\n",
       "      <td>21.952925</td>\n",
       "      <td>23.396022</td>\n",
       "      <td>45.621181</td>\n",
       "    </tr>\n",
       "    <tr>\n",
       "      <th>1</th>\n",
       "      <td>Adventure</td>\n",
       "      <td>2.182863</td>\n",
       "      <td>2.964167</td>\n",
       "      <td>4.503281</td>\n",
       "    </tr>\n",
       "    <tr>\n",
       "      <th>2</th>\n",
       "      <td>Fighting</td>\n",
       "      <td>3.627748</td>\n",
       "      <td>2.515285</td>\n",
       "      <td>2.443992</td>\n",
       "    </tr>\n",
       "    <tr>\n",
       "      <th>3</th>\n",
       "      <td>Misc</td>\n",
       "      <td>2.276082</td>\n",
       "      <td>1.671697</td>\n",
       "      <td>5.408463</td>\n",
       "    </tr>\n",
       "    <tr>\n",
       "      <th>4</th>\n",
       "      <td>Platform</td>\n",
       "      <td>1.134157</td>\n",
       "      <td>1.129944</td>\n",
       "      <td>0.565739</td>\n",
       "    </tr>\n",
       "    <tr>\n",
       "      <th>5</th>\n",
       "      <td>Puzzle</td>\n",
       "      <td>0.046609</td>\n",
       "      <td>0.100611</td>\n",
       "      <td>1.154107</td>\n",
       "    </tr>\n",
       "    <tr>\n",
       "      <th>6</th>\n",
       "      <td>Racing</td>\n",
       "      <td>2.190632</td>\n",
       "      <td>4.999613</td>\n",
       "      <td>0.565739</td>\n",
       "    </tr>\n",
       "    <tr>\n",
       "      <th>7</th>\n",
       "      <td>Role-Playing</td>\n",
       "      <td>14.813952</td>\n",
       "      <td>12.893739</td>\n",
       "      <td>27.381761</td>\n",
       "    </tr>\n",
       "    <tr>\n",
       "      <th>8</th>\n",
       "      <td>Shooter</td>\n",
       "      <td>34.257749</td>\n",
       "      <td>28.844517</td>\n",
       "      <td>4.752206</td>\n",
       "    </tr>\n",
       "    <tr>\n",
       "      <th>9</th>\n",
       "      <td>Simulation</td>\n",
       "      <td>0.800124</td>\n",
       "      <td>2.654593</td>\n",
       "      <td>4.367504</td>\n",
       "    </tr>\n",
       "    <tr>\n",
       "      <th>10</th>\n",
       "      <td>Sports</td>\n",
       "      <td>16.080168</td>\n",
       "      <td>17.614736</td>\n",
       "      <td>2.353474</td>\n",
       "    </tr>\n",
       "    <tr>\n",
       "      <th>11</th>\n",
       "      <td>Strategy</td>\n",
       "      <td>0.636992</td>\n",
       "      <td>1.215076</td>\n",
       "      <td>0.882553</td>\n",
       "    </tr>\n",
       "  </tbody>\n",
       "</table>\n",
       "</div>"
      ],
      "text/plain": [
       "           genre   na_sales   eu_sales   jp_sales\n",
       "0         Action  21.952925  23.396022  45.621181\n",
       "1      Adventure   2.182863   2.964167   4.503281\n",
       "2       Fighting   3.627748   2.515285   2.443992\n",
       "3           Misc   2.276082   1.671697   5.408463\n",
       "4       Platform   1.134157   1.129944   0.565739\n",
       "5         Puzzle   0.046609   0.100611   1.154107\n",
       "6         Racing   2.190632   4.999613   0.565739\n",
       "7   Role-Playing  14.813952  12.893739  27.381761\n",
       "8        Shooter  34.257749  28.844517   4.752206\n",
       "9     Simulation   0.800124   2.654593   4.367504\n",
       "10        Sports  16.080168  17.614736   2.353474\n",
       "11      Strategy   0.636992   1.215076   0.882553"
      ]
     },
     "execution_count": 40,
     "metadata": {},
     "output_type": "execute_result"
    }
   ],
   "source": [
    "df_new.groupby('genre').sum()[['na_sales', 'eu_sales', 'jp_sales']]\\\n",
    "    .transform(lambda x: x / x.sum() * 100, axis = 0).reset_index()"
   ]
  },
  {
   "cell_type": "markdown",
   "id": "37879146-ffbe-4c62-92e6-406850e2a85a",
   "metadata": {},
   "source": [
    "* В Северной Америке Самые популярные жанры это Шутер, Экшн и Спорт, также в топе ролевые игры (Вспоминаем тот факт, что это одновременно самые прибыльные жанры)\n",
    "* В Европе такая же ситуация \n",
    "* В Японии чуть больше любят Экшн и ролевые\n"
   ]
  },
  {
   "cell_type": "markdown",
   "id": "aebd5d42-049b-43b6-b3cc-47e5eef65589",
   "metadata": {},
   "source": [
    "## Влияние рейтинга ESRB\n",
    "\n",
    "E - для всех (1), E10+ - для всех старше 10 (2), T - подросткам (3), M - для взрослых (4)"
   ]
  },
  {
   "cell_type": "code",
   "execution_count": 41,
   "id": "40256683-cf84-4096-baa8-e931137532a3",
   "metadata": {},
   "outputs": [
    {
     "data": {
      "text/plain": [
       "array(['M', 'E', 'T', 'E10+'], dtype=object)"
      ]
     },
     "execution_count": 41,
     "metadata": {},
     "output_type": "execute_result"
    }
   ],
   "source": [
    "df_new['rating'].unique()"
   ]
  },
  {
   "cell_type": "code",
   "execution_count": 42,
   "id": "6bed64d2-0742-4dbc-a12a-5d9a6e0cee3a",
   "metadata": {},
   "outputs": [
    {
     "data": {
      "text/plain": [
       "array([4, 1, 3, 2], dtype=int64)"
      ]
     },
     "execution_count": 42,
     "metadata": {},
     "output_type": "execute_result"
    }
   ],
   "source": [
    "map_dict = {\n",
    "    'E' : 1,\n",
    "    'E10+' : 2,\n",
    "    'T' : 3,\n",
    "    'M' : 4\n",
    "}\n",
    "\n",
    "df_new['rating_code'] = df_new['rating'].map(map_dict) \n",
    "df_new['rating_code'].unique()"
   ]
  },
  {
   "cell_type": "code",
   "execution_count": 43,
   "id": "49e414a0-6231-4200-9052-6c1ab15cada4",
   "metadata": {},
   "outputs": [
    {
     "data": {
      "text/html": [
       "<div>\n",
       "<style scoped>\n",
       "    .dataframe tbody tr th:only-of-type {\n",
       "        vertical-align: middle;\n",
       "    }\n",
       "\n",
       "    .dataframe tbody tr th {\n",
       "        vertical-align: top;\n",
       "    }\n",
       "\n",
       "    .dataframe thead th {\n",
       "        text-align: right;\n",
       "    }\n",
       "</style>\n",
       "<table border=\"1\" class=\"dataframe\">\n",
       "  <thead>\n",
       "    <tr style=\"text-align: right;\">\n",
       "      <th></th>\n",
       "      <th>rating_code</th>\n",
       "    </tr>\n",
       "  </thead>\n",
       "  <tbody>\n",
       "    <tr>\n",
       "      <th>rating_code</th>\n",
       "      <td>1.000000</td>\n",
       "    </tr>\n",
       "    <tr>\n",
       "      <th>na_sales</th>\n",
       "      <td>0.163027</td>\n",
       "    </tr>\n",
       "    <tr>\n",
       "      <th>eu_sales</th>\n",
       "      <td>0.098567</td>\n",
       "    </tr>\n",
       "    <tr>\n",
       "      <th>jp_sales</th>\n",
       "      <td>0.037257</td>\n",
       "    </tr>\n",
       "  </tbody>\n",
       "</table>\n",
       "</div>"
      ],
      "text/plain": [
       "             rating_code\n",
       "rating_code     1.000000\n",
       "na_sales        0.163027\n",
       "eu_sales        0.098567\n",
       "jp_sales        0.037257"
      ]
     },
     "execution_count": 43,
     "metadata": {},
     "output_type": "execute_result"
    }
   ],
   "source": [
    "df_new[['rating_code', 'na_sales', 'eu_sales', 'jp_sales']]\\\n",
    "        .corr()[['rating_code']]"
   ]
  },
  {
   "cell_type": "markdown",
   "id": "bb34ede3-dbe9-465e-93c2-e0d594212317",
   "metadata": {},
   "source": [
    "По корреляции больше всего рейтинг влияет на продажи в NA регоине "
   ]
  },
  {
   "cell_type": "code",
   "execution_count": 47,
   "id": "cc0af998-1309-4a20-888a-b4dff4298409",
   "metadata": {},
   "outputs": [
    {
     "data": {
      "image/png": "[encoded data removed]",
      "text/plain": [
       "<Figure size 720x288 with 1 Axes>"
      ]
     },
     "metadata": {
      "needs_background": "light"
     },
     "output_type": "display_data"
    },
    {
     "data": {
      "image/png": "[encoded data removed]",
      "text/plain": [
       "<Figure size 720x288 with 1 Axes>"
      ]
     },
     "metadata": {
      "needs_background": "light"
     },
     "output_type": "display_data"
    },
    {
     "data": {
      "image/png": "[encoded data removed]",
      "text/plain": [
       "<Figure size 720x288 with 1 Axes>"
      ]
     },
     "metadata": {
      "needs_background": "light"
     },
     "output_type": "display_data"
    }
   ],
   "source": [
    "plt.figure(figsize=(10,4))\n",
    "plt.title('NA регион продажи по рейтингам')\n",
    "sns.barplot(y=df_new['na_sales'], x=df_new['rating'])\n",
    "\n",
    "plt.figure(figsize=(10,4))\n",
    "plt.title('EU регион продажи по рейтингам')\n",
    "sns.barplot(y=df_new['eu_sales'], x=df_new['rating'])\n",
    "\n",
    "plt.figure(figsize=(10,4))\n",
    "plt.title('JP регион продажи по рейтингам')\n",
    "sns.barplot(y=df_new['jp_sales'], x=df_new['rating'])\n",
    "\n",
    "plt.show()"
   ]
  },
  {
   "cell_type": "markdown",
   "id": "6283bf3a-9369-4498-abf0-2f08496a4148",
   "metadata": {},
   "source": [
    "В Америке и Европе больше всего продаются игры с рейтингом для взрослых. В Японии для подростков. В США и Европе игры для подростков наименее популярны."
   ]
  },
  {
   "cell_type": "markdown",
   "id": "1ada7b04-0d63-4477-b906-7fbd15c70fe4",
   "metadata": {},
   "source": [
    "# Гипотезы о равенстве средних"
   ]
  },
  {
   "cell_type": "markdown",
   "id": "6ea6dbc1-c226-4b08-9b62-600ceff6a385",
   "metadata": {},
   "source": [
    "## Средние рейтинги платформ Xbox One и PC одинаковые\n",
    "\n",
    "Так как я не придумал, как правильно заполнить пропуски и все значения пользовательских оценок для этих платформ -1 и -2, будем проверять для оценок критиков\n",
    "\n",
    "Для данной задачи используем t тест Стьюданта о равенстве средних для независимых выборок. H0: средние двух выборок одинаковы, HA: средние отличаются.\n",
    "\n",
    "Вообще в идеале проверить гипотезу о сдвиге (H0: средние двух выборок отличаются),  но реализации я не нашел\n"
   ]
  },
  {
   "cell_type": "code",
   "execution_count": 52,
   "id": "624ed900-3f6f-4d61-b6f8-ee8dd021baf4",
   "metadata": {},
   "outputs": [],
   "source": [
    "sample1 = df_new[(df_new['platform'] == 'XOne') & (df_new['critic_score'] != -1)]['critic_score'].values\n",
    "sample2 = df_new[(df_new['platform'] == 'PC') & (df_new['critic_score'] != -1)]['critic_score'].values"
   ]
  },
  {
   "cell_type": "code",
   "execution_count": 53,
   "id": "123e6b48-0411-4b8f-9dc0-bb49c94e5b87",
   "metadata": {},
   "outputs": [
    {
     "name": "stdout",
     "output_type": "stream",
     "text": [
      "p-значение: 1.0\n",
      "Не получилось отвергнуть нулевую гипотезу\n"
     ]
    }
   ],
   "source": [
    "from scipy.stats import ttest_ind \n",
    "\n",
    "alpha = 0.05\n",
    "\n",
    "results = ttest_ind(\n",
    "    sample1, \n",
    "    sample1,\n",
    "    equal_var=False)\n",
    "\n",
    "print('p-значение:', results.pvalue)\n",
    "\n",
    "if (results.pvalue < alpha):\n",
    "    print(\"Отвергаем нулевую гипотезу\")\n",
    "else:\n",
    "    print(\"Не получилось отвергнуть нулевую гипотезу\")"
   ]
  },
  {
   "cell_type": "markdown",
   "id": "ff93ad8a-adc5-4b41-8fd5-b270cb02b705",
   "metadata": {},
   "source": [
    "H0 не отвергается, это не говорит нам о равенстве средних, скорее говорит о том, что различие средних не статистически значимо "
   ]
  },
  {
   "cell_type": "markdown",
   "id": "56a99cb2-f1fb-4b89-9946-140805e9f6f0",
   "metadata": {},
   "source": [
    "## Средние пользовательские рейтинги жанров Action и Sports разные\n",
    "\n",
    "Также сделаем T-test. H0: средние двух выборок одинаковы, HA: средние отличаются."
   ]
  },
  {
   "cell_type": "code",
   "execution_count": 59,
   "id": "dd0bf4de-996c-40c4-93da-12be3020b61c",
   "metadata": {},
   "outputs": [],
   "source": [
    "sample1 = df_new[(df_new['genre'] == 'Action') & (df_new['critic_score'] != -1)]['critic_score'].values\n",
    "sample2 = df_new[(df_new['genre'] == 'Sports') & (df_new['critic_score'] != -1)]['critic_score'].values"
   ]
  },
  {
   "cell_type": "code",
   "execution_count": 61,
   "id": "dca76f7b-88ff-4b08-b613-f3bafdf3e9e8",
   "metadata": {},
   "outputs": [
    {
     "name": "stdout",
     "output_type": "stream",
     "text": [
      "p-значение: 1.0\n",
      "Не получилось отвергнуть нулевую гипотезу\n"
     ]
    }
   ],
   "source": [
    "from scipy.stats import ttest_ind \n",
    "\n",
    "alpha = 0.05\n",
    "\n",
    "results = ttest_ind(\n",
    "    sample1, \n",
    "    sample1,\n",
    "    equal_var=False)\n",
    "\n",
    "print('p-значение:', results.pvalue)\n",
    "\n",
    "if (results.pvalue < alpha):\n",
    "    print(\"Отвергаем нулевую гипотезу\")\n",
    "else:\n",
    "    print(\"Не получилось отвергнуть нулевую гипотезу\")"
   ]
  },
  {
   "cell_type": "markdown",
   "id": "ea16b44d-bc0f-4bef-91de-6f6269b0d33e",
   "metadata": {},
   "source": [
    "Аналогично H0 не отвергается, это не говорит о том, что средние точно не отличаются, скорее говорит о том, что различие средних не статистически значимо "
   ]
  },
  {
   "cell_type": "markdown",
   "id": "939448b1-09f8-4d75-a6bb-d702ba0829ba",
   "metadata": {},
   "source": [
    "# Выводы\n",
    "\n",
    "Основные выводы я писал по ходу работы, кратко:\n",
    "\n",
    "* Столкнулся с проблемой заполнения пользовательских оценок, попытки ее решить не привели к успеху, больше идей не было\n",
    "* Наиболее прибыльные платформы за последнее время это консоли PS4 и XboxOne, жанры Экшен, Шутер, Спорт, Ролевые. Я бы тратил деньги на рекламные проекты таких продуктов.\n",
    "* Рынок США и Европы очень похожий, для них можно использовать одну стратегию с небольшими уточнениями, больше всего ценятся игры с рейтингом для взрослых. Для Японии нужна другая стратегия как по девайсам, так и по жанрам и рейтингам\n"
   ]
  }
 ],
 "metadata": {
  "kernelspec": {
   "display_name": "Python 3 (ipykernel)",
   "language": "python",
   "name": "python3"
  },
  "language_info": {
   "codemirror_mode": {
    "name": "ipython",
    "version": 3
   },
   "file_extension": ".py",
   "mimetype": "text/x-python",
   "name": "python",
   "nbconvert_exporter": "python",
   "pygments_lexer": "ipython3",
   "version": "3.8.12"
  }
 },
 "nbformat": 4,
 "nbformat_minor": 5
}
