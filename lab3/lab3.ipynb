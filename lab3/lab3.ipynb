{
 "cells": [
  {
   "cell_type": "markdown",
   "id": "74efc325-2666-489c-8b37-aaf64453619e",
   "metadata": {
    "tags": []
   },
   "source": [
    "# Лабораторная работа №3\n",
    "\n",
    "*Арешин Станислав Олегович М8О-211M-21*\n",
    "\n",
    "Заказчик — кредитный отдел банка. Нужно разобраться, влияет ли семейное положение, уровень дохода, цель кредита и количество детей клиента на факт погашения кредита в срок. Входные данные от банка — статистика о платёжеспособности клиентов.\n",
    "Результаты исследования будут учтены при построении модели кредитного скоринга — специальной системы, которая оценивает способность потенциального заёмщика вернуть кредит банку."
   ]
  },
  {
   "cell_type": "code",
   "execution_count": 1,
   "id": "e4f0b128-f599-42f9-9dae-e75f9c947da2",
   "metadata": {},
   "outputs": [],
   "source": [
    "import pandas as pd\n",
    "import numpy as np\n",
    "import matplotlib.pyplot as plt\n",
    "import seaborn as sns\n",
    "\n",
    "sns.set_style(\"darkgrid\", {\"grid.color\": \".6\", \"grid.linestyle\": \":\"})\n",
    "\n",
    "%matplotlib inline"
   ]
  },
  {
   "cell_type": "markdown",
   "id": "1da82eb2-a2dd-46eb-9a11-9ac7860d58bd",
   "metadata": {},
   "source": [
    "# Предобработка данных"
   ]
  },
  {
   "cell_type": "code",
   "execution_count": 2,
   "id": "ac8d4239-65cb-4512-a988-fd54df2841a4",
   "metadata": {},
   "outputs": [
    {
     "data": {
      "text/html": [
       "<div>\n",
       "<style scoped>\n",
       "    .dataframe tbody tr th:only-of-type {\n",
       "        vertical-align: middle;\n",
       "    }\n",
       "\n",
       "    .dataframe tbody tr th {\n",
       "        vertical-align: top;\n",
       "    }\n",
       "\n",
       "    .dataframe thead th {\n",
       "        text-align: right;\n",
       "    }\n",
       "</style>\n",
       "<table border=\"1\" class=\"dataframe\">\n",
       "  <thead>\n",
       "    <tr style=\"text-align: right;\">\n",
       "      <th></th>\n",
       "      <th>children</th>\n",
       "      <th>days_employed</th>\n",
       "      <th>dob_years</th>\n",
       "      <th>education</th>\n",
       "      <th>education_id</th>\n",
       "      <th>family_status</th>\n",
       "      <th>family_status_id</th>\n",
       "      <th>gender</th>\n",
       "      <th>income_type</th>\n",
       "      <th>debt</th>\n",
       "      <th>total_income</th>\n",
       "      <th>purpose</th>\n",
       "    </tr>\n",
       "  </thead>\n",
       "  <tbody>\n",
       "    <tr>\n",
       "      <th>0</th>\n",
       "      <td>1</td>\n",
       "      <td>-8437.673028</td>\n",
       "      <td>42</td>\n",
       "      <td>высшее</td>\n",
       "      <td>0</td>\n",
       "      <td>женат / замужем</td>\n",
       "      <td>0</td>\n",
       "      <td>F</td>\n",
       "      <td>сотрудник</td>\n",
       "      <td>0</td>\n",
       "      <td>253875.639453</td>\n",
       "      <td>покупка жилья</td>\n",
       "    </tr>\n",
       "    <tr>\n",
       "      <th>1</th>\n",
       "      <td>1</td>\n",
       "      <td>-4024.803754</td>\n",
       "      <td>36</td>\n",
       "      <td>среднее</td>\n",
       "      <td>1</td>\n",
       "      <td>женат / замужем</td>\n",
       "      <td>0</td>\n",
       "      <td>F</td>\n",
       "      <td>сотрудник</td>\n",
       "      <td>0</td>\n",
       "      <td>112080.014102</td>\n",
       "      <td>приобретение автомобиля</td>\n",
       "    </tr>\n",
       "    <tr>\n",
       "      <th>2</th>\n",
       "      <td>0</td>\n",
       "      <td>-5623.422610</td>\n",
       "      <td>33</td>\n",
       "      <td>Среднее</td>\n",
       "      <td>1</td>\n",
       "      <td>женат / замужем</td>\n",
       "      <td>0</td>\n",
       "      <td>M</td>\n",
       "      <td>сотрудник</td>\n",
       "      <td>0</td>\n",
       "      <td>145885.952297</td>\n",
       "      <td>покупка жилья</td>\n",
       "    </tr>\n",
       "    <tr>\n",
       "      <th>3</th>\n",
       "      <td>3</td>\n",
       "      <td>-4124.747207</td>\n",
       "      <td>32</td>\n",
       "      <td>среднее</td>\n",
       "      <td>1</td>\n",
       "      <td>женат / замужем</td>\n",
       "      <td>0</td>\n",
       "      <td>M</td>\n",
       "      <td>сотрудник</td>\n",
       "      <td>0</td>\n",
       "      <td>267628.550329</td>\n",
       "      <td>дополнительное образование</td>\n",
       "    </tr>\n",
       "    <tr>\n",
       "      <th>4</th>\n",
       "      <td>0</td>\n",
       "      <td>340266.072047</td>\n",
       "      <td>53</td>\n",
       "      <td>среднее</td>\n",
       "      <td>1</td>\n",
       "      <td>гражданский брак</td>\n",
       "      <td>1</td>\n",
       "      <td>F</td>\n",
       "      <td>пенсионер</td>\n",
       "      <td>0</td>\n",
       "      <td>158616.077870</td>\n",
       "      <td>сыграть свадьбу</td>\n",
       "    </tr>\n",
       "  </tbody>\n",
       "</table>\n",
       "</div>"
      ],
      "text/plain": [
       "   children  days_employed  dob_years education  education_id  \\\n",
       "0         1   -8437.673028         42    высшее             0   \n",
       "1         1   -4024.803754         36   среднее             1   \n",
       "2         0   -5623.422610         33   Среднее             1   \n",
       "3         3   -4124.747207         32   среднее             1   \n",
       "4         0  340266.072047         53   среднее             1   \n",
       "\n",
       "      family_status  family_status_id gender income_type  debt   total_income  \\\n",
       "0   женат / замужем                 0      F   сотрудник     0  253875.639453   \n",
       "1   женат / замужем                 0      F   сотрудник     0  112080.014102   \n",
       "2   женат / замужем                 0      M   сотрудник     0  145885.952297   \n",
       "3   женат / замужем                 0      M   сотрудник     0  267628.550329   \n",
       "4  гражданский брак                 1      F   пенсионер     0  158616.077870   \n",
       "\n",
       "                      purpose  \n",
       "0               покупка жилья  \n",
       "1     приобретение автомобиля  \n",
       "2               покупка жилья  \n",
       "3  дополнительное образование  \n",
       "4             сыграть свадьбу  "
      ]
     },
     "execution_count": 2,
     "metadata": {},
     "output_type": "execute_result"
    }
   ],
   "source": [
    "df = pd.read_csv('data.csv')\n",
    "df.head()"
   ]
  },
  {
   "cell_type": "markdown",
   "id": "ea68b7c9-112c-4c5e-89f0-01b5818e8297",
   "metadata": {},
   "source": [
    "## Train-val-test split\n",
    "\n",
    "Разбиваем данные сразу на обучение, валидацию и тест в соотношении 70-15-15, так как я планирую построить модель. Далее работаем только с train частью выборки, для преобразований сохраняем парадигму: fit_transform на трейне, на валидации и тесте используем transform."
   ]
  },
  {
   "cell_type": "code",
   "execution_count": 3,
   "id": "2f6c879c-2165-4b73-92a3-dad27ed0e6e5",
   "metadata": {},
   "outputs": [
    {
     "name": "stdout",
     "output_type": "stream",
     "text": [
      "Train shape : (15067, 12)\n",
      "Val shape : (3229, 12)\n",
      "Test shape : (3229, 12)\n"
     ]
    }
   ],
   "source": [
    "from sklearn.model_selection import train_test_split\n",
    "\n",
    "df_train, df_test = train_test_split(df, test_size=0.3, random_state=42, stratify=df['debt'])\n",
    "\n",
    "df_val, df_test = train_test_split(df_test, test_size=0.5, random_state=42, stratify=df_test['debt'])\n",
    "\n",
    "print(f'Train shape : {df_train.shape}')\n",
    "print(f'Val shape : {df_val.shape}')\n",
    "print(f'Test shape : {df_test.shape}')"
   ]
  },
  {
   "cell_type": "markdown",
   "id": "f2b6e959-557b-4e28-8286-02d24bd36ea6",
   "metadata": {},
   "source": [
    "## Пропущенные значения"
   ]
  },
  {
   "cell_type": "code",
   "execution_count": 4,
   "id": "9723028a-ae77-4587-b78c-7b0f5f33c6f7",
   "metadata": {},
   "outputs": [
    {
     "name": "stdout",
     "output_type": "stream",
     "text": [
      "<class 'pandas.core.frame.DataFrame'>\n",
      "Int64Index: 15067 entries, 7782 to 1816\n",
      "Data columns (total 12 columns):\n",
      " #   Column            Non-Null Count  Dtype  \n",
      "---  ------            --------------  -----  \n",
      " 0   children          15067 non-null  int64  \n",
      " 1   days_employed     13547 non-null  float64\n",
      " 2   dob_years         15067 non-null  int64  \n",
      " 3   education         15067 non-null  object \n",
      " 4   education_id      15067 non-null  int64  \n",
      " 5   family_status     15067 non-null  object \n",
      " 6   family_status_id  15067 non-null  int64  \n",
      " 7   gender            15067 non-null  object \n",
      " 8   income_type       15067 non-null  object \n",
      " 9   debt              15067 non-null  int64  \n",
      " 10  total_income      13547 non-null  float64\n",
      " 11  purpose           15067 non-null  object \n",
      "dtypes: float64(2), int64(5), object(5)\n",
      "memory usage: 1.5+ MB\n"
     ]
    }
   ],
   "source": [
    "df_train.info()"
   ]
  },
  {
   "cell_type": "code",
   "execution_count": 5,
   "id": "8b53cfa0-ebb4-4746-94db-e42db1b74d1d",
   "metadata": {},
   "outputs": [
    {
     "data": {
      "image/png": "[encoded data removed]",
      "text/plain": [
       "<Figure size 1152x720 with 1 Axes>"
      ]
     },
     "metadata": {
      "needs_background": "light"
     },
     "output_type": "display_data"
    }
   ],
   "source": [
    "fig, ax = plt.subplots(figsize=(16,10))\n",
    "sns.heatmap(df_train.isnull(), cbar=False, cmap=\"YlGnBu_r\")\n",
    "plt.show()"
   ]
  },
  {
   "cell_type": "markdown",
   "id": "4b9eae66-05f8-472b-a129-f50fd91d1530",
   "metadata": {},
   "source": [
    "Наны в признаках days_employed и total_income, при этом ощущение, что они парные, давайте это проверим"
   ]
  },
  {
   "cell_type": "code",
   "execution_count": 6,
   "id": "7e7a69fc-694d-4a29-9c71-25e351960e8f",
   "metadata": {},
   "outputs": [
    {
     "name": "stdout",
     "output_type": "stream",
     "text": [
      "Length All NaNs: 1520\n",
      "Length days_employed NaNs: 1520\n"
     ]
    },
    {
     "data": {
      "text/html": [
       "<div>\n",
       "<style scoped>\n",
       "    .dataframe tbody tr th:only-of-type {\n",
       "        vertical-align: middle;\n",
       "    }\n",
       "\n",
       "    .dataframe tbody tr th {\n",
       "        vertical-align: top;\n",
       "    }\n",
       "\n",
       "    .dataframe thead th {\n",
       "        text-align: right;\n",
       "    }\n",
       "</style>\n",
       "<table border=\"1\" class=\"dataframe\">\n",
       "  <thead>\n",
       "    <tr style=\"text-align: right;\">\n",
       "      <th></th>\n",
       "      <th>days_employed</th>\n",
       "      <th>total_income</th>\n",
       "      <th>income_type</th>\n",
       "    </tr>\n",
       "  </thead>\n",
       "  <tbody>\n",
       "    <tr>\n",
       "      <th>15777</th>\n",
       "      <td>NaN</td>\n",
       "      <td>NaN</td>\n",
       "      <td>сотрудник</td>\n",
       "    </tr>\n",
       "    <tr>\n",
       "      <th>8952</th>\n",
       "      <td>NaN</td>\n",
       "      <td>NaN</td>\n",
       "      <td>сотрудник</td>\n",
       "    </tr>\n",
       "    <tr>\n",
       "      <th>13906</th>\n",
       "      <td>NaN</td>\n",
       "      <td>NaN</td>\n",
       "      <td>пенсионер</td>\n",
       "    </tr>\n",
       "    <tr>\n",
       "      <th>1642</th>\n",
       "      <td>NaN</td>\n",
       "      <td>NaN</td>\n",
       "      <td>сотрудник</td>\n",
       "    </tr>\n",
       "    <tr>\n",
       "      <th>15123</th>\n",
       "      <td>NaN</td>\n",
       "      <td>NaN</td>\n",
       "      <td>сотрудник</td>\n",
       "    </tr>\n",
       "  </tbody>\n",
       "</table>\n",
       "</div>"
      ],
      "text/plain": [
       "       days_employed  total_income income_type\n",
       "15777            NaN           NaN   сотрудник\n",
       "8952             NaN           NaN   сотрудник\n",
       "13906            NaN           NaN   пенсионер\n",
       "1642             NaN           NaN   сотрудник\n",
       "15123            NaN           NaN   сотрудник"
      ]
     },
     "execution_count": 6,
     "metadata": {},
     "output_type": "execute_result"
    }
   ],
   "source": [
    "print(f'Length All NaNs: {len(df_train[df_train.isna().any(axis=1)])}')\n",
    "print(f'Length days_employed NaNs: {len(df_train[df_train.days_employed.isna()])}')\n",
    "df_train[df_train['days_employed'].isna()][['days_employed', 'total_income', 'income_type']].head()"
   ]
  },
  {
   "cell_type": "markdown",
   "id": "6f6f6544-920e-40bb-8020-bbfe3571d7e6",
   "metadata": {},
   "source": [
    "Так и есть. Скорее всего это связано с тем, что невозможно было получить информацию о стаже и зарплате. Была гипотеза что это только для безработных, но, как видно на выводе, это не так. Это довольно важная информация, поэтому я предлагаю использовать полученный вывод как отдельную бинарную фичу, а сами наны просто закодировать уникальным значением, например -1. В таком случае алгоритм поймет, что -1 это нан по столбцу фич."
   ]
  },
  {
   "cell_type": "code",
   "execution_count": 7,
   "id": "b0045bb6-ab5c-4f10-ad13-7e75f377f102",
   "metadata": {},
   "outputs": [],
   "source": [
    "from sklearn.impute import SimpleImputer\n",
    "\n",
    "cols_to_fill = ['days_employed', 'total_income']\n",
    "\n",
    "imp = SimpleImputer(strategy='constant', fill_value=-1)\n",
    "\n",
    "to_fill_train = np.array(df_train[cols_to_fill])\n",
    "fill_result_train = imp.fit_transform(to_fill_train)\n",
    "df_train[cols_to_fill] = fill_result_train\n",
    "\n",
    "to_fill_val = np.array(df_val[cols_to_fill])\n",
    "fill_result_val= imp.transform(to_fill_val)\n",
    "df_val[cols_to_fill] = fill_result_val\n",
    "\n",
    "to_fill_test = np.array(df_test[cols_to_fill])\n",
    "fill_result_test = imp.transform(to_fill_test)\n",
    "df_test[cols_to_fill] = fill_result_test"
   ]
  },
  {
   "cell_type": "code",
   "execution_count": 8,
   "id": "0410a5f4-a9c9-4106-8542-f95637d1e3b2",
   "metadata": {},
   "outputs": [],
   "source": [
    "df_train['isna_de_ti'] = df_train.apply(lambda row: 1 if row['days_employed'] == -1 else 0, axis=1)\n",
    "df_val['isna_de_ti'] = df_val.apply(lambda row: 1 if row['days_employed'] == -1 else 0, axis=1)\n",
    "df_test['isna_de_ti'] = df_test.apply(lambda row: 1 if row['days_employed'] == -1 else 0, axis=1)"
   ]
  },
  {
   "cell_type": "markdown",
   "id": "d58f41ab-f112-4699-b47a-9462a0deba54",
   "metadata": {},
   "source": [
    "## Категориальные признаки\n",
    "\n",
    "Посмотрим на уникальные значения категорий, может их можно объединить"
   ]
  },
  {
   "cell_type": "code",
   "execution_count": 9,
   "id": "a560e8f4-1d13-47a0-af7c-269a3f4925df",
   "metadata": {},
   "outputs": [
    {
     "data": {
      "text/plain": [
       "array(['высшее', 'среднее', 'Высшее', 'ВЫСШЕЕ', 'Среднее', 'СРЕДНЕЕ',\n",
       "       'неоконченное высшее', 'НАЧАЛЬНОЕ', 'Неоконченное высшее',\n",
       "       'НЕОКОНЧЕННОЕ ВЫСШЕЕ', 'начальное', 'Начальное', 'ученая степень',\n",
       "       'Ученая степень'], dtype=object)"
      ]
     },
     "execution_count": 9,
     "metadata": {},
     "output_type": "execute_result"
    }
   ],
   "source": [
    "df_train['education'].unique()"
   ]
  },
  {
   "cell_type": "markdown",
   "id": "c77b1600-e044-4b94-b995-be24c4c76e67",
   "metadata": {},
   "source": [
    "Если образование привести к нижнему регистру, количество категорий сильно уменьшится, давайте это сделаем"
   ]
  },
  {
   "cell_type": "code",
   "execution_count": 10,
   "id": "196d9586-472b-4575-af68-5670cee74868",
   "metadata": {},
   "outputs": [
    {
     "data": {
      "text/plain": [
       "array(['высшее', 'среднее', 'неоконченное высшее', 'начальное',\n",
       "       'ученая степень'], dtype=object)"
      ]
     },
     "execution_count": 10,
     "metadata": {},
     "output_type": "execute_result"
    }
   ],
   "source": [
    "df_train['education'] = df_train['education'].str.lower()\n",
    "df_val['education'] = df_val['education'].str.lower()\n",
    "df_test['education'] = df_test['education'].str.lower()\n",
    "df_train['education'].unique()"
   ]
  },
  {
   "cell_type": "code",
   "execution_count": 11,
   "id": "d146b830-f696-4a86-b76e-00c6d4582620",
   "metadata": {},
   "outputs": [
    {
     "data": {
      "text/plain": [
       "array(['гражданский брак', 'Не женат / не замужем', 'женат / замужем',\n",
       "       'в разводе', 'вдовец / вдова'], dtype=object)"
      ]
     },
     "execution_count": 11,
     "metadata": {},
     "output_type": "execute_result"
    }
   ],
   "source": [
    "df_train['family_status'].unique()"
   ]
  },
  {
   "cell_type": "code",
   "execution_count": 12,
   "id": "4c7ea108-f70f-4a67-ad89-cca6a08540df",
   "metadata": {},
   "outputs": [
    {
     "data": {
      "text/plain": [
       "array(['F', 'M'], dtype=object)"
      ]
     },
     "execution_count": 12,
     "metadata": {},
     "output_type": "execute_result"
    }
   ],
   "source": [
    "df_train['gender'].unique()"
   ]
  },
  {
   "cell_type": "code",
   "execution_count": 13,
   "id": "4adb97d7-81f7-4346-a64f-d4f2c1ac46a6",
   "metadata": {},
   "outputs": [
    {
     "data": {
      "text/plain": [
       "array(['компаньон', 'сотрудник', 'пенсионер', 'госслужащий',\n",
       "       'безработный', 'предприниматель'], dtype=object)"
      ]
     },
     "execution_count": 13,
     "metadata": {},
     "output_type": "execute_result"
    }
   ],
   "source": [
    "df_train['income_type'].unique()"
   ]
  },
  {
   "cell_type": "markdown",
   "id": "0374b9e4-f2b9-4f3c-b152-425f9fbede30",
   "metadata": {},
   "source": [
    "С семейным положением, полом, и типом занятости все окей, оставим так"
   ]
  },
  {
   "cell_type": "code",
   "execution_count": 14,
   "id": "5e1e5601-611b-45a1-a8fc-2a83d8741866",
   "metadata": {},
   "outputs": [
    {
     "data": {
      "text/plain": [
       "array(['на проведение свадьбы', 'недвижимость',\n",
       "       'сделка с подержанным автомобилем', 'сыграть свадьбу',\n",
       "       'автомобили', 'покупка жилой недвижимости', 'покупка своего жилья',\n",
       "       'строительство жилой недвижимости', 'покупка недвижимости',\n",
       "       'операции с коммерческой недвижимостью', 'высшее образование',\n",
       "       'получение высшего образования', 'дополнительное образование',\n",
       "       'жилье', 'операции с жильем', 'приобретение автомобиля',\n",
       "       'получение дополнительного образования', 'на покупку автомобиля',\n",
       "       'покупка жилья для семьи', 'свой автомобиль',\n",
       "       'покупка жилья для сдачи', 'операции со своей недвижимостью',\n",
       "       'на покупку своего автомобиля', 'операции с недвижимостью',\n",
       "       'ремонт жилью', 'покупка коммерческой недвижимости',\n",
       "       'на покупку подержанного автомобиля',\n",
       "       'строительство собственной недвижимости', 'автомобиль',\n",
       "       'покупка жилья', 'свадьба', 'профильное образование',\n",
       "       'сделка с автомобилем', 'образование',\n",
       "       'заняться высшим образованием', 'строительство недвижимости',\n",
       "       'заняться образованием', 'получение образования'], dtype=object)"
      ]
     },
     "execution_count": 14,
     "metadata": {},
     "output_type": "execute_result"
    }
   ],
   "source": [
    "df_train['purpose'].unique()"
   ]
  },
  {
   "cell_type": "markdown",
   "id": "7490c9e5-48b7-4a80-aa13-c0b0b4f91721",
   "metadata": {},
   "source": [
    "Тут тоже можно схлопнуть категории в более общие и уменьшить их количество "
   ]
  },
  {
   "cell_type": "code",
   "execution_count": 15,
   "id": "1618bc3f-291e-4cfb-a09f-2069a8a3206d",
   "metadata": {},
   "outputs": [],
   "source": [
    "map_dict = {\n",
    "    'на проведение свадьбы' :  'Свадьба',\n",
    "    'недвижимость' : 'Недвижимость',\n",
    "    'сделка с подержанным автомобилем' : 'Авто',\n",
    "    'сыграть свадьбу' : 'Свадьба',\n",
    "    'автомобили' : 'Авто',\n",
    "    'покупка жилой недвижимости' : 'Недвижимость',\n",
    "    'покупка недвижимости' : 'Недвижимость',\n",
    "    'операции с коммерческой недвижимостью' : 'Недвижимость',\n",
    "    'высшее образование' : 'Образование',\n",
    "    'получение высшего образования' : 'Образование',\n",
    "    'дополнительное образование' : 'Образование',\n",
    "    'на покупку автомобиля' : 'Авто',\n",
    "    'покупка жилья для семьи': 'Недвижимость',\n",
    "    'свой автомобиль' : 'Авто',\n",
    "    'покупка жилья для сдачи' : 'Недвижимость',\n",
    "    'операции со своей недвижимостью' : 'Недвижимость',\n",
    "    'на покупку своего автомобиля' : 'Авто',\n",
    "    'операции с недвижимостью' : 'Недвижимость',\n",
    "    'ремонт жилью' : 'Недвижимость',\n",
    "    'покупка коммерческой недвижимости' : 'Недвижимость',\n",
    "    'на покупку подержанного автомобиля' : 'Авто',\n",
    "    'строительство собственной недвижимости' : 'Недвижимость',\n",
    "    'автомобиль' : 'Авто',\n",
    "    'покупка жилья' : 'Недвижимость',\n",
    "    'свадьба' : 'Свадьба',\n",
    "    'профильное образование': 'Образование',\n",
    "    'сделка с автомобилем' : 'Авто', \n",
    "    'образование' : 'Образование',\n",
    "    'заняться высшим образованием' : 'Образование', \n",
    "    'строительство недвижимости' : 'Недвижимость',\n",
    "    'заняться образованием' : 'Образование', \n",
    "    'получение образования' : 'Образование',\n",
    "    'строительство жилой недвижимости' : 'Недвижимость',\n",
    "    'покупка своего жилья' : 'Недвижимость',\n",
    "    'жилье' : 'Недвижимость',\n",
    "    'операции с жильем' : 'Недвижимость',\n",
    "    'приобретение автомобиля' : 'Авто',\n",
    "    'получение дополнительного образования' : 'Образование'  \n",
    "}"
   ]
  },
  {
   "cell_type": "markdown",
   "id": "08a4545c-39dc-4248-a7dd-7210f31d06d3",
   "metadata": {},
   "source": [
    "Я бы разбил как-то так по смыслу, в идеале отдельно вынести коммерческую недвижимость и тп, но это нюансы, с остальным кажется все окей, применяем"
   ]
  },
  {
   "cell_type": "code",
   "execution_count": 16,
   "id": "8dda6db1-db34-4c07-a484-7c7061c76901",
   "metadata": {},
   "outputs": [
    {
     "data": {
      "text/plain": [
       "array(['Свадьба', 'Недвижимость', 'Авто', 'Образование'], dtype=object)"
      ]
     },
     "execution_count": 16,
     "metadata": {},
     "output_type": "execute_result"
    }
   ],
   "source": [
    "df_train = df_train.replace({'purpose': map_dict})\n",
    "df_val = df_val.replace({'purpose': map_dict})\n",
    "df_test = df_test.replace({'purpose': map_dict})\n",
    "\n",
    "df_train['purpose'].unique()"
   ]
  },
  {
   "cell_type": "markdown",
   "id": "d5c3844e-5912-4801-8a74-ef891e166b8f",
   "metadata": {},
   "source": [
    "Далее я закодирую все через OneHot Encoder просто потому что так люблю, хотя я планирую использовать бустинг, и в идеале использовать либо label_encoder либо catboost encoder, признаков не так мало и, мне кажется, это упростит задачу для модели и даст небольшой прирост. Это сделаем чуть позже"
   ]
  },
  {
   "cell_type": "markdown",
   "id": "a894536e-8622-43ef-9f9d-70e8491f1b19",
   "metadata": {},
   "source": [
    "## Дубли\n",
    "\n",
    "Посмотрим на полные дубликаты. Если они есть, то просто удалим. Да, я объединял категории, но у нас есть вещественные признаки, совпадение которых будет очень странным, поэтому в данном случае объединение наоборот поможет побороться с некорректными заявками. Например могли быть одинаковые заявки на жилье и покупку жилья или у человека с Высшим образованием и ВЫСШИМ ОБРАЗОВАНИЕМ и тд, я думаю, тут понятно"
   ]
  },
  {
   "cell_type": "code",
   "execution_count": 17,
   "id": "44fe85c6-3385-4e10-925d-c3e99d317574",
   "metadata": {},
   "outputs": [
    {
     "data": {
      "text/plain": [
       "215"
      ]
     },
     "execution_count": 17,
     "metadata": {},
     "output_type": "execute_result"
    }
   ],
   "source": [
    "len(df_train[df_train.duplicated()])"
   ]
  },
  {
   "cell_type": "code",
   "execution_count": 18,
   "id": "165f96cb-8112-4b84-8df1-635b87aa30dd",
   "metadata": {},
   "outputs": [
    {
     "name": "stdout",
     "output_type": "stream",
     "text": [
      "Train shape : (14852, 13)\n",
      "Val shape : (3211, 13)\n",
      "Test shape : (3218, 13)\n"
     ]
    }
   ],
   "source": [
    "df_train.drop_duplicates(keep='first', inplace=True)\n",
    "df_val.drop_duplicates(keep='first', inplace=True)\n",
    "df_test.drop_duplicates(keep='first', inplace=True)\n",
    "\n",
    "print(f'Train shape : {df_train.shape}')\n",
    "print(f'Val shape : {df_val.shape}')\n",
    "print(f'Test shape : {df_test.shape}')"
   ]
  },
  {
   "cell_type": "markdown",
   "id": "2ac57e57-af60-4301-9007-ac0e8e0ffa28",
   "metadata": {},
   "source": [
    "## Целочисленные признаки"
   ]
  },
  {
   "cell_type": "code",
   "execution_count": 19,
   "id": "bf2e32d3-9f90-410d-8700-4a104cb85c56",
   "metadata": {},
   "outputs": [
    {
     "name": "stdout",
     "output_type": "stream",
     "text": [
      "<class 'pandas.core.frame.DataFrame'>\n",
      "RangeIndex: 21525 entries, 0 to 21524\n",
      "Data columns (total 12 columns):\n",
      " #   Column            Non-Null Count  Dtype  \n",
      "---  ------            --------------  -----  \n",
      " 0   children          21525 non-null  int64  \n",
      " 1   days_employed     19351 non-null  float64\n",
      " 2   dob_years         21525 non-null  int64  \n",
      " 3   education         21525 non-null  object \n",
      " 4   education_id      21525 non-null  int64  \n",
      " 5   family_status     21525 non-null  object \n",
      " 6   family_status_id  21525 non-null  int64  \n",
      " 7   gender            21525 non-null  object \n",
      " 8   income_type       21525 non-null  object \n",
      " 9   debt              21525 non-null  int64  \n",
      " 10  total_income      19351 non-null  float64\n",
      " 11  purpose           21525 non-null  object \n",
      "dtypes: float64(2), int64(5), object(5)\n",
      "memory usage: 2.0+ MB\n"
     ]
    }
   ],
   "source": [
    "df.info()"
   ]
  },
  {
   "cell_type": "code",
   "execution_count": 20,
   "id": "620bd54e-5460-44c6-ab2e-1b6b8ce5bd0f",
   "metadata": {},
   "outputs": [
    {
     "data": {
      "text/plain": [
       "array([ 0,  1,  2,  3, 20, -1,  4,  5], dtype=int64)"
      ]
     },
     "execution_count": 20,
     "metadata": {},
     "output_type": "execute_result"
    }
   ],
   "source": [
    "df_train['children'].unique()"
   ]
  },
  {
   "cell_type": "markdown",
   "id": "fd3759f9-26af-44b3-aead-cc8203e88646",
   "metadata": {},
   "source": [
    "Значение -1 - это уже заполненный (не мной) нан, выделим в отдельную фичу также, как делали ранее для стажа и дохода.\n",
    "\n",
    "Также я бы отдельно добавил признак, что у клиента есть дети"
   ]
  },
  {
   "cell_type": "code",
   "execution_count": 21,
   "id": "51640591-aab0-4e23-aca1-fa2590264405",
   "metadata": {},
   "outputs": [],
   "source": [
    "df_train['isna_children'] = df_train.apply(lambda row: 1 if row['children'] == -1 else 0, axis=1)\n",
    "df_val['isna_children'] = df_val.apply(lambda row: 1 if row['children'] == -1 else 0, axis=1)\n",
    "df_test['isna_children'] = df_test.apply(lambda row: 1 if row['children'] == -1 else 0, axis=1)"
   ]
  },
  {
   "cell_type": "code",
   "execution_count": 22,
   "id": "69c7598b-93e7-4371-997f-c9814683cf91",
   "metadata": {},
   "outputs": [],
   "source": [
    "df_train['has_children'] = df_train.apply(lambda row: 1 if row['children'] > 0 else 0, axis=1)\n",
    "df_val['has_children'] = df_val.apply(lambda row: 1 if row['children'] > 0 else 0, axis=1)\n",
    "df_test['has_children'] = df_test.apply(lambda row: 1 if row['children'] > 0 else 0, axis=1)"
   ]
  },
  {
   "cell_type": "code",
   "execution_count": 23,
   "id": "543cb2d4-7e43-498e-9798-c6be56490004",
   "metadata": {},
   "outputs": [
    {
     "data": {
      "text/plain": [
       "array([59, 27, 47, 24, 31, 45, 51, 67, 37, 25, 29, 49, 26, 53, 33, 58, 40,\n",
       "       55, 57, 52, 48, 44, 41, 64, 42, 35, 39, 23, 68, 50, 30, 60, 46, 61,\n",
       "       38, 21, 65, 56, 28, 63, 36, 69, 66, 62, 32, 43, 34,  0, 54, 73, 20,\n",
       "       22, 71, 70, 72, 19, 74], dtype=int64)"
      ]
     },
     "execution_count": 23,
     "metadata": {},
     "output_type": "execute_result"
    }
   ],
   "source": [
    "df_train['dob_years'].unique()"
   ]
  },
  {
   "cell_type": "code",
   "execution_count": 24,
   "id": "0c9e8059-a3ec-42a5-86c1-590726fe2616",
   "metadata": {},
   "outputs": [
    {
     "name": "stdout",
     "output_type": "stream",
     "text": [
      "5\n",
      "5\n"
     ]
    },
    {
     "data": {
      "text/plain": [
       "array([0, 1, 2, 3, 4], dtype=int64)"
      ]
     },
     "execution_count": 24,
     "metadata": {},
     "output_type": "execute_result"
    }
   ],
   "source": [
    "print(len(df_train['education_id'].unique()))\n",
    "print(len(df_train['education'].unique()))\n",
    "\n",
    "df_train['education_id'].unique()"
   ]
  },
  {
   "cell_type": "markdown",
   "id": "7d63abf7-f0de-4b19-860b-e943f1259098",
   "metadata": {},
   "source": [
    "Ощущение, что совпадает с типами, давайте посмотрим"
   ]
  },
  {
   "cell_type": "code",
   "execution_count": 25,
   "id": "022846d2-d47c-4c7e-9061-3ee21a2c33f7",
   "metadata": {},
   "outputs": [
    {
     "data": {
      "text/plain": [
       "{0: 'высшее',\n",
       " 1: 'среднее',\n",
       " 2: 'неоконченное высшее',\n",
       " 3: 'начальное',\n",
       " 4: 'ученая степень'}"
      ]
     },
     "execution_count": 25,
     "metadata": {},
     "output_type": "execute_result"
    }
   ],
   "source": [
    "pd.Series(df_train['education'].values,index=df_train['education_id']).to_dict()"
   ]
  },
  {
   "cell_type": "markdown",
   "id": "c6523f9e-abba-4e16-8a89-b29f4a081e5b",
   "metadata": {},
   "source": [
    "Это действительно так, удалим признак с id после стат тестов, так как уже решили делать OneHot"
   ]
  },
  {
   "cell_type": "code",
   "execution_count": 26,
   "id": "a4e4299f-554a-4fc1-8a42-422b8b2b1e28",
   "metadata": {},
   "outputs": [
    {
     "name": "stdout",
     "output_type": "stream",
     "text": [
      "5\n",
      "5\n"
     ]
    },
    {
     "data": {
      "text/plain": [
       "array([1, 4, 0, 3, 2], dtype=int64)"
      ]
     },
     "execution_count": 26,
     "metadata": {},
     "output_type": "execute_result"
    }
   ],
   "source": [
    "print(len(df_train['family_status_id'].unique()))\n",
    "print(len(df_train['family_status_id'].unique()))\n",
    "\n",
    "df_train['family_status_id'].unique()"
   ]
  },
  {
   "cell_type": "markdown",
   "id": "1bf6d1e2-fe91-418d-9b69-d49b063ded79",
   "metadata": {},
   "source": [
    "Аналогично проверяем"
   ]
  },
  {
   "cell_type": "code",
   "execution_count": 27,
   "id": "cb96eb90-ae01-41f2-975d-80aec6a3f32b",
   "metadata": {},
   "outputs": [
    {
     "data": {
      "text/plain": [
       "{1: 'гражданский брак',\n",
       " 4: 'Не женат / не замужем',\n",
       " 0: 'женат / замужем',\n",
       " 3: 'в разводе',\n",
       " 2: 'вдовец / вдова'}"
      ]
     },
     "execution_count": 27,
     "metadata": {},
     "output_type": "execute_result"
    }
   ],
   "source": [
    "pd.Series(df_train['family_status'].values,index=df_train['family_status_id']).to_dict()"
   ]
  },
  {
   "cell_type": "markdown",
   "id": "63b9dc49-eb57-4b94-b52c-4b197d0f491d",
   "metadata": {},
   "source": [
    "Удаляем после стат тестов"
   ]
  },
  {
   "cell_type": "markdown",
   "id": "e2ac3a82-3d64-451e-b3e5-a55d620a3eec",
   "metadata": {},
   "source": [
    "## Вещественные признаки"
   ]
  },
  {
   "cell_type": "code",
   "execution_count": 28,
   "id": "f89b72ac-1458-4423-bdb0-af8eeef479a3",
   "metadata": {},
   "outputs": [
    {
     "data": {
      "text/plain": [
       "2"
      ]
     },
     "execution_count": 28,
     "metadata": {},
     "output_type": "execute_result"
    }
   ],
   "source": [
    "num_columns = list(df_train.select_dtypes(include=['float64']).columns)\n",
    "len(num_columns)"
   ]
  },
  {
   "cell_type": "code",
   "execution_count": 29,
   "id": "6f96a438-bbe8-4717-9b5c-8e2695c1b3ac",
   "metadata": {},
   "outputs": [
    {
     "data": {
      "image/png": "[encoded data removed]",
      "text/plain": [
       "<Figure size 1440x720 with 3 Axes>"
      ]
     },
     "metadata": {
      "needs_background": "light"
     },
     "output_type": "display_data"
    }
   ],
   "source": [
    "fig = plt.figure(figsize=(20,10))\n",
    "plt.title('Numeric data boxplots')\n",
    "plt.axis('off')\n",
    "\n",
    "for i, column in enumerate(num_columns):\n",
    "    ax = fig.add_subplot(len(num_columns), 1, i + 1)\n",
    "    sns.boxplot(x = df_train[column])\n",
    "    sns.stripplot(x=df_train[column], color='blue')\n",
    "\n",
    "        \n",
    "plt.show()"
   ]
  },
  {
   "cell_type": "markdown",
   "id": "0edf82f5-b3f2-4841-bac9-fce3f303ef10",
   "metadata": {},
   "source": [
    "У days_employed много значений < 0, причем по масштабу они очень сильно отличаются от типичных данных. Честно, сложно предположить, с чем это связано и что с этим делать, поэтому я также вынесу это в отдельную фичу, может моделька поймет.\n",
    "\n",
    "У total_income есть выбросы, но их не супер много, плюс я собираюсь использовать бустинг, а он к ним не очень чувствителен, поэтому оставляем как есть"
   ]
  },
  {
   "cell_type": "code",
   "execution_count": 30,
   "id": "4f81a93e-eecb-4964-ad49-528d70874293",
   "metadata": {},
   "outputs": [],
   "source": [
    "df_train['days_employed?'] = df_train.apply(lambda row: 1 if row['days_employed'] <= 0 else 0, axis=1)\n",
    "df_val['days_employed?'] = df_val.apply(lambda row: 1 if row['days_employed'] <= 0 else 0, axis=1)\n",
    "df_test['days_employed?'] = df_test.apply(lambda row: 1 if row['days_employed'] <= 0 else 0, axis=1)"
   ]
  },
  {
   "cell_type": "markdown",
   "id": "05b261b6-a7e9-4590-98d6-8449d1047534",
   "metadata": {},
   "source": [
    "## Баланс целевой переменной"
   ]
  },
  {
   "cell_type": "code",
   "execution_count": 31,
   "id": "82d22b1a-ef29-448c-8aac-22be3b4ccedc",
   "metadata": {},
   "outputs": [
    {
     "data": {
      "image/png": "[encoded data removed]",
      "text/plain": [
       "<Figure size 576x432 with 1 Axes>"
      ]
     },
     "metadata": {
      "needs_background": "light"
     },
     "output_type": "display_data"
    }
   ],
   "source": [
    "plt.figure(figsize=(8,6))\n",
    "plt.title('Target value balance')\n",
    "sns.histplot(data=df_train['debt'])\n",
    "plt.xticks((0,1))\n",
    "plt.show()"
   ]
  },
  {
   "cell_type": "markdown",
   "id": "8f7c70ab-f9bd-476f-aa7a-e30a18aad0fd",
   "metadata": {},
   "source": [
    "Ужасный баланс таргета, но это типично для задач кредитного скоринга, так как дефолта обычно довольно мало. Придется с этим работать, благо, обычно в скоринге используют roc_auc и gini, а они устойчивы к разбалансировке выборки."
   ]
  },
  {
   "cell_type": "markdown",
   "id": "e53742db-8499-4e00-8b08-a28fd868bf89",
   "metadata": {},
   "source": [
    "# Статистические тесты"
   ]
  },
  {
   "cell_type": "markdown",
   "id": "b50beaa9-2cd2-4e39-b166-d278e4d6217f",
   "metadata": {},
   "source": [
    "* Есть ли зависимость между наличием детей и возвратом кредита в срок?\n",
    "* Есть ли зависимость между семейным положением и возвратом кредита в срок?\n",
    "* Есть ли зависимость между уровнем дохода и возвратом кредита в срок?\n",
    "* Как разные цели кредита влияют на его возврат в срок?\n",
    "\n",
    "\n",
    "Будем использовать критерий Хи-квадрат (зависимость), критерий Спирмана (монотонная зависимость), критерий Пирсона (линейная зависимость). Везде H0 - наблюдения независимы"
   ]
  },
  {
   "cell_type": "markdown",
   "id": "201e0471-fdc5-427f-b381-e557807d529d",
   "metadata": {},
   "source": [
    "## Дети и возврат кредита"
   ]
  },
  {
   "cell_type": "code",
   "execution_count": 32,
   "id": "3940d8b8-ae56-4672-80e2-c369a3e97a00",
   "metadata": {},
   "outputs": [
    {
     "name": "stdout",
     "output_type": "stream",
     "text": [
      "p_value = 0.00018528235273868314 ->\n",
      "Отвергаем гипотезу H0: нет зависимости между переменными, переменные зависимы\n"
     ]
    }
   ],
   "source": [
    "# зависимость \n",
    "\n",
    "from scipy.stats import chi2_contingency\n",
    "\n",
    "c_tab = pd.crosstab(index=df_train['has_children'], columns=df_train['debt'])\n",
    "\n",
    "stat, p, dof, expected = chi2_contingency(c_tab)\n",
    "\n",
    "print(f'p_value = {p} ->')\n",
    "if p < 0.05:\n",
    "    print('Отвергаем гипотезу H0: нет зависимости между переменными, переменные зависимы')\n",
    "else:\n",
    "    print('Не можем отвергнуть H0: нет зависимости между переменными')"
   ]
  },
  {
   "cell_type": "code",
   "execution_count": 33,
   "id": "7601ad99-8f86-4f55-b747-c4d1a4ca91b2",
   "metadata": {},
   "outputs": [
    {
     "name": "stdout",
     "output_type": "stream",
     "text": [
      "p_value = 0.00016300161087939857 ->\n",
      "Отвергаем гипотезу H0: нет зависимости между переменными, переменные зависимы\n",
      "Коэффициент корреляции r = 0.03093319961835353\n"
     ]
    }
   ],
   "source": [
    "# монотонная зависимость\n",
    "\n",
    "from scipy.stats import spearmanr\n",
    "\n",
    "corr, p = spearmanr(df_train['has_children'], df_train['debt'])\n",
    "\n",
    "print(f'p_value = {p} ->')\n",
    "if p < 0.05:\n",
    "    print('Отвергаем гипотезу H0: нет зависимости между переменными, переменные зависимы')\n",
    "    print(f'Коэффициент корреляции r = {corr}')\n",
    "else:\n",
    "    print('Не можем отвергнуть H0: нет зависимости между переменными')"
   ]
  },
  {
   "cell_type": "code",
   "execution_count": 34,
   "id": "0e586f90-5a54-47b0-85cb-a3aa959ea85f",
   "metadata": {},
   "outputs": [
    {
     "name": "stdout",
     "output_type": "stream",
     "text": [
      "p_value = 0.00016300161087662307 ->\n",
      "Отвергаем гипотезу H0: нет зависимости между переменными, переменные зависимы\n",
      "Коэффициент корреляции r = 0.03093319961835348\n"
     ]
    }
   ],
   "source": [
    "# линейная зависимость\n",
    "\n",
    "from scipy.stats import pearsonr\n",
    "\n",
    "corr, p = pearsonr(df_train['has_children'], df_train['debt'])\n",
    "\n",
    "print(f'p_value = {p} ->')\n",
    "if p < 0.05:\n",
    "    print('Отвергаем гипотезу H0: нет зависимости между переменными, переменные зависимы')\n",
    "    print(f'Коэффициент корреляции r = {corr}')\n",
    "else:\n",
    "    print('Не можем отвергнуть H0: нет зависимости между переменными')"
   ]
  },
  {
   "cell_type": "code",
   "execution_count": 35,
   "id": "1c9ea4da-ac55-469c-a38f-08827b0b1633",
   "metadata": {},
   "outputs": [
    {
     "data": {
      "image/png": "[encoded data removed]",
      "text/plain": [
       "<Figure size 1008x432 with 1 Axes>"
      ]
     },
     "metadata": {
      "needs_background": "light"
     },
     "output_type": "display_data"
    }
   ],
   "source": [
    "feat = 'has_children'\n",
    "plt.figure(figsize=(14,6))\n",
    "plt.title(f'{feat} balance')\n",
    "sns.histplot(data=df_train[df_train['debt'] == 0], x=feat, label='train 0', stat='percent')\n",
    "sns.histplot(data=df_train[df_train['debt'] == 1], x=feat, label='train 1',\\\n",
    "                     color='green', stat='percent', shrink=.8, alpha=.5)\n",
    "plt.xlabel(feat)\n",
    "plt.legend(['train 0', 'train 1'])\n",
    "plt.show()"
   ]
  },
  {
   "cell_type": "markdown",
   "id": "a2e29f5c-1322-43ae-8109-1e0c55299ee5",
   "metadata": {},
   "source": [
    "Сработали все 3 критерия. Между наличием детей и возвратом кредита в срок есть монотонная линейная зависимость. Коэф корреляции 0.3. Также визуально на графике видно, что люди с детьми чаще не возвращают кредит в срок, чем люди без детей (график в процентном соотношении)"
   ]
  },
  {
   "cell_type": "markdown",
   "id": "2358eb7b-a618-4022-b120-4a24e74a7006",
   "metadata": {},
   "source": [
    "## Cемейное положение и возврат кредита"
   ]
  },
  {
   "cell_type": "code",
   "execution_count": 36,
   "id": "b5ac808c-f7e9-4723-b838-b786150ecfcc",
   "metadata": {},
   "outputs": [
    {
     "name": "stdout",
     "output_type": "stream",
     "text": [
      "p_value = 0.0028028232632376026 ->\n",
      "Отвергаем гипотезу H0: нет зависимости между переменными, переменные зависимы\n"
     ]
    }
   ],
   "source": [
    "# зависимость \n",
    "\n",
    "c_tab = pd.crosstab(index=df_train['family_status_id'], columns=df_train['debt'])\n",
    "\n",
    "stat, p, dof, expected = chi2_contingency(c_tab)\n",
    "\n",
    "print(f'p_value = {p} ->')\n",
    "if p < 0.05:\n",
    "    print('Отвергаем гипотезу H0: нет зависимости между переменными, переменные зависимы')\n",
    "else:\n",
    "    print('Не можем отвергнуть H0: нет зависимости между переменными')"
   ]
  },
  {
   "cell_type": "code",
   "execution_count": 37,
   "id": "eb689636-9a3c-41cf-9a02-4636dd00588d",
   "metadata": {},
   "outputs": [
    {
     "name": "stdout",
     "output_type": "stream",
     "text": [
      "p_value = 0.006854643734811687 ->\n",
      "Отвергаем гипотезу H0: нет зависимости между переменными, переменные зависимы\n",
      "Коэффициент корреляции r = 0.02218549726874408\n"
     ]
    }
   ],
   "source": [
    "# монотонная зависимость\n",
    "\n",
    "corr, p = spearmanr(df_train['family_status_id'], df_train['debt'])\n",
    "\n",
    "print(f'p_value = {p} ->')\n",
    "if p < 0.05:\n",
    "    print('Отвергаем гипотезу H0: нет зависимости между переменными, переменные зависимы')\n",
    "    print(f'Коэффициент корреляции r = {corr}')\n",
    "else:\n",
    "    print('Не можем отвергнуть H0: нет зависимости между переменными')"
   ]
  },
  {
   "cell_type": "code",
   "execution_count": 38,
   "id": "a698b02b-ddc6-4d22-b0ac-a2c91baa084c",
   "metadata": {},
   "outputs": [
    {
     "name": "stdout",
     "output_type": "stream",
     "text": [
      "p_value = 0.023980140789920237 ->\n",
      "Отвергаем гипотезу H0: нет зависимости между переменными, переменные зависимы\n",
      "Коэффициент корреляции r = 0.018523559294806223\n"
     ]
    }
   ],
   "source": [
    "# линейная зависимость\n",
    "\n",
    "corr, p = pearsonr(df_train['family_status_id'], df_train['debt'])\n",
    "\n",
    "print(f'p_value = {p} ->')\n",
    "if p < 0.05:\n",
    "    print('Отвергаем гипотезу H0: нет зависимости между переменными, переменные зависимы')\n",
    "    print(f'Коэффициент корреляции r = {corr}')\n",
    "else:\n",
    "    print('Не можем отвергнуть H0: нет зависимости между переменными')"
   ]
  },
  {
   "cell_type": "code",
   "execution_count": 39,
   "id": "abe877e0-a7ac-4749-8271-f2196c9923e1",
   "metadata": {},
   "outputs": [
    {
     "data": {
      "image/png": "[encoded data removed]",
      "text/plain": [
       "<Figure size 1008x432 with 1 Axes>"
      ]
     },
     "metadata": {
      "needs_background": "light"
     },
     "output_type": "display_data"
    }
   ],
   "source": [
    "feat = 'family_status'\n",
    "plt.figure(figsize=(14,6))\n",
    "plt.title(f'{feat} balance')\n",
    "sns.histplot(data=df_train[df_train['debt'] == 0], x=feat, label='train 0', stat='percent')\n",
    "sns.histplot(data=df_train[df_train['debt'] == 1], x=feat, label='train 1',\\\n",
    "                     color='green', stat='percent', shrink=.8, alpha=.5)\n",
    "plt.xlabel(feat)\n",
    "plt.legend(['train 0', 'train 1'])\n",
    "plt.show()"
   ]
  },
  {
   "cell_type": "markdown",
   "id": "720b961b-fe82-41d5-abd4-e176c4a0b467",
   "metadata": {},
   "source": [
    "Также сработали все 3 критерия. Между семейным положением и возвратом кредита в срок есть монотонная линейная зависимость. Коэф корреляции 0.18. На графике видно, что люди в гражданском браке и не состоящие в браке чаще не возвращают кредит, это даже в целом логично, так как в браке чаще всего финансы общие и кредиты берутся на общие цели. Для разведенныз и вдовцов/вдов ситуация 50 на 50"
   ]
  },
  {
   "cell_type": "markdown",
   "id": "f6a943a2-aa01-4f64-8a33-75fac10e32d8",
   "metadata": {},
   "source": [
    "## Уровень дохода и возврат кредита"
   ]
  },
  {
   "cell_type": "code",
   "execution_count": 40,
   "id": "38206295-a258-49a6-9cca-9e578f3fdf80",
   "metadata": {},
   "outputs": [
    {
     "name": "stdout",
     "output_type": "stream",
     "text": [
      "p_value = 0.10648011744295818 ->\n",
      "Не можем отвергнуть H0: нет зависимости между переменными\n"
     ]
    }
   ],
   "source": [
    "# монотонная зависимость\n",
    "\n",
    "corr, p = spearmanr(df_train['total_income'], df_train['debt'])\n",
    "\n",
    "print(f'p_value = {p} ->')\n",
    "if p < 0.05:\n",
    "    print('Отвергаем гипотезу H0: нет зависимости между переменными, переменные зависимы')\n",
    "    print(f'Коэффициент корреляции r = {corr}')\n",
    "else:\n",
    "    print('Не можем отвергнуть H0: нет зависимости между переменными')"
   ]
  },
  {
   "cell_type": "code",
   "execution_count": 41,
   "id": "a8d229c5-396e-4d9e-b643-4900d070342a",
   "metadata": {},
   "outputs": [
    {
     "name": "stdout",
     "output_type": "stream",
     "text": [
      "p_value = 0.11118261642403654 ->\n",
      "Не можем отвергнуть H0: нет зависимости между переменными\n"
     ]
    }
   ],
   "source": [
    "# монотонная зависимость\n",
    "\n",
    "corr, p = pearsonr(df_train['total_income'], df_train['debt'])\n",
    "\n",
    "print(f'p_value = {p} ->')\n",
    "if p < 0.05:\n",
    "    print('Отвергаем гипотезу H0: нет зависимости между переменными, переменные зависимы')\n",
    "    print(f'Коэффициент корреляции r = {corr}')\n",
    "else:\n",
    "    print('Не можем отвергнуть H0: нет зависимости между переменными')"
   ]
  },
  {
   "cell_type": "code",
   "execution_count": 42,
   "id": "0900f2ef-dd9b-4882-bafa-f9b4253d9315",
   "metadata": {},
   "outputs": [
    {
     "data": {
      "image/png": "[encoded data removed]",
      "text/plain": [
       "<Figure size 1008x432 with 1 Axes>"
      ]
     },
     "metadata": {
      "needs_background": "light"
     },
     "output_type": "display_data"
    }
   ],
   "source": [
    "feat = 'total_income'\n",
    "plt.figure(figsize=(14,6))\n",
    "plt.title(f'{feat} hist and kde')\n",
    "sns.histplot(data=df_train[df_train['debt'] == 0], x=feat, label='train 0', kde=True, stat='percent')\n",
    "sns.histplot(data=df_train[df_train['debt'] == 1], x=feat, label='train 1', kde=True,\\\n",
    "                     color='green', stat='percent', shrink=.8, alpha=.2)\n",
    "plt.legend(['train 0', 'train 1'])\n",
    "plt.xlabel(feat)\n",
    "plt.show()"
   ]
  },
  {
   "cell_type": "markdown",
   "id": "07c0fc9f-5db9-40f8-993d-c9a22c8133a0",
   "metadata": {},
   "source": [
    "Нет монотонной зависимости, нет линейной зависимости, хотя визуально кажется, что разделение по плотностям есть. Скорее визуал обманывает из-за разного порядка зарплат, так что можно наверное сказать, что при большой ЗП вероятность возврата больше, чем при маленькой."
   ]
  },
  {
   "cell_type": "markdown",
   "id": "d7644d7f-b0ea-4ccd-8503-30253b8770b9",
   "metadata": {},
   "source": [
    "## Цели кредита и возврат кредита"
   ]
  },
  {
   "cell_type": "code",
   "execution_count": 43,
   "id": "812e6057-e3ac-44e4-a8b7-bb4ce58891c6",
   "metadata": {},
   "outputs": [
    {
     "data": {
      "image/png": "[encoded data removed]",
      "text/plain": [
       "<Figure size 1008x432 with 1 Axes>"
      ]
     },
     "metadata": {
      "needs_background": "light"
     },
     "output_type": "display_data"
    }
   ],
   "source": [
    "feat = 'purpose'\n",
    "plt.figure(figsize=(14,6))\n",
    "plt.title(f'{feat} balance')\n",
    "sns.histplot(data=df_train[df_train['debt'] == 0], x=feat, label='train 0', stat='percent')\n",
    "sns.histplot(data=df_train[df_train['debt'] == 1], x=feat, label='train 1',\\\n",
    "                     color='green', stat='percent', shrink=.8, alpha=.5)\n",
    "plt.xlabel(feat)\n",
    "plt.legend(['train 0', 'train 1'])\n",
    "plt.show()"
   ]
  },
  {
   "cell_type": "markdown",
   "id": "d45055a5-7001-42bf-ba66-2adea3a8e54c",
   "metadata": {},
   "source": [
    "Тут я решил построить только график, видно что для свадьбы ситуация 50 на 50, кредиты на недвижимость чаще возвращаются, чем не возвращаются, а вот у авто и образования наоборот, в процентах больше клиентов, которые не вернули кредит в срок."
   ]
  },
  {
   "cell_type": "markdown",
   "id": "72ed46ef-0eaa-4c45-945f-59345a78c34a",
   "metadata": {},
   "source": [
    "# OneHot\n",
    "\n",
    "Дропаем оставшиеся колонки и делаем OneHot"
   ]
  },
  {
   "cell_type": "code",
   "execution_count": 44,
   "id": "88d58f23-4efb-4956-b7a7-3234d2fa0dd6",
   "metadata": {},
   "outputs": [],
   "source": [
    "df_train.drop(['education_id'], axis=1, inplace=True)\n",
    "df_val.drop(['education_id'], axis=1, inplace=True)\n",
    "df_test.drop(['education_id'], axis=1, inplace=True)"
   ]
  },
  {
   "cell_type": "code",
   "execution_count": 45,
   "id": "eb3acc30-e0b2-49ea-a1f0-4a213c9e4c7c",
   "metadata": {},
   "outputs": [],
   "source": [
    "df_train.drop(['family_status_id'], axis=1, inplace=True)\n",
    "df_val.drop(['family_status_id'], axis=1, inplace=True)\n",
    "df_test.drop(['family_status_id'], axis=1, inplace=True)"
   ]
  },
  {
   "cell_type": "code",
   "execution_count": 46,
   "id": "002b6192-5a7d-4909-82db-9b5b6625d0a9",
   "metadata": {},
   "outputs": [
    {
     "data": {
      "text/plain": [
       "['education', 'family_status', 'gender', 'income_type', 'purpose']"
      ]
     },
     "execution_count": 46,
     "metadata": {},
     "output_type": "execute_result"
    }
   ],
   "source": [
    "cat_columns = list(df_train.select_dtypes('object').columns)\n",
    "cat_columns"
   ]
  },
  {
   "cell_type": "code",
   "execution_count": 47,
   "id": "27850311-1864-4931-9dcd-508c2ac2430d",
   "metadata": {},
   "outputs": [
    {
     "name": "stderr",
     "output_type": "stream",
     "text": [
      "D:\\Anaconda\\lib\\site-packages\\statsmodels\\compat\\pandas.py:61: FutureWarning: pandas.Int64Index is deprecated and will be removed from pandas in a future version. Use pandas.Index with the appropriate dtype instead.\n",
      "  from pandas import Int64Index as NumericIndex\n"
     ]
    },
    {
     "name": "stdout",
     "output_type": "stream",
     "text": [
      "Train shape : (14852, 31)\n",
      "Val shape : (3211, 31)\n",
      "Test shape : (3218, 31)\n"
     ]
    }
   ],
   "source": [
    "from category_encoders.one_hot import OneHotEncoder\n",
    "\n",
    "encoder = OneHotEncoder(cols = cat_columns, use_cat_names=True)\n",
    "\n",
    "df_train = encoder.fit_transform(df_train)\n",
    "df_val = encoder.transform(df_val)\n",
    "df_test = encoder.transform(df_test)\n",
    "\n",
    "print(f'Train shape : {df_train.shape}')\n",
    "print(f'Val shape : {df_val.shape}')\n",
    "print(f'Test shape : {df_test.shape}')"
   ]
  },
  {
   "cell_type": "code",
   "execution_count": 48,
   "id": "803d35ca-b505-4744-9061-89d3b7b8510a",
   "metadata": {},
   "outputs": [
    {
     "data": {
      "text/html": [
       "<div>\n",
       "<style scoped>\n",
       "    .dataframe tbody tr th:only-of-type {\n",
       "        vertical-align: middle;\n",
       "    }\n",
       "\n",
       "    .dataframe tbody tr th {\n",
       "        vertical-align: top;\n",
       "    }\n",
       "\n",
       "    .dataframe thead th {\n",
       "        text-align: right;\n",
       "    }\n",
       "</style>\n",
       "<table border=\"1\" class=\"dataframe\">\n",
       "  <thead>\n",
       "    <tr style=\"text-align: right;\">\n",
       "      <th></th>\n",
       "      <th>children</th>\n",
       "      <th>days_employed</th>\n",
       "      <th>dob_years</th>\n",
       "      <th>education_высшее</th>\n",
       "      <th>education_среднее</th>\n",
       "      <th>education_неоконченное высшее</th>\n",
       "      <th>education_начальное</th>\n",
       "      <th>education_ученая степень</th>\n",
       "      <th>family_status_гражданский брак</th>\n",
       "      <th>family_status_Не женат / не замужем</th>\n",
       "      <th>...</th>\n",
       "      <th>debt</th>\n",
       "      <th>total_income</th>\n",
       "      <th>purpose_Свадьба</th>\n",
       "      <th>purpose_Недвижимость</th>\n",
       "      <th>purpose_Авто</th>\n",
       "      <th>purpose_Образование</th>\n",
       "      <th>isna_de_ti</th>\n",
       "      <th>isna_children</th>\n",
       "      <th>has_children</th>\n",
       "      <th>days_employed?</th>\n",
       "    </tr>\n",
       "  </thead>\n",
       "  <tbody>\n",
       "    <tr>\n",
       "      <th>7782</th>\n",
       "      <td>0</td>\n",
       "      <td>-2404.645709</td>\n",
       "      <td>59</td>\n",
       "      <td>1</td>\n",
       "      <td>0</td>\n",
       "      <td>0</td>\n",
       "      <td>0</td>\n",
       "      <td>0</td>\n",
       "      <td>1</td>\n",
       "      <td>0</td>\n",
       "      <td>...</td>\n",
       "      <td>0</td>\n",
       "      <td>372580.183620</td>\n",
       "      <td>1</td>\n",
       "      <td>0</td>\n",
       "      <td>0</td>\n",
       "      <td>0</td>\n",
       "      <td>0</td>\n",
       "      <td>0</td>\n",
       "      <td>0</td>\n",
       "      <td>1</td>\n",
       "    </tr>\n",
       "    <tr>\n",
       "      <th>10636</th>\n",
       "      <td>0</td>\n",
       "      <td>-949.003202</td>\n",
       "      <td>27</td>\n",
       "      <td>1</td>\n",
       "      <td>0</td>\n",
       "      <td>0</td>\n",
       "      <td>0</td>\n",
       "      <td>0</td>\n",
       "      <td>0</td>\n",
       "      <td>1</td>\n",
       "      <td>...</td>\n",
       "      <td>0</td>\n",
       "      <td>55584.489585</td>\n",
       "      <td>0</td>\n",
       "      <td>1</td>\n",
       "      <td>0</td>\n",
       "      <td>0</td>\n",
       "      <td>0</td>\n",
       "      <td>0</td>\n",
       "      <td>0</td>\n",
       "      <td>1</td>\n",
       "    </tr>\n",
       "    <tr>\n",
       "      <th>7295</th>\n",
       "      <td>1</td>\n",
       "      <td>-2551.443820</td>\n",
       "      <td>47</td>\n",
       "      <td>1</td>\n",
       "      <td>0</td>\n",
       "      <td>0</td>\n",
       "      <td>0</td>\n",
       "      <td>0</td>\n",
       "      <td>0</td>\n",
       "      <td>0</td>\n",
       "      <td>...</td>\n",
       "      <td>0</td>\n",
       "      <td>190677.523806</td>\n",
       "      <td>0</td>\n",
       "      <td>0</td>\n",
       "      <td>1</td>\n",
       "      <td>0</td>\n",
       "      <td>0</td>\n",
       "      <td>0</td>\n",
       "      <td>1</td>\n",
       "      <td>1</td>\n",
       "    </tr>\n",
       "    <tr>\n",
       "      <th>4027</th>\n",
       "      <td>1</td>\n",
       "      <td>-1320.752994</td>\n",
       "      <td>24</td>\n",
       "      <td>0</td>\n",
       "      <td>1</td>\n",
       "      <td>0</td>\n",
       "      <td>0</td>\n",
       "      <td>0</td>\n",
       "      <td>1</td>\n",
       "      <td>0</td>\n",
       "      <td>...</td>\n",
       "      <td>0</td>\n",
       "      <td>146808.716580</td>\n",
       "      <td>1</td>\n",
       "      <td>0</td>\n",
       "      <td>0</td>\n",
       "      <td>0</td>\n",
       "      <td>0</td>\n",
       "      <td>0</td>\n",
       "      <td>1</td>\n",
       "      <td>1</td>\n",
       "    </tr>\n",
       "    <tr>\n",
       "      <th>6441</th>\n",
       "      <td>2</td>\n",
       "      <td>-740.482718</td>\n",
       "      <td>31</td>\n",
       "      <td>0</td>\n",
       "      <td>1</td>\n",
       "      <td>0</td>\n",
       "      <td>0</td>\n",
       "      <td>0</td>\n",
       "      <td>0</td>\n",
       "      <td>0</td>\n",
       "      <td>...</td>\n",
       "      <td>0</td>\n",
       "      <td>72519.077070</td>\n",
       "      <td>0</td>\n",
       "      <td>0</td>\n",
       "      <td>1</td>\n",
       "      <td>0</td>\n",
       "      <td>0</td>\n",
       "      <td>0</td>\n",
       "      <td>1</td>\n",
       "      <td>1</td>\n",
       "    </tr>\n",
       "  </tbody>\n",
       "</table>\n",
       "<p>5 rows × 31 columns</p>\n",
       "</div>"
      ],
      "text/plain": [
       "       children  days_employed  dob_years  education_высшее  \\\n",
       "7782          0   -2404.645709         59                 1   \n",
       "10636         0    -949.003202         27                 1   \n",
       "7295          1   -2551.443820         47                 1   \n",
       "4027          1   -1320.752994         24                 0   \n",
       "6441          2    -740.482718         31                 0   \n",
       "\n",
       "       education_среднее  education_неоконченное высшее  education_начальное  \\\n",
       "7782                   0                              0                    0   \n",
       "10636                  0                              0                    0   \n",
       "7295                   0                              0                    0   \n",
       "4027                   1                              0                    0   \n",
       "6441                   1                              0                    0   \n",
       "\n",
       "       education_ученая степень  family_status_гражданский брак  \\\n",
       "7782                          0                               1   \n",
       "10636                         0                               0   \n",
       "7295                          0                               0   \n",
       "4027                          0                               1   \n",
       "6441                          0                               0   \n",
       "\n",
       "       family_status_Не женат / не замужем  ...  debt   total_income  \\\n",
       "7782                                     0  ...     0  372580.183620   \n",
       "10636                                    1  ...     0   55584.489585   \n",
       "7295                                     0  ...     0  190677.523806   \n",
       "4027                                     0  ...     0  146808.716580   \n",
       "6441                                     0  ...     0   72519.077070   \n",
       "\n",
       "       purpose_Свадьба  purpose_Недвижимость  purpose_Авто  \\\n",
       "7782                 1                     0             0   \n",
       "10636                0                     1             0   \n",
       "7295                 0                     0             1   \n",
       "4027                 1                     0             0   \n",
       "6441                 0                     0             1   \n",
       "\n",
       "       purpose_Образование  isna_de_ti  isna_children  has_children  \\\n",
       "7782                     0           0              0             0   \n",
       "10636                    0           0              0             0   \n",
       "7295                     0           0              0             1   \n",
       "4027                     0           0              0             1   \n",
       "6441                     0           0              0             1   \n",
       "\n",
       "       days_employed?  \n",
       "7782                1  \n",
       "10636               1  \n",
       "7295                1  \n",
       "4027                1  \n",
       "6441                1  \n",
       "\n",
       "[5 rows x 31 columns]"
      ]
     },
     "execution_count": 48,
     "metadata": {},
     "output_type": "execute_result"
    }
   ],
   "source": [
    "df_train.head()"
   ]
  },
  {
   "cell_type": "markdown",
   "id": "aed4951b-486e-4304-b2e9-76403cfaf97c",
   "metadata": {},
   "source": [
    "# Модель\n",
    "\n",
    "Теперь можно сделать бейслайн кредитного скоринга, я буду использовать CatBoost, оценивать по roc_auc и gini, в конце посмотрим на важности."
   ]
  },
  {
   "cell_type": "code",
   "execution_count": 49,
   "id": "923237d9-7d5b-4dc8-9206-e62209125149",
   "metadata": {},
   "outputs": [
    {
     "name": "stdout",
     "output_type": "stream",
     "text": [
      "Train shape : (14852, 30)\n",
      "Val shape : (3211, 30)\n",
      "Test shape : (3218, 30)\n"
     ]
    }
   ],
   "source": [
    "y_train = np.array(df_train['debt'])\n",
    "df_train.drop(['debt'], axis=1, inplace=True)\n",
    "y_val = np.array(df_val['debt'])\n",
    "df_val.drop(['debt'], axis=1, inplace=True)\n",
    "y_test = np.array(df_test['debt'])\n",
    "df_test.drop(['debt'], axis=1, inplace=True)\n",
    "\n",
    "\n",
    "X_train = np.array(df_train)\n",
    "X_val = np.array(df_val)\n",
    "X_test = np.array(df_test)\n",
    "\n",
    "\n",
    "print(f'Train shape : {X_train.shape}')\n",
    "print(f'Val shape : {X_val.shape}')\n",
    "print(f'Test shape : {X_test.shape}')"
   ]
  },
  {
   "cell_type": "code",
   "execution_count": 50,
   "id": "a477ef03-8e9f-4a92-b6be-d01c3363eabe",
   "metadata": {},
   "outputs": [
    {
     "name": "stdout",
     "output_type": "stream",
     "text": [
      "0:\tlearn: 0.6920959\ttest: 0.6921007\tbest: 0.6921007 (0)\ttotal: 194ms\tremaining: 9m 42s\n",
      "250:\tlearn: 0.5002734\ttest: 0.5001447\tbest: 0.5001447 (250)\ttotal: 5.72s\tremaining: 1m 2s\n",
      "500:\tlearn: 0.3981884\ttest: 0.3980358\tbest: 0.3980358 (500)\ttotal: 10.6s\tremaining: 52.7s\n",
      "750:\tlearn: 0.3435078\ttest: 0.3433651\tbest: 0.3433651 (750)\ttotal: 15.7s\tremaining: 47s\n",
      "1000:\tlearn: 0.3135157\ttest: 0.3134741\tbest: 0.3134741 (1000)\ttotal: 20.5s\tremaining: 41s\n",
      "1250:\tlearn: 0.2964888\ttest: 0.2966449\tbest: 0.2966449 (1250)\ttotal: 25.3s\tremaining: 35.4s\n",
      "1500:\tlearn: 0.2865034\ttest: 0.2869645\tbest: 0.2869645 (1500)\ttotal: 30.1s\tremaining: 30.1s\n",
      "1750:\tlearn: 0.2803356\ttest: 0.2812005\tbest: 0.2812005 (1750)\ttotal: 35s\tremaining: 24.9s\n",
      "2000:\tlearn: 0.2763729\ttest: 0.2777124\tbest: 0.2777124 (2000)\ttotal: 39.9s\tremaining: 19.9s\n",
      "2250:\tlearn: 0.2735343\ttest: 0.2754723\tbest: 0.2754723 (2250)\ttotal: 45s\tremaining: 15s\n",
      "2500:\tlearn: 0.2714107\ttest: 0.2740466\tbest: 0.2740466 (2500)\ttotal: 50.5s\tremaining: 10.1s\n",
      "2750:\tlearn: 0.2696514\ttest: 0.2730689\tbest: 0.2730689 (2750)\ttotal: 55.8s\tremaining: 5.05s\n",
      "2999:\tlearn: 0.2681449\ttest: 0.2724409\tbest: 0.2724409 (2999)\ttotal: 1m 1s\tremaining: 0us\n",
      "\n",
      "bestTest = 0.2724409352\n",
      "bestIteration = 2999\n",
      "\n"
     ]
    },
    {
     "data": {
      "text/plain": [
       "<catboost.core.CatBoostClassifier at 0x2a5e0dcdf10>"
      ]
     },
     "execution_count": 50,
     "metadata": {},
     "output_type": "execute_result"
    }
   ],
   "source": [
    "from catboost import CatBoostClassifier\n",
    "\n",
    "model = CatBoostClassifier(iterations=3000,\n",
    "                            loss_function = 'Logloss',\n",
    "                            task_type=\"CPU\",\n",
    "                            max_depth=7,\n",
    "                            learning_rate= 0.001,\n",
    "                            random_state=1\n",
    "                            )\n",
    "\n",
    "model.fit(X = X_train,\n",
    "          y = y_train, \n",
    "          eval_set = (X_val, y_val),\n",
    "          verbose = 250,\n",
    "          early_stopping_rounds=50)"
   ]
  },
  {
   "cell_type": "code",
   "execution_count": 51,
   "id": "0b0113e4-7ebd-4887-b5e8-33e269bca330",
   "metadata": {},
   "outputs": [
    {
     "name": "stdout",
     "output_type": "stream",
     "text": [
      "Validation roc_auc score = 0.658347944671732\n",
      "Validation gini score = 0.31669588934346393\n",
      "Test roc_auc score = 0.6128927138279582\n",
      "Test gini score = 0.22578542765591636\n"
     ]
    }
   ],
   "source": [
    "from sklearn.metrics import roc_auc_score\n",
    "\n",
    "val_preds = model.predict_proba(X_val)[:, 1]\n",
    "\n",
    "print(f'Validation roc_auc score = {roc_auc_score(y_val.reshape(-1), val_preds)}')\n",
    "print(f'Validation gini score = {2 * roc_auc_score(y_val.reshape(-1), val_preds) - 1}')\n",
    "\n",
    "test_preds = model.predict_proba(X_test)[:, 1]\n",
    "print(f'Test roc_auc score = {roc_auc_score(y_test.reshape(-1), test_preds)}')\n",
    "print(f'Test gini score = {2 * roc_auc_score(y_test.reshape(-1), test_preds) - 1}')"
   ]
  },
  {
   "cell_type": "code",
   "execution_count": 52,
   "id": "bcddf0f1-3552-486b-a9e5-6a664d9a8d11",
   "metadata": {},
   "outputs": [
    {
     "data": {
      "image/png": "[encoded data removed]",
      "text/plain": [
       "<Figure size 864x432 with 1 Axes>"
      ]
     },
     "metadata": {
      "needs_background": "light"
     },
     "output_type": "display_data"
    }
   ],
   "source": [
    "feat_importances = pd.Series(model.feature_importances_, index=df_train.columns).sort_values()\n",
    "plt.figure(figsize=(12,6))\n",
    "feat_importances.plot(kind='barh')\n",
    "plt.show()"
   ]
  },
  {
   "cell_type": "markdown",
   "id": "e96b3d7c-9572-4fec-96ff-aea3b4d54858",
   "metadata": {},
   "source": [
    "Результаты лучше чем 50 на 50, но еще есть куда расти. Модель увидела зависимости между наличием детей и таргетом, мы доказали ее статистически, для гражданского брака, Автокредита, неженатых, и т.д статистические наблюдения также более менее подтверждаются моделью. Наиболее важный признак это возраст, трудовой стаж и доход, также важно чтобы у человека было высшее образование.\n",
    "\n",
    "В целом видно, что модель находит похожие закономерности, с теми, которые ранее были найдены статистически. Можно провести более подробное исследование, также можно дополнительно поработать с данными, например понять что такое отрицательный стаж, разбить на бины зарплаты и возраст,  нагенерить еще новые признаки, потюнить модель или попробовать другую и тд. Тогда скор точно улучшится, но я пока остановлюсь на этом."
   ]
  }
 ],
 "metadata": {
  "kernelspec": {
   "display_name": "Python 3 (ipykernel)",
   "language": "python",
   "name": "python3"
  },
  "language_info": {
   "codemirror_mode": {
    "name": "ipython",
    "version": 3
   },
   "file_extension": ".py",
   "mimetype": "text/x-python",
   "name": "python",
   "nbconvert_exporter": "python",
   "pygments_lexer": "ipython3",
   "version": "3.8.12"
  }
 },
 "nbformat": 4,
 "nbformat_minor": 5
}
